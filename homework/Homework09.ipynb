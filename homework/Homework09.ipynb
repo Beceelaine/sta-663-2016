{
 "cells": [
  {
   "cell_type": "markdown",
   "metadata": {},
   "source": [
    "**Due: 4 PM on Wednesday, 6 Apr 2016**"
   ]
  },
  {
   "cell_type": "markdown",
   "metadata": {},
   "source": [
    "Instructions\n",
    "-----\n",
    "\n",
    "Write code to solve all problems. The grading rubric includes the following criteria:\n",
    "\n",
    "- Correctness\n",
    "- Readability\n",
    "- Efficiency\n",
    "\n",
    "Please do not copy answers found on the web or elsewhere as it will not benefit your learning. Searching the web for general references etc. is OK. Some discussion with friends is fine too - but again, do not just copy their answer. \n",
    "\n",
    "**Honor Code: By submitting this assignment, you certify that this is your original work.**"
   ]
  },
  {
   "cell_type": "markdown",
   "metadata": {},
   "source": [
    "**Exercise 1 (25 points)**\n",
    "\n",
    "The following code calculates the total tax collected by the US government using the marginal tax rates for a single indiividual in 2003 (source: Wikipedia). An example will make calculation of marginal tax rates clear - suppose you earn $100,000. Your tax will be \n",
    "\n",
    "```python\n",
    "8925 * 0.11 + (36250 - 8925) * 0.15 + (87850 - 36250) * 0.25 + (100000 - 87850) * 0.28\n",
    "```\n",
    "\n",
    "Optimize the calculation of `tot_tax` using only Python libraries (you can use `numpy`) by writing more eficient code. Points will be awarded based on how much speedup you get over the original Python code."
   ]
  },
  {
   "cell_type": "code",
   "execution_count": 28,
   "metadata": {
    "collapsed": false
   },
   "outputs": [],
   "source": [
    "margins = [\n",
    "    (0, 0.1),\n",
    "    (8925, 0.15),\n",
    "    (36250, 0.25),\n",
    "    (87850, 0.28),\n",
    "    (183250, 0.33),\n",
    "    (398350, 0.35),\n",
    "    (400000,0.396)\n",
    "]\n",
    "\n",
    "def tax(income):\n",
    "    tot = 0\n",
    "    rem = income\n",
    "    if rem > margins[6][0]:\n",
    "        tot += (rem - margins[6][0]) * margins[6][1] \n",
    "        rem = margins[6][0]\n",
    "    if rem > margins[5][0]:\n",
    "        tot += (rem - margins[5][0]) * margins[5][1] \n",
    "        rem = margins[5][0]\n",
    "    if rem > margins[4][0]:\n",
    "        tot += (rem - margins[4][0]) * margins[4][1] \n",
    "        rem = margins[4][0]\n",
    "    if rem > margins[3][0]:\n",
    "        tot += (rem - margins[3][0]) * margins[3][1] \n",
    "        rem = margins[3][0]\n",
    "    if rem > margins[2][0]:\n",
    "        tot += (rem - margins[2][0]) * margins[2][1] \n",
    "        rem = margins[2][0]\n",
    "    if rem > margins[1][0]:\n",
    "        tot += (rem - margins[1][0]) * margins[1][1] \n",
    "        rem = margins[1][0]\n",
    "    tot += rem * margins[0][1]\n",
    "    return tot\n",
    "\n",
    "def tot_tax(incomes):\n",
    "    tot = 0\n",
    "    for income in incomes:\n",
    "        tot += tax(income)\n",
    "    return tot"
   ]
  },
  {
   "cell_type": "code",
   "execution_count": 37,
   "metadata": {
    "collapsed": false
   },
   "outputs": [],
   "source": [
    "np.random.seed(123)\n",
    "n = int(1e6)\n",
    "incomes = np.random.lognormal(10, 2, n)"
   ]
  },
  {
   "cell_type": "code",
   "execution_count": 39,
   "metadata": {
    "collapsed": false
   },
   "outputs": [
    {
     "name": "stdout",
     "output_type": "stream",
     "text": [
      "CPU times: user 3.16 s, sys: 5.94 ms, total: 3.17 s\n",
      "Wall time: 3.17 s\n"
     ]
    }
   ],
   "source": [
    "%%time\n",
    "tot = tot_tax(incomes)\n",
    "tot"
   ]
  },
  {
   "cell_type": "code",
   "execution_count": null,
   "metadata": {
    "collapsed": true
   },
   "outputs": [],
   "source": [
    "\n",
    "\n",
    "\n"
   ]
  },
  {
   "cell_type": "markdown",
   "metadata": {},
   "source": [
    "**Exercise 2 (25 points)**\n",
    "\n",
    "Optimize the calculation of tot_tax using Cython to compile to native code. Points will be awarded based on how much speedup you get over the original Python code."
   ]
  },
  {
   "cell_type": "code",
   "execution_count": null,
   "metadata": {
    "collapsed": true
   },
   "outputs": [],
   "source": [
    "\n",
    "\n",
    "\n",
    "\n"
   ]
  },
  {
   "cell_type": "markdown",
   "metadata": {},
   "source": [
    "**Exercise 3 (25 points)**\n",
    "\n",
    "Write a `numba` UFunc to"
   ]
  },
  {
   "cell_type": "code",
   "execution_count": null,
   "metadata": {
    "collapsed": true
   },
   "outputs": [],
   "source": []
  },
  {
   "cell_type": "code",
   "execution_count": null,
   "metadata": {
    "collapsed": true
   },
   "outputs": [],
   "source": []
  }
 ],
 "metadata": {
  "kernelspec": {
   "display_name": "Python 3",
   "language": "python",
   "name": "python3"
  },
  "language_info": {
   "codemirror_mode": {
    "name": "ipython",
    "version": 3
   },
   "file_extension": ".py",
   "mimetype": "text/x-python",
   "name": "python",
   "nbconvert_exporter": "python",
   "pygments_lexer": "ipython3",
   "version": "3.5.1"
  }
 },
 "nbformat": 4,
 "nbformat_minor": 0
}
