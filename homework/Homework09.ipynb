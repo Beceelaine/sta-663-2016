{
 "cells": [
  {
   "cell_type": "markdown",
   "metadata": {},
   "source": [
    "**Due: 4 PM on Wednesday, 13 Apr 2016**"
   ]
  },
  {
   "cell_type": "markdown",
   "metadata": {},
   "source": [
    "Instructions\n",
    "-----\n",
    "\n",
    "Write code to solve all problems. The grading rubric includes the following criteria:\n",
    "\n",
    "- Correctness\n",
    "- Readability\n",
    "- Efficiency\n",
    "\n",
    "For this exercise, the most important grading criteria is how much your optimizations improved run-times.\n",
    "\n",
    "Please do not copy answers found on the web or elsewhere as it will not benefit your learning. Searching the web for general references etc. is OK. Some discussion with friends is fine too - but again, do not just copy their answer. \n",
    "\n",
    "**Honor Code: By submitting this assignment, you certify that this is your original work.**"
   ]
  },
  {
   "cell_type": "markdown",
   "metadata": {},
   "source": [
    "**Exercise 1 (100 points)**\n",
    "\n",
    "The code given below performs a stochastic gradient descent to fit a quadratic polynomila to $n$ data points. Maake the code run faster by:\n",
    "\n",
    "1. Using vectorization on numpy arrays (20 points)\n",
    "1. Using `numba` JIT  (20 points)\n",
    "1. using `Cython` (20 poits)\n",
    "1. Rewrite the `sgd` function in C or C++ and wrap for use in Python (40 points)\n",
    "\n",
    "Replace the code stubs below with your otpimized code. Reprot the ratio optimized_time/original_time for each of the four parts."
   ]
  },
  {
   "cell_type": "code",
   "execution_count": 99,
   "metadata": {
    "collapsed": false
   },
   "outputs": [],
   "source": [
    "def sgd(b, x, y, max_iter, alpha):\n",
    "    for i in range(max_iter):\n",
    "        n = len(y)\n",
    "        idx = np.arange(n)\n",
    "        np.random.shuffle(idx)    \n",
    "        for j in idx:\n",
    "            b[0] -= alpha * (2*(b[0] + b[1]*x[j] + b[2]*x[j]**2 - y[j]))\n",
    "            b[1] =- alpha * (2*x[j] * (b[0] + b[1]*x[j] + b[2]*x[j]**2 - y[j]))\n",
    "            b[2] -= alpha * (2*x[j]**2 * (b[0] + b[1]*x[j] + b[2]*x[j]**2 - y[j]))\n",
    "    return b"
   ]
  },
  {
   "cell_type": "code",
   "execution_count": 100,
   "metadata": {
    "collapsed": false
   },
   "outputs": [],
   "source": [
    "n = 10000\n",
    "x = np.linspace(0, 10, n)\n",
    "y = 2*x**2 + 6*x + 3 + np.random.normal(0, 5, n)\n",
    "k = 100\n",
    "alpha = 0.0001\n",
    "b0 = np.random.random(3)"
   ]
  },
  {
   "cell_type": "code",
   "execution_count": 101,
   "metadata": {
    "collapsed": false
   },
   "outputs": [
    {
     "name": "stdout",
     "output_type": "stream",
     "text": [
      "[  1.41078095e+01   6.21023648e-03   2.46339669e+00]\n",
      "CPU times: user 9.62 s, sys: 11.5 ms, total: 9.63 s\n",
      "Wall time: 9.63 s\n"
     ]
    }
   ],
   "source": [
    "%%time\n",
    "np.random.seed(123)\n",
    "b = sgd(b0, x, y, k, alpha)\n",
    "print(b)"
   ]
  },
  {
   "cell_type": "code",
   "execution_count": 102,
   "metadata": {
    "collapsed": false
   },
   "outputs": [
    {
     "data": {
      "image/png": "[encoded data removed]",
      "text/plain": [
       "<matplotlib.figure.Figure at 0x11b4ecb38>"
      ]
     },
     "metadata": {},
     "output_type": "display_data"
    }
   ],
   "source": [
    "yhat = b[0] + b[1]*x+ b[2]*x**2\n",
    "idx = sorted(np.random.choice(n, 100))\n",
    "plt.scatter(x[idx], y[idx])\n",
    "plt.plot(x[idx], yhat[idx], c='red')\n",
    "pass"
   ]
  },
  {
   "cell_type": "markdown",
   "metadata": {},
   "source": [
    "### Using vectorization"
   ]
  },
  {
   "cell_type": "code",
   "execution_count": 103,
   "metadata": {
    "collapsed": true
   },
   "outputs": [],
   "source": [
    "def sgd_vec(b, x, y, max_iter, alpha):\n",
    "    return np.zeros(3)"
   ]
  },
  {
   "cell_type": "code",
   "execution_count": 104,
   "metadata": {
    "collapsed": false
   },
   "outputs": [
    {
     "name": "stdout",
     "output_type": "stream",
     "text": [
      "[ 0.  0.  0.]\n",
      "CPU times: user 636 µs, sys: 64 µs, total: 700 µs\n",
      "Wall time: 669 µs\n"
     ]
    }
   ],
   "source": [
    "%%time\n",
    "np.random.seed(123)\n",
    "b = sgd_vec(b0, x, y, k, alpha)\n",
    "print(b)"
   ]
  },
  {
   "cell_type": "markdown",
   "metadata": {},
   "source": [
    "#### Speed-up ratio"
   ]
  },
  {
   "cell_type": "code",
   "execution_count": null,
   "metadata": {
    "collapsed": true
   },
   "outputs": [],
   "source": []
  },
  {
   "cell_type": "markdown",
   "metadata": {},
   "source": [
    "### Using numba JIT"
   ]
  },
  {
   "cell_type": "code",
   "execution_count": 105,
   "metadata": {
    "collapsed": true
   },
   "outputs": [],
   "source": [
    "def sgd_numba(b, x, y, max_iter, alpha):\n",
    "    return np.zeros(3)"
   ]
  },
  {
   "cell_type": "code",
   "execution_count": 106,
   "metadata": {
    "collapsed": false
   },
   "outputs": [
    {
     "name": "stdout",
     "output_type": "stream",
     "text": [
      "[ 0.  0.  0.]\n",
      "CPU times: user 652 µs, sys: 119 µs, total: 771 µs\n",
      "Wall time: 729 µs\n"
     ]
    }
   ],
   "source": [
    "%%time\n",
    "b = sgd_numba(b0, x, y, k, alpha)\n",
    "print(b)"
   ]
  },
  {
   "cell_type": "markdown",
   "metadata": {},
   "source": [
    "#### Speed-up ratio"
   ]
  },
  {
   "cell_type": "code",
   "execution_count": null,
   "metadata": {
    "collapsed": true
   },
   "outputs": [],
   "source": []
  },
  {
   "cell_type": "markdown",
   "metadata": {},
   "source": [
    "### Using Cython"
   ]
  },
  {
   "cell_type": "code",
   "execution_count": 107,
   "metadata": {
    "collapsed": true
   },
   "outputs": [],
   "source": [
    "def sgd_cython(b, x, y, max_iter, alpha):\n",
    "    return np.zeros(3)"
   ]
  },
  {
   "cell_type": "code",
   "execution_count": 108,
   "metadata": {
    "collapsed": false
   },
   "outputs": [
    {
     "name": "stdout",
     "output_type": "stream",
     "text": [
      "[ 0.  0.  0.]\n",
      "CPU times: user 660 µs, sys: 89 µs, total: 749 µs\n",
      "Wall time: 697 µs\n"
     ]
    }
   ],
   "source": [
    "%%time\n",
    "np.random.seed(123)\n",
    "b = sgd_cython(b0, x, y, k, alpha)\n",
    "print(b)"
   ]
  },
  {
   "cell_type": "markdown",
   "metadata": {},
   "source": [
    "#### Speed-up ratio"
   ]
  },
  {
   "cell_type": "code",
   "execution_count": null,
   "metadata": {
    "collapsed": true
   },
   "outputs": [],
   "source": []
  },
  {
   "cell_type": "markdown",
   "metadata": {},
   "source": [
    "### Using C or C++"
   ]
  },
  {
   "cell_type": "code",
   "execution_count": 109,
   "metadata": {
    "collapsed": true
   },
   "outputs": [],
   "source": [
    "def sgd_wrap(b, x, y, max_iter, alpha):\n",
    "    return np.zeros(3)"
   ]
  },
  {
   "cell_type": "code",
   "execution_count": 110,
   "metadata": {
    "collapsed": false
   },
   "outputs": [
    {
     "name": "stdout",
     "output_type": "stream",
     "text": [
      "[ 0.  0.  0.]\n",
      "CPU times: user 662 µs, sys: 80 µs, total: 742 µs\n",
      "Wall time: 689 µs\n"
     ]
    }
   ],
   "source": [
    "%%time\n",
    "np.random.seed(123)\n",
    "b = sgd_wrap(b0, x, y, k, alpha)\n",
    "print(b)"
   ]
  },
  {
   "cell_type": "markdown",
   "metadata": {},
   "source": [
    "#### Speed-up ratio"
   ]
  },
  {
   "cell_type": "code",
   "execution_count": null,
   "metadata": {
    "collapsed": true
   },
   "outputs": [],
   "source": []
  }
 ],
 "metadata": {
  "kernelspec": {
   "display_name": "Python 3",
   "language": "python",
   "name": "python3"
  },
  "language_info": {
   "codemirror_mode": {
    "name": "ipython",
    "version": 3
   },
   "file_extension": ".py",
   "mimetype": "text/x-python",
   "name": "python",
   "nbconvert_exporter": "python",
   "pygments_lexer": "ipython3",
   "version": "3.5.1"
  }
 },
 "nbformat": 4,
 "nbformat_minor": 0
}
