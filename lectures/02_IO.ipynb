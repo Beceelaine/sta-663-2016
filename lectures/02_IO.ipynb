{
 "cells": [
  {
   "cell_type": "markdown",
   "metadata": {},
   "source": [
    "I/O\n",
    "-----\n",
    "\n",
    "This notebook explores how to load and save data in various formats."
   ]
  },
  {
   "cell_type": "markdown",
   "metadata": {},
   "source": [
    "### Text files"
   ]
  },
  {
   "cell_type": "code",
   "execution_count": 1,
   "metadata": {
    "collapsed": false
   },
   "outputs": [
    {
     "name": "stdout",
     "output_type": "stream",
     "text": [
      "Overwriting ../data/animals.txt\n"
     ]
    }
   ],
   "source": [
    "%%file ../data/animals.txt\n",
    "name|species|age|weight\n",
    "arun|cat|5|7.3\n",
    "bob|bird|2|1.5\n",
    "coco|cat|2|5.5\n",
    "dumbo|elephant|23|454\n",
    "elmo|dog|5|11\n",
    "fido|dog|3|24.5\n",
    "gumba|bird|2|2.7"
   ]
  },
  {
   "cell_type": "markdown",
   "metadata": {},
   "source": [
    "### Loading a text file"
   ]
  },
  {
   "cell_type": "markdown",
   "metadata": {},
   "source": [
    "#### Using a generator expression to read one line at a time\n",
    "\n",
    "Note the use of the `with` contxt manager - this automates the closing of the file resource once the `with` blcok is exited, avoiding leakage of system resources."
   ]
  },
  {
   "cell_type": "code",
   "execution_count": 2,
   "metadata": {
    "collapsed": false
   },
   "outputs": [
    {
     "name": "stdout",
     "output_type": "stream",
     "text": [
      "name|species|age|weight\n",
      "arun|cat|5|7.3\n",
      "bob|bird|2|1.5\n",
      "coco|cat|2|5.5\n",
      "dumbo|elephant|23|454\n",
      "elmo|dog|5|11\n",
      "fido|dog|3|24.5\n",
      "gumba|bird|2|2.7"
     ]
    }
   ],
   "source": [
    "with open('../data/animals.txt') as f:\n",
    "    for line in f:\n",
    "        print(line, end='')"
   ]
  },
  {
   "cell_type": "markdown",
   "metadata": {},
   "source": [
    "#### Reading into memory as a single string"
   ]
  },
  {
   "cell_type": "code",
   "execution_count": 3,
   "metadata": {
    "collapsed": false
   },
   "outputs": [
    {
     "name": "stdout",
     "output_type": "stream",
     "text": [
      "name|species|age|weight\n",
      "arun|cat|5|7.3\n",
      "bob|bird|2|1.5\n",
      "coco|cat|2|5.5\n",
      "dumbo|elephant|23|454\n",
      "elmo|dog|5|11\n",
      "fido|dog|3|24.5\n",
      "gumba|bird|2|2.7\n"
     ]
    }
   ],
   "source": [
    "with open('../data/animals.txt') as f:\n",
    "    text = f.read()\n",
    "print(text)"
   ]
  },
  {
   "cell_type": "markdown",
   "metadata": {},
   "source": [
    "#### Reading into memory as a list of strings"
   ]
  },
  {
   "cell_type": "code",
   "execution_count": 4,
   "metadata": {
    "collapsed": false
   },
   "outputs": [
    {
     "name": "stdout",
     "output_type": "stream",
     "text": [
      "['name|species|age|weight\\n', 'arun|cat|5|7.3\\n', 'bob|bird|2|1.5\\n', 'coco|cat|2|5.5\\n', 'dumbo|elephant|23|454\\n', 'elmo|dog|5|11\\n', 'fido|dog|3|24.5\\n', 'gumba|bird|2|2.7']\n"
     ]
    }
   ],
   "source": [
    "with open('../data/animals.txt') as f:\n",
    "    text = f.readlines()\n",
    "print(text)"
   ]
  },
  {
   "cell_type": "markdown",
   "metadata": {},
   "source": [
    "#### Tabular data can also be read with numpy or pandss"
   ]
  },
  {
   "cell_type": "code",
   "execution_count": 5,
   "metadata": {
    "collapsed": true
   },
   "outputs": [],
   "source": [
    "import numpy as np"
   ]
  },
  {
   "cell_type": "code",
   "execution_count": 6,
   "metadata": {
    "collapsed": false
   },
   "outputs": [
    {
     "data": {
      "text/plain": [
       "array([[\"b'name'\", \"b'species'\", \"b'age'\", \"b'weight'\"],\n",
       "       [\"b'arun'\", \"b'cat'\", \"b'5'\", \"b'7.3'\"],\n",
       "       [\"b'bob'\", \"b'bird'\", \"b'2'\", \"b'1.5'\"],\n",
       "       [\"b'coco'\", \"b'cat'\", \"b'2'\", \"b'5.5'\"],\n",
       "       [\"b'dumbo'\", \"b'elephant'\", \"b'23'\", \"b'454'\"],\n",
       "       [\"b'elmo'\", \"b'dog'\", \"b'5'\", \"b'11'\"],\n",
       "       [\"b'fido'\", \"b'dog'\", \"b'3'\", \"b'24.5'\"],\n",
       "       [\"b'gumba'\", \"b'bird'\", \"b'2'\", \"b'2.7'\"]], dtype=object)"
      ]
     },
     "execution_count": 6,
     "metadata": {},
     "output_type": "execute_result"
    }
   ],
   "source": [
    "np.loadtxt('../data/animals.txt', dtype='object', delimiter='|')"
   ]
  },
  {
   "cell_type": "code",
   "execution_count": 7,
   "metadata": {
    "collapsed": true
   },
   "outputs": [],
   "source": [
    "import pandas as pd"
   ]
  },
  {
   "cell_type": "code",
   "execution_count": 8,
   "metadata": {
    "collapsed": false
   },
   "outputs": [
    {
     "data": {
      "text/html": [
       "<div>\n",
       "<table border=\"1\" class=\"dataframe\">\n",
       "  <thead>\n",
       "    <tr style=\"text-align: right;\">\n",
       "      <th></th>\n",
       "      <th>name</th>\n",
       "      <th>species</th>\n",
       "      <th>age</th>\n",
       "      <th>weight</th>\n",
       "    </tr>\n",
       "  </thead>\n",
       "  <tbody>\n",
       "    <tr>\n",
       "      <th>0</th>\n",
       "      <td>arun</td>\n",
       "      <td>cat</td>\n",
       "      <td>5</td>\n",
       "      <td>7.3</td>\n",
       "    </tr>\n",
       "    <tr>\n",
       "      <th>1</th>\n",
       "      <td>bob</td>\n",
       "      <td>bird</td>\n",
       "      <td>2</td>\n",
       "      <td>1.5</td>\n",
       "    </tr>\n",
       "    <tr>\n",
       "      <th>2</th>\n",
       "      <td>coco</td>\n",
       "      <td>cat</td>\n",
       "      <td>2</td>\n",
       "      <td>5.5</td>\n",
       "    </tr>\n",
       "    <tr>\n",
       "      <th>3</th>\n",
       "      <td>dumbo</td>\n",
       "      <td>elephant</td>\n",
       "      <td>23</td>\n",
       "      <td>454.0</td>\n",
       "    </tr>\n",
       "    <tr>\n",
       "      <th>4</th>\n",
       "      <td>elmo</td>\n",
       "      <td>dog</td>\n",
       "      <td>5</td>\n",
       "      <td>11.0</td>\n",
       "    </tr>\n",
       "    <tr>\n",
       "      <th>5</th>\n",
       "      <td>fido</td>\n",
       "      <td>dog</td>\n",
       "      <td>3</td>\n",
       "      <td>24.5</td>\n",
       "    </tr>\n",
       "    <tr>\n",
       "      <th>6</th>\n",
       "      <td>gumba</td>\n",
       "      <td>bird</td>\n",
       "      <td>2</td>\n",
       "      <td>2.7</td>\n",
       "    </tr>\n",
       "  </tbody>\n",
       "</table>\n",
       "</div>"
      ],
      "text/plain": [
       "    name   species  age  weight\n",
       "0   arun       cat    5     7.3\n",
       "1    bob      bird    2     1.5\n",
       "2   coco       cat    2     5.5\n",
       "3  dumbo  elephant   23   454.0\n",
       "4   elmo       dog    5    11.0\n",
       "5   fido       dog    3    24.5\n",
       "6  gumba      bird    2     2.7"
      ]
     },
     "execution_count": 8,
     "metadata": {},
     "output_type": "execute_result"
    }
   ],
   "source": [
    "pd.read_table('../data/animals.txt', sep='|')"
   ]
  },
  {
   "cell_type": "markdown",
   "metadata": {},
   "source": [
    "### Saving a text file"
   ]
  },
  {
   "cell_type": "code",
   "execution_count": 9,
   "metadata": {
    "collapsed": true
   },
   "outputs": [],
   "source": [
    "s = \"\"\"\n",
    "name|species|age|weight\n",
    "arun|cat|5|7.3\n",
    "bob|bird|2|1.5\n",
    "coco|cat|2|5.5\n",
    "dumbo|elephant|23|454\n",
    "elmo|dog|5|11\n",
    "fido|dog|3|24.5\n",
    "gumba|bird|2|2.7\n",
    "\"\"\""
   ]
  },
  {
   "cell_type": "code",
   "execution_count": 10,
   "metadata": {
    "collapsed": true
   },
   "outputs": [],
   "source": [
    "with open('../data/animals2.txt', 'w') as f:\n",
    "    f.write(s)"
   ]
  },
  {
   "cell_type": "code",
   "execution_count": 11,
   "metadata": {
    "collapsed": false
   },
   "outputs": [
    {
     "name": "stdout",
     "output_type": "stream",
     "text": [
      "\r\n",
      "name|species|age|weight\r\n",
      "arun|cat|5|7.3\r\n",
      "bob|bird|2|1.5\r\n",
      "coco|cat|2|5.5\r\n",
      "dumbo|elephant|23|454\r\n",
      "elmo|dog|5|11\r\n",
      "fido|dog|3|24.5\r\n",
      "gumba|bird|2|2.7\r\n"
     ]
    }
   ],
   "source": [
    "!cat '../data/animals2.txt'"
   ]
  },
  {
   "cell_type": "markdown",
   "metadata": {},
   "source": [
    "### Web resources"
   ]
  },
  {
   "cell_type": "markdown",
   "metadata": {},
   "source": [
    "### Reading an unformatted web page"
   ]
  },
  {
   "cell_type": "code",
   "execution_count": 12,
   "metadata": {
    "collapsed": true
   },
   "outputs": [],
   "source": [
    "import requests"
   ]
  },
  {
   "cell_type": "code",
   "execution_count": 13,
   "metadata": {
    "collapsed": true
   },
   "outputs": [],
   "source": [
    "# Only download once - Project Gutenburg will block you if you do this repeatedly\n",
    "\n",
    "try:\n",
    "    with open('../data/Ulysses.txt') as f:\n",
    "        text = f.read()\n",
    "except IOError:\n",
    "    url = 'http://www.gutenberg.org/cache/epub/4300/pg4300.txt'\n",
    "    resp = requests.get(url)\n",
    "    text = resp.text\n",
    "    with open('../data/Ulysses.txt', 'w') as f:\n",
    "        f.write(text)"
   ]
  },
  {
   "cell_type": "code",
   "execution_count": 14,
   "metadata": {
    "collapsed": false
   },
   "outputs": [
    {
     "name": "stdout",
     "output_type": "stream",
     "text": [
      "﻿The Project Gutenberg EBook of Ulysses, by James Joyce\n",
      "\n",
      "This eBook is for the use of anyone anywhere at no cost and with\n",
      "almost no restrictions whatsoever.  You may copy it, give it away or\n",
      "re-use it under the terms of the Project Gutenberg License included\n",
      "with this eBook or online at www.gutenberg.org\n",
      "\n",
      "\n",
      "Title: Ulysses\n",
      "\n",
      "Author: James Joyce\n",
      "\n",
      "Posting Date: August 1, 2008 [EBook #4300]\n",
      "Release Date: July, 2003\n",
      "[Last updated: November 17, 2011]\n",
      "\n",
      "Language: English\n",
      "\n",
      "\n",
      "*** START OF THIS PROJECT GUTENBERG EBOOK ULYSSES ***\n",
      "\n",
      "\n",
      "\n",
      "\n",
      "Produced by Col Choat\n",
      "\n",
      "\n",
      "\n",
      "\n",
      "\n",
      "ULYSSES\n",
      "\n",
      "by James Joyce\n",
      "\n",
      "\n",
      "\n",
      "\n",
      "-- I --\n",
      "\n",
      "Stately, plump Buck Mulligan came from the stairhead, bearing a bowl of\n",
      "lather on which a mirror and a razor lay crossed. A yellow dressinggown,\n",
      "ungirdled, was sustained gently behind him on the mild morning air. He\n",
      "held the bowl aloft and intoned:\n",
      "\n",
      "--_Introibo ad altare Dei_.\n",
      "\n",
      "Halted, he peered down the dark winding stairs and called out coarsely:\n",
      "\n",
      "--Come up, Kinch! Come up, you fearful jesuit!\n",
      "\n",
      "Solemnly h\n"
     ]
    }
   ],
   "source": [
    "print(text[:1000])"
   ]
  },
  {
   "cell_type": "markdown",
   "metadata": {},
   "source": [
    "### Getting a table from a URL\n",
    "\n",
    "It might be necesary to install some packages before this works."
   ]
  },
  {
   "cell_type": "code",
   "execution_count": 27,
   "metadata": {
    "collapsed": false
   },
   "outputs": [
    {
     "data": {
      "text/html": [
       "<div>\n",
       "<table border=\"1\" class=\"dataframe\">\n",
       "  <thead>\n",
       "    <tr style=\"text-align: right;\">\n",
       "      <th></th>\n",
       "      <th>Fiscal year is October-September. All values USD millions.</th>\n",
       "      <th>2011</th>\n",
       "      <th>2012</th>\n",
       "      <th>2013</th>\n",
       "      <th>2014</th>\n",
       "      <th>2015</th>\n",
       "      <th>5-year trend</th>\n",
       "    </tr>\n",
       "  </thead>\n",
       "  <tbody>\n",
       "    <tr>\n",
       "      <th>0</th>\n",
       "      <td>Sales/Revenue</td>\n",
       "      <td>108.6B</td>\n",
       "      <td>155.97B</td>\n",
       "      <td>170.87B</td>\n",
       "      <td>183.24B</td>\n",
       "      <td>231.28B</td>\n",
       "      <td>NaN</td>\n",
       "    </tr>\n",
       "    <tr>\n",
       "      <th>1</th>\n",
       "      <td>Sales Growth</td>\n",
       "      <td>-</td>\n",
       "      <td>43.62%</td>\n",
       "      <td>9.55%</td>\n",
       "      <td>7.24%</td>\n",
       "      <td>26.22%</td>\n",
       "      <td>NaN</td>\n",
       "    </tr>\n",
       "    <tr>\n",
       "      <th>2</th>\n",
       "      <td>Cost of Goods Sold (COGS) incl. D&amp;A</td>\n",
       "      <td>64.08B</td>\n",
       "      <td>87.92B</td>\n",
       "      <td>107.24B</td>\n",
       "      <td>112.55B</td>\n",
       "      <td>142.26B</td>\n",
       "      <td>NaN</td>\n",
       "    </tr>\n",
       "    <tr>\n",
       "      <th>3</th>\n",
       "      <td>COGS excluding D&amp;A</td>\n",
       "      <td>62.26B</td>\n",
       "      <td>84.64B</td>\n",
       "      <td>100.48B</td>\n",
       "      <td>104.61B</td>\n",
       "      <td>131B</td>\n",
       "      <td>NaN</td>\n",
       "    </tr>\n",
       "    <tr>\n",
       "      <th>4</th>\n",
       "      <td>Depreciation &amp; Amortization Expense</td>\n",
       "      <td>1.81B</td>\n",
       "      <td>3.28B</td>\n",
       "      <td>6.76B</td>\n",
       "      <td>7.95B</td>\n",
       "      <td>11.26B</td>\n",
       "      <td>NaN</td>\n",
       "    </tr>\n",
       "    <tr>\n",
       "      <th>5</th>\n",
       "      <td>Depreciation</td>\n",
       "      <td>1.62B</td>\n",
       "      <td>2.6B</td>\n",
       "      <td>5.8B</td>\n",
       "      <td>6.85B</td>\n",
       "      <td>9.96B</td>\n",
       "      <td>NaN</td>\n",
       "    </tr>\n",
       "    <tr>\n",
       "      <th>6</th>\n",
       "      <td>Amortization of Intangibles</td>\n",
       "      <td>192M</td>\n",
       "      <td>677M</td>\n",
       "      <td>960M</td>\n",
       "      <td>1.1B</td>\n",
       "      <td>1.3B</td>\n",
       "      <td>NaN</td>\n",
       "    </tr>\n",
       "    <tr>\n",
       "      <th>7</th>\n",
       "      <td>COGS Growth</td>\n",
       "      <td>-</td>\n",
       "      <td>37.21%</td>\n",
       "      <td>21.98%</td>\n",
       "      <td>4.96%</td>\n",
       "      <td>26.39%</td>\n",
       "      <td>NaN</td>\n",
       "    </tr>\n",
       "    <tr>\n",
       "      <th>8</th>\n",
       "      <td>Gross Income</td>\n",
       "      <td>44.52B</td>\n",
       "      <td>68.06B</td>\n",
       "      <td>63.63B</td>\n",
       "      <td>70.69B</td>\n",
       "      <td>89.03B</td>\n",
       "      <td>NaN</td>\n",
       "    </tr>\n",
       "    <tr>\n",
       "      <th>9</th>\n",
       "      <td>Gross Income Growth</td>\n",
       "      <td>-</td>\n",
       "      <td>52.86%</td>\n",
       "      <td>-6.51%</td>\n",
       "      <td>11.10%</td>\n",
       "      <td>25.94%</td>\n",
       "      <td>NaN</td>\n",
       "    </tr>\n",
       "    <tr>\n",
       "      <th>10</th>\n",
       "      <td>Gross Profit Margin</td>\n",
       "      <td>-</td>\n",
       "      <td>-</td>\n",
       "      <td>-</td>\n",
       "      <td>-</td>\n",
       "      <td>38.49%</td>\n",
       "      <td>NaN</td>\n",
       "    </tr>\n",
       "  </tbody>\n",
       "</table>\n",
       "</div>"
      ],
      "text/plain": [
       "   Fiscal year is October-September. All values USD millions.    2011  \\\n",
       "0                                       Sales/Revenue          108.6B   \n",
       "1                                        Sales Growth               -   \n",
       "2                 Cost of Goods Sold (COGS) incl. D&A          64.08B   \n",
       "3                                  COGS excluding D&A          62.26B   \n",
       "4                 Depreciation & Amortization Expense           1.81B   \n",
       "5                                        Depreciation           1.62B   \n",
       "6                         Amortization of Intangibles            192M   \n",
       "7                                         COGS Growth               -   \n",
       "8                                        Gross Income          44.52B   \n",
       "9                                 Gross Income Growth               -   \n",
       "10                                Gross Profit Margin               -   \n",
       "\n",
       "       2012     2013     2014     2015  5-year trend  \n",
       "0   155.97B  170.87B  183.24B  231.28B           NaN  \n",
       "1    43.62%    9.55%    7.24%   26.22%           NaN  \n",
       "2    87.92B  107.24B  112.55B  142.26B           NaN  \n",
       "3    84.64B  100.48B  104.61B     131B           NaN  \n",
       "4     3.28B    6.76B    7.95B   11.26B           NaN  \n",
       "5      2.6B     5.8B    6.85B    9.96B           NaN  \n",
       "6      677M     960M     1.1B     1.3B           NaN  \n",
       "7    37.21%   21.98%    4.96%   26.39%           NaN  \n",
       "8    68.06B   63.63B   70.69B   89.03B           NaN  \n",
       "9    52.86%   -6.51%   11.10%   25.94%           NaN  \n",
       "10        -        -        -   38.49%           NaN  "
      ]
     },
     "execution_count": 27,
     "metadata": {},
     "output_type": "execute_result"
    }
   ],
   "source": [
    "url = 'http://www.marketwatch.com/investing/stock/aapl/financials'\n",
    "pd.read_html(url, match=\"Fiscal year is October-September. All values USD millions\")[0]"
   ]
  },
  {
   "cell_type": "code",
   "execution_count": null,
   "metadata": {
    "collapsed": true
   },
   "outputs": [],
   "source": []
  }
 ],
 "metadata": {
  "kernelspec": {
   "display_name": "Python 3",
   "language": "python",
   "name": "python3"
  },
  "language_info": {
   "codemirror_mode": {
    "name": "ipython",
    "version": 3
   },
   "file_extension": ".py",
   "mimetype": "text/x-python",
   "name": "python",
   "nbconvert_exporter": "python",
   "pygments_lexer": "ipython3",
   "version": "3.5.1"
  }
 },
 "nbformat": 4,
 "nbformat_minor": 0
}
