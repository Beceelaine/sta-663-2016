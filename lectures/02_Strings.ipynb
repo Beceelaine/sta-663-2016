{
 "cells": [
  {
   "cell_type": "markdown",
   "metadata": {},
   "source": [
    "Strings\n",
    "----\n",
    "\n",
    "The process of cleaning data for analysis often requires working with text, for example, to correct typos, convert to standard nomenclature and resolve ambiguous labels. In some statistical fields that deal with (say) processing electronic medical records, information science or recommendations based on user feedback, text must be processed before analysis - for example, by converting to a bag of words.\n",
    "\n",
    "We will use a whimsical example to illustrate Python tools for *munging* text data using string methods and regular expreessions. Finally, we will see how to format text data for reproting. "
   ]
  },
  {
   "cell_type": "markdown",
   "metadata": {},
   "source": [
    "Get \"Through the Looking Glass\" \n",
    "---"
   ]
  },
  {
   "cell_type": "code",
   "execution_count": 204,
   "metadata": {
    "collapsed": false
   },
   "outputs": [],
   "source": [
    "import requests\n",
    "\n",
    "try:\n",
    "    with open('looking_glass.txt') as f:\n",
    "        text = f.read()\n",
    "except IOError:\n",
    "    url = 'http://www.gutenberg.org/cache/epub/12/pg12.txt'\n",
    "    res = requests.get(url)\n",
    "    text = res.text\n",
    "    with open('looking_glass.txt', 'w') as f:\n",
    "        f.write(str(text))"
   ]
  },
  {
   "cell_type": "markdown",
   "metadata": {},
   "source": [
    "Slice to get Jabberwocky\n",
    "----"
   ]
  },
  {
   "cell_type": "code",
   "execution_count": 202,
   "metadata": {
    "collapsed": false
   },
   "outputs": [],
   "source": [
    "start = text.find('JABBERWOCKY')"
   ]
  },
  {
   "cell_type": "code",
   "execution_count": 203,
   "metadata": {
    "collapsed": false
   },
   "outputs": [
    {
     "data": {
      "text/plain": [
       "\"JABBERWOCKY\\n\\n     'Twas brillig, and the slithy toves\\n      Did gyre and gimble in the wabe;\\n     All mimsy were the borogoves,\\n      And the mome raths outgrabe.\\n\\n     'Beware the Jabberwock, my son!\\n      The jaws that bite, the claws that catch!\\n     Beware the Jubjub bird, and shun\\n      The frumious Bandersnatch!'\\n\\n     He took his vorpal sword in hand:\\n      Long time the manxome foe he sought--\\n     So rested he by the Tumtum tree,\\n      And stood awhile in thought.\\n\\n     And as in uffish thought he stood,\\n      The Jabberwock, with eyes of flame,\\n     Came whiffling through the tulgey wood,\\n      And burbled as it came!\\n\\n     One, two! One, two! And through and through\\n      The vorpal blade went snicker-snack!\\n     He left it dead, and with its head\\n      He went galumphing back.\\n\\n     'And hast thou slain the Jabberwock?\\n      Come to my arms, my beamish boy!\\n     O frabjous day! Callooh! Callay!'\\n      He chortled in his joy.\\n\\n     'Twas brillig, and the slithy toves\\n      Did gyre and gimble in the wabe;\\n     All mimsy were the borogoves,\\n      And the mome raths outgrabe.\\n\\n\\n'It seems very pretty,' she said when she had finished it, 'but it's\\nRATHER hard to understand!' (You see she didn't like to confess, even\\nto herself, that she couldn't make it out at all.) 'Somehow it seems\\nto fill my head with ideas--only I don't exactly know what they are!\\nHowever, SOMEBODY killed SOMETHING: that's clear, at any rate--'\\n\\n'But oh!' thought Alice, suddenly jumping up, 'if I don't make haste I\\nshall have to go back through the Looking-glass, before I've seen what\\nthe rest of the house is like! Let's have a look at the garden first!'\\nShe was out of the room in a moment, and ran down stairs--or, at least,\\nit wasn't exactly running, but a new invention of hers for getting down\\nstairs quickly and easily, as Alice said to herself. She just kept the\\ntips of her fingers on the hand-rail, and floated gently down without\\neven touching the stairs with her feet; then she floate\""
      ]
     },
     "execution_count": 203,
     "metadata": {},
     "output_type": "execute_result"
    }
   ],
   "source": [
    "text[start:start+2000]"
   ]
  },
  {
   "cell_type": "code",
   "execution_count": 20,
   "metadata": {
    "collapsed": false
   },
   "outputs": [],
   "source": [
    "end = text.find('It seems very pretty', start)"
   ]
  },
  {
   "cell_type": "code",
   "execution_count": 25,
   "metadata": {
    "collapsed": false
   },
   "outputs": [
    {
     "data": {
      "text/plain": [
       "\"JABBERWOCKY\\r\\n\\r\\n     'Twas brillig, and the slithy toves\\r\\n      Did gyre and gimble in the wabe;\\r\\n     All mimsy were the borogoves,\\r\\n      And the mome raths outgrabe.\\r\\n\\r\\n     'Beware the Jabberwock, my son!\\r\\n      The jaws that bite, the claws that catch!\\r\\n     Beware the Jubjub bird, and shun\\r\\n      The frumious Bandersnatch!'\\r\\n\\r\\n     He took his vorpal sword in hand:\\r\\n      Long time the manxome foe he sought--\\r\\n     So rested he by the Tumtum tree,\\r\\n      And stood awhile in thought.\\r\\n\\r\\n     And as in uffish thought he stood,\\r\\n      The Jabberwock, with eyes of flame,\\r\\n     Came whiffling through the tulgey wood,\\r\\n      And burbled as it came!\\r\\n\\r\\n     One, two! One, two! And through and through\\r\\n      The vorpal blade went snicker-snack!\\r\\n     He left it dead, and with its head\\r\\n      He went galumphing back.\\r\\n\\r\\n     'And hast thou slain the Jabberwock?\\r\\n      Come to my arms, my beamish boy!\\r\\n     O frabjous day! Callooh! Callay!'\\r\\n      He chortled in his joy.\\r\\n\\r\\n     'Twas brillig, and the slithy toves\\r\\n      Did gyre and gimble in the wabe;\\r\\n     All mimsy were the borogoves,\\r\\n      And the mome raths outgrabe.\\r\\n\\r\\n\\r\\n'\""
      ]
     },
     "execution_count": 25,
     "metadata": {},
     "output_type": "execute_result"
    }
   ],
   "source": [
    "poem = text[start:end]\n",
    "poem"
   ]
  },
  {
   "cell_type": "code",
   "execution_count": 26,
   "metadata": {
    "collapsed": false
   },
   "outputs": [
    {
     "name": "stdout",
     "output_type": "stream",
     "text": [
      "JABBERWOCKY\r\n",
      "\r\n",
      "     'Twas brillig, and the slithy toves\r\n",
      "      Did gyre and gimble in the wabe;\r\n",
      "     All mimsy were the borogoves,\r\n",
      "      And the mome raths outgrabe.\r\n",
      "\r\n",
      "     'Beware the Jabberwock, my son!\r\n",
      "      The jaws that bite, the claws that catch!\r\n",
      "     Beware the Jubjub bird, and shun\r\n",
      "      The frumious Bandersnatch!'\r\n",
      "\r\n",
      "     He took his vorpal sword in hand:\r\n",
      "      Long time the manxome foe he sought--\r\n",
      "     So rested he by the Tumtum tree,\r\n",
      "      And stood awhile in thought.\r\n",
      "\r\n",
      "     And as in uffish thought he stood,\r\n",
      "      The Jabberwock, with eyes of flame,\r\n",
      "     Came whiffling through the tulgey wood,\r\n",
      "      And burbled as it came!\r\n",
      "\r\n",
      "     One, two! One, two! And through and through\r\n",
      "      The vorpal blade went snicker-snack!\r\n",
      "     He left it dead, and with its head\r\n",
      "      He went galumphing back.\r\n",
      "\r\n",
      "     'And hast thou slain the Jabberwock?\r\n",
      "      Come to my arms, my beamish boy!\r\n",
      "     O frabjous day! Callooh! Callay!'\r\n",
      "      He chortled in his joy.\r\n",
      "\r\n",
      "     'Twas brillig, and the slithy toves\r\n",
      "      Did gyre and gimble in the wabe;\r\n",
      "     All mimsy were the borogoves,\r\n",
      "      And the mome raths outgrabe.\r\n",
      "\r\n",
      "\r\n",
      "'\n"
     ]
    }
   ],
   "source": [
    "print(poem)"
   ]
  },
  {
   "cell_type": "code",
   "execution_count": 184,
   "metadata": {
    "collapsed": false
   },
   "outputs": [
    {
     "name": "stdout",
     "output_type": "stream",
     "text": [
      "Jabberwocky\r\n",
      "\r\n",
      "     Twas Brillig And The Slithy Toves\r\n",
      "      Did Gyre And Gimble In The Wabe\r\n",
      "     All Mimsy Were The Borogoves\r\n",
      "      And The Mome Raths Outgrabe\r\n",
      "\r\n",
      "     Beware The Jabberwock My Son\r\n",
      "      The Jaws That Bite The Claws That Catch\r\n",
      "     Beware The Jubjub Bird And Shun\r\n",
      "      The Frumious Bandersnatch\r\n",
      "\r\n",
      "     He Took His Vorpal Sword In Hand\r\n",
      "      Long Time The Manxome Foe He Sought\r\n",
      "     So Rested He By The Tumtum Tree\r\n",
      "      And Stood Awhile In Thought\r\n",
      "\r\n",
      "     And As In Uffish Thought He Stood\r\n",
      "      The Jabberwock With Eyes Of Flame\r\n",
      "     Came Whiffling Through The Tulgey Wood\r\n",
      "      And Burbled As It Came\r\n",
      "\r\n",
      "     One Two One Two And Through And Through\r\n",
      "      The Vorpal Blade Went Snickersnack\r\n",
      "     He Left It Dead And With Its Head\r\n",
      "      He Went Galumphing Back\r\n",
      "\r\n",
      "     And Hast Thou Slain The Jabberwock\r\n",
      "      Come To My Arms My Beamish Boy\r\n",
      "     O Frabjous Day Callooh Callay\r\n",
      "      He Chortled In His Joy\r\n",
      "\r\n",
      "     Twas Brillig And The Slithy Toves\r\n",
      "      Did Gyre And Gimble In The Wabe\r\n",
      "     All Mimsy Were The Borogoves\r\n",
      "      And The Mome Raths Outgrabe\r\n",
      "\r\n",
      "\r\n",
      "\n"
     ]
    }
   ],
   "source": [
    "print(poem.title())"
   ]
  },
  {
   "cell_type": "code",
   "execution_count": 185,
   "metadata": {
    "collapsed": false
   },
   "outputs": [
    {
     "data": {
      "text/plain": [
       "19"
      ]
     },
     "execution_count": 185,
     "metadata": {},
     "output_type": "execute_result"
    }
   ],
   "source": [
    "poem.count('the')"
   ]
  },
  {
   "cell_type": "code",
   "execution_count": 188,
   "metadata": {
    "collapsed": false
   },
   "outputs": [
    {
     "name": "stdout",
     "output_type": "stream",
     "text": [
      "jabberwocky\r\n",
      "\r\n",
      "     twas brillig and XXX slithy toves\r\n",
      "      did gyre and gimble in XXX wabe\r\n",
      "     all mimsy were XXX borogoves\r\n",
      "      and XXX mome raths outgrabe\r\n",
      "\r\n",
      "     beware XXX jabberwock my son\r\n",
      "      XXX jaws that bite XXX claws that catch\r\n",
      "     beware XXX jubjub bird and shun\r\n",
      "      XXX frumious bandersnatch\r\n",
      "\r\n",
      "     he took his vorpal sword in hand\r\n",
      "      long time XXX manxome foe he sought\r\n",
      "     so rested he by XXX tumtum tree\r\n",
      "      and stood awhile in thought\r\n",
      "\r\n",
      "     and as in uffish thought he stood\r\n",
      "      XXX jabberwock with eyes of flame\r\n",
      "     came whiffling through XXX tulgey wood\r\n",
      "      and burbled as it came\r\n",
      "\r\n",
      "     one two one two and through and through\r\n",
      "      XXX vorpal blade went snickersnack\r\n",
      "     he left it dead and with its head\r\n",
      "      he went galumphing back\r\n",
      "\r\n",
      "     and hast thou slain XXX jabberwock\r\n",
      "      come to my arms my beamish boy\r\n",
      "     o frabjous day callooh callay\r\n",
      "      he chortled in his joy\r\n",
      "\r\n",
      "     twas brillig and XXX slithy toves\r\n",
      "      did gyre and gimble in XXX wabe\r\n",
      "     all mimsy were XXX borogoves\r\n",
      "      and XXX mome raths outgrabe\r\n",
      "\r\n",
      "\r\n",
      "\n"
     ]
    }
   ],
   "source": [
    "print(poem.replace('the', 'XXX'))"
   ]
  },
  {
   "cell_type": "markdown",
   "metadata": {},
   "source": [
    "Find palindormic words in poem if any\n",
    "----"
   ]
  },
  {
   "cell_type": "code",
   "execution_count": 28,
   "metadata": {
    "collapsed": true
   },
   "outputs": [],
   "source": [
    "poem = poem.lower()"
   ]
  },
  {
   "cell_type": "code",
   "execution_count": 38,
   "metadata": {
    "collapsed": false
   },
   "outputs": [
    {
     "data": {
      "text/plain": [
       "'!\"#$%&\\'()*+,-./:;<=>?@[\\\\]^_`{|}~'"
      ]
     },
     "execution_count": 38,
     "metadata": {},
     "output_type": "execute_result"
    }
   ],
   "source": [
    "import string\n",
    "string.punctuation"
   ]
  },
  {
   "cell_type": "code",
   "execution_count": 41,
   "metadata": {
    "collapsed": false
   },
   "outputs": [
    {
     "data": {
      "text/plain": [
       "'jabberwocky\\r\\n\\r\\n     twas brillig and the slithy toves\\r\\n      did gyre and gimble in the wabe\\r\\n     all mimsy were the borogoves\\r\\n      and the mome raths outgrabe\\r\\n\\r\\n     beware the jabberwock my son\\r\\n      the jaws that bite the claws that catch\\r\\n     beware the jubjub bird and shun\\r\\n      the frumious bandersnatch\\r\\n\\r\\n     he took his vorpal sword in hand\\r\\n      long time the manxome foe he sought\\r\\n     so rested he by the tumtum tree\\r\\n      and stood awhile in thought\\r\\n\\r\\n     and as in uffish thought he stood\\r\\n      the jabberwock with eyes of flame\\r\\n     came whiffling through the tulgey wood\\r\\n      and burbled as it came\\r\\n\\r\\n     one two one two and through and through\\r\\n      the vorpal blade went snickersnack\\r\\n     he left it dead and with its head\\r\\n      he went galumphing back\\r\\n\\r\\n     and hast thou slain the jabberwock\\r\\n      come to my arms my beamish boy\\r\\n     o frabjous day callooh callay\\r\\n      he chortled in his joy\\r\\n\\r\\n     twas brillig and the slithy toves\\r\\n      did gyre and gimble in the wabe\\r\\n     all mimsy were the borogoves\\r\\n      and the mome raths outgrabe\\r\\n\\r\\n\\r\\n'"
      ]
     },
     "execution_count": 41,
     "metadata": {},
     "output_type": "execute_result"
    }
   ],
   "source": [
    "poem  = poem.translate(dict.fromkeys(map(ord, string.punctuation)))\n",
    "poem"
   ]
  },
  {
   "cell_type": "code",
   "execution_count": 45,
   "metadata": {
    "collapsed": false
   },
   "outputs": [
    {
     "data": {
      "text/plain": [
       "['jabberwocky',\n",
       " 'twas',\n",
       " 'brillig',\n",
       " 'and',\n",
       " 'the',\n",
       " 'slithy',\n",
       " 'toves',\n",
       " 'did',\n",
       " 'gyre',\n",
       " 'and']"
      ]
     },
     "execution_count": 45,
     "metadata": {},
     "output_type": "execute_result"
    }
   ],
   "source": [
    "words = poem.split()\n",
    "words[:10]"
   ]
  },
  {
   "cell_type": "code",
   "execution_count": 51,
   "metadata": {
    "collapsed": true
   },
   "outputs": [],
   "source": [
    "def is_palindrome(word):\n",
    "    return word == word[::-1]"
   ]
  },
  {
   "cell_type": "code",
   "execution_count": 54,
   "metadata": {
    "collapsed": false
   },
   "outputs": [
    {
     "data": {
      "text/plain": [
       "{'did', 'o'}"
      ]
     },
     "execution_count": 54,
     "metadata": {},
     "output_type": "execute_result"
    }
   ],
   "source": [
    "{word for word in words if is_palindrome(word)}"
   ]
  },
  {
   "cell_type": "markdown",
   "metadata": {},
   "source": [
    "Top 10 most frequent words\n",
    "----"
   ]
  },
  {
   "cell_type": "code",
   "execution_count": 56,
   "metadata": {
    "collapsed": true
   },
   "outputs": [],
   "source": [
    "import collections"
   ]
  },
  {
   "cell_type": "code",
   "execution_count": 85,
   "metadata": {
    "collapsed": true
   },
   "outputs": [],
   "source": [
    "poem_counter = collections.Counter(words)"
   ]
  },
  {
   "cell_type": "code",
   "execution_count": 86,
   "metadata": {
    "collapsed": false
   },
   "outputs": [
    {
     "data": {
      "text/plain": [
       "[('the', 19),\n",
       " ('and', 14),\n",
       " ('he', 7),\n",
       " ('in', 6),\n",
       " ('through', 3),\n",
       " ('jabberwock', 3),\n",
       " ('my', 3),\n",
       " ('his', 2),\n",
       " ('it', 2),\n",
       " ('one', 2)]"
      ]
     },
     "execution_count": 86,
     "metadata": {},
     "output_type": "execute_result"
    }
   ],
   "source": [
    "poem_counter.most_common(10)"
   ]
  },
  {
   "cell_type": "markdown",
   "metadata": {},
   "source": [
    "Words that appear exactly twice.\n",
    "----"
   ]
  },
  {
   "cell_type": "code",
   "execution_count": 87,
   "metadata": {
    "collapsed": false
   },
   "outputs": [
    {
     "data": {
      "text/plain": [
       "[('his', 2),\n",
       " ('it', 2),\n",
       " ('one', 2),\n",
       " ('borogoves', 2),\n",
       " ('came', 2),\n",
       " ('that', 2),\n",
       " ('raths', 2),\n",
       " ('mome', 2),\n",
       " ('beware', 2),\n",
       " ('all', 2),\n",
       " ('mimsy', 2),\n",
       " ('outgrabe', 2),\n",
       " ('vorpal', 2),\n",
       " ('stood', 2),\n",
       " ('thought', 2),\n",
       " ('were', 2),\n",
       " ('brillig', 2),\n",
       " ('went', 2),\n",
       " ('wabe', 2),\n",
       " ('gyre', 2),\n",
       " ('twas', 2),\n",
       " ('slithy', 2),\n",
       " ('toves', 2),\n",
       " ('as', 2),\n",
       " ('with', 2),\n",
       " ('two', 2),\n",
       " ('gimble', 2),\n",
       " ('did', 2)]"
      ]
     },
     "execution_count": 87,
     "metadata": {},
     "output_type": "execute_result"
    }
   ],
   "source": [
    "[(k, v) for (k, v) in poem_counter.items() if v==2]"
   ]
  },
  {
   "cell_type": "markdown",
   "metadata": {},
   "source": [
    "Trigrams\n",
    "----\n",
    "\n",
    "All possible sequences of 3 words in the poem."
   ]
  },
  {
   "cell_type": "code",
   "execution_count": 119,
   "metadata": {
    "collapsed": false
   },
   "outputs": [
    {
     "data": {
      "text/plain": [
       "[('jabberwocky', 'twas', 'brillig'),\n",
       " ('twas', 'brillig', 'and'),\n",
       " ('brillig', 'and', 'the'),\n",
       " ('and', 'the', 'slithy'),\n",
       " ('the', 'slithy', 'toves'),\n",
       " ('slithy', 'toves', 'did'),\n",
       " ('toves', 'did', 'gyre'),\n",
       " ('did', 'gyre', 'and'),\n",
       " ('gyre', 'and', 'gimble'),\n",
       " ('and', 'gimble', 'in')]"
      ]
     },
     "execution_count": 119,
     "metadata": {},
     "output_type": "execute_result"
    }
   ],
   "source": [
    "list(zip(words[:-2], words[1:-1], words[2:]))[:10]"
   ]
  },
  {
   "cell_type": "markdown",
   "metadata": {},
   "source": [
    "Find words in poem that are over-represented\n",
    "----"
   ]
  },
  {
   "cell_type": "code",
   "execution_count": 108,
   "metadata": {
    "collapsed": true
   },
   "outputs": [],
   "source": [
    "book = text"
   ]
  },
  {
   "cell_type": "code",
   "execution_count": 109,
   "metadata": {
    "collapsed": false
   },
   "outputs": [],
   "source": [
    "book = book.lower().translate(dict.fromkeys(map(ord, string.punctuation)))"
   ]
  },
  {
   "cell_type": "code",
   "execution_count": 110,
   "metadata": {
    "collapsed": true
   },
   "outputs": [],
   "source": [
    "book_counter = collections.Counter(book.split())"
   ]
  },
  {
   "cell_type": "code",
   "execution_count": 111,
   "metadata": {
    "collapsed": false
   },
   "outputs": [],
   "source": [
    "n = sum(book_counter.values())\n",
    "book_freqs = {k: v/n for k, v in book_counter.items()}"
   ]
  },
  {
   "cell_type": "code",
   "execution_count": 112,
   "metadata": {
    "collapsed": false
   },
   "outputs": [],
   "source": [
    "n = sum(poem_counter.values())\n",
    "stats = [(k, v, book_freqs.get(k,0)*n) for k, v in poem_counter.items()]"
   ]
  },
  {
   "cell_type": "code",
   "execution_count": 113,
   "metadata": {
    "collapsed": false
   },
   "outputs": [],
   "source": [
    "from pandas import DataFrame"
   ]
  },
  {
   "cell_type": "code",
   "execution_count": 114,
   "metadata": {
    "collapsed": true
   },
   "outputs": [],
   "source": [
    "df = DataFrame(stats, columns = ['word', 'observed', 'expected'])"
   ]
  },
  {
   "cell_type": "code",
   "execution_count": 115,
   "metadata": {
    "collapsed": false
   },
   "outputs": [],
   "source": [
    "df['score'] = (df.observed-df.expected)**2/df.expected"
   ]
  },
  {
   "cell_type": "code",
   "execution_count": 118,
   "metadata": {
    "collapsed": false
   },
   "outputs": [
    {
     "data": {
      "text/html": [
       "<div>\n",
       "<table border=\"1\" class=\"dataframe\">\n",
       "  <thead>\n",
       "    <tr style=\"text-align: right;\">\n",
       "      <th></th>\n",
       "      <th>word</th>\n",
       "      <th>observed</th>\n",
       "      <th>expected</th>\n",
       "      <th>score</th>\n",
       "    </tr>\n",
       "  </thead>\n",
       "  <tbody>\n",
       "    <tr>\n",
       "      <th>36</th>\n",
       "      <td>jabberwock</td>\n",
       "      <td>3</td>\n",
       "      <td>0.01557</td>\n",
       "      <td>572.045510</td>\n",
       "    </tr>\n",
       "    <tr>\n",
       "      <th>35</th>\n",
       "      <td>beware</td>\n",
       "      <td>2</td>\n",
       "      <td>0.01038</td>\n",
       "      <td>381.363673</td>\n",
       "    </tr>\n",
       "    <tr>\n",
       "      <th>51</th>\n",
       "      <td>vorpal</td>\n",
       "      <td>2</td>\n",
       "      <td>0.01038</td>\n",
       "      <td>381.363673</td>\n",
       "    </tr>\n",
       "    <tr>\n",
       "      <th>75</th>\n",
       "      <td>twas</td>\n",
       "      <td>2</td>\n",
       "      <td>0.01557</td>\n",
       "      <td>252.917766</td>\n",
       "    </tr>\n",
       "    <tr>\n",
       "      <th>15</th>\n",
       "      <td>borogoves</td>\n",
       "      <td>2</td>\n",
       "      <td>0.01557</td>\n",
       "      <td>252.917766</td>\n",
       "    </tr>\n",
       "    <tr>\n",
       "      <th>10</th>\n",
       "      <td>jubjub</td>\n",
       "      <td>1</td>\n",
       "      <td>0.00519</td>\n",
       "      <td>190.681837</td>\n",
       "    </tr>\n",
       "    <tr>\n",
       "      <th>47</th>\n",
       "      <td>callay</td>\n",
       "      <td>1</td>\n",
       "      <td>0.00519</td>\n",
       "      <td>190.681837</td>\n",
       "    </tr>\n",
       "    <tr>\n",
       "      <th>71</th>\n",
       "      <td>sought</td>\n",
       "      <td>1</td>\n",
       "      <td>0.00519</td>\n",
       "      <td>190.681837</td>\n",
       "    </tr>\n",
       "    <tr>\n",
       "      <th>23</th>\n",
       "      <td>tumtum</td>\n",
       "      <td>1</td>\n",
       "      <td>0.00519</td>\n",
       "      <td>190.681837</td>\n",
       "    </tr>\n",
       "    <tr>\n",
       "      <th>21</th>\n",
       "      <td>galumphing</td>\n",
       "      <td>1</td>\n",
       "      <td>0.00519</td>\n",
       "      <td>190.681837</td>\n",
       "    </tr>\n",
       "  </tbody>\n",
       "</table>\n",
       "</div>"
      ],
      "text/plain": [
       "          word  observed  expected       score\n",
       "36  jabberwock         3   0.01557  572.045510\n",
       "35      beware         2   0.01038  381.363673\n",
       "51      vorpal         2   0.01038  381.363673\n",
       "75        twas         2   0.01557  252.917766\n",
       "15   borogoves         2   0.01557  252.917766\n",
       "10      jubjub         1   0.00519  190.681837\n",
       "47      callay         1   0.00519  190.681837\n",
       "71      sought         1   0.00519  190.681837\n",
       "23      tumtum         1   0.00519  190.681837\n",
       "21  galumphing         1   0.00519  190.681837"
      ]
     },
     "execution_count": 118,
     "metadata": {},
     "output_type": "execute_result"
    }
   ],
   "source": [
    "df = df.sort_values(['score'], ascending=False)\n",
    "df.head(n=10)"
   ]
  },
  {
   "cell_type": "markdown",
   "metadata": {},
   "source": [
    "Encode and decode poem using a Caesar cipher\n",
    "----"
   ]
  },
  {
   "cell_type": "code",
   "execution_count": 121,
   "metadata": {
    "collapsed": false
   },
   "outputs": [
    {
     "name": "stdout",
     "output_type": "stream",
     "text": [
      "jabberwocky\r\n",
      "\r\n",
      "     twas brillig and the slithy toves\r\n",
      "      did gyre and gimble in the wabe\r\n",
      "     all mimsy were the borogoves\r\n",
      "      and the mome raths outgrabe\r\n",
      "\r\n",
      "     beware the jabberwock my son\r\n",
      "      the jaws that bite the claws that catch\r\n",
      "     beware the jubjub bird and shun\r\n",
      "      the frumious bandersnatch\r\n",
      "\r\n",
      "     he took his vorpal sword in hand\r\n",
      "      long time the manxome foe he sought\r\n",
      "     so rested he by the tumtum tree\r\n",
      "      and stood awhile in thought\r\n",
      "\r\n",
      "     and as in uffish thought he stood\r\n",
      "      the jabberwock with eyes of flame\r\n",
      "     came whiffling through the tulgey wood\r\n",
      "      and burbled as it came\r\n",
      "\r\n",
      "     one two one two and through and through\r\n",
      "      the vorpal blade went snickersnack\r\n",
      "     he left it dead and with its head\r\n",
      "      he went galumphing back\r\n",
      "\r\n",
      "     and hast thou slain the jabberwock\r\n",
      "      come to my arms my beamish boy\r\n",
      "     o frabjous day callooh callay\r\n",
      "      he chortled in his joy\r\n",
      "\r\n",
      "     twas brillig and the slithy toves\r\n",
      "      did gyre and gimble in the wabe\r\n",
      "     all mimsy were the borogoves\r\n",
      "      and the mome raths outgrabe\r\n",
      "\r\n",
      "\r\n",
      "\n"
     ]
    }
   ],
   "source": [
    "print(poem)"
   ]
  },
  {
   "cell_type": "markdown",
   "metadata": {},
   "source": [
    "### Encoding"
   ]
  },
  {
   "cell_type": "code",
   "execution_count": 137,
   "metadata": {
    "collapsed": false
   },
   "outputs": [],
   "source": [
    "def encode(text, k):\n",
    "    table = dict(zip(map(ord, string.ascii_lowercase), \n",
    "                              string.ascii_lowercase[k:] + string.ascii_lowercase[:k]))\n",
    "    return text.translate(table)"
   ]
  },
  {
   "cell_type": "code",
   "execution_count": 139,
   "metadata": {
    "collapsed": false
   },
   "outputs": [
    {
     "name": "stdout",
     "output_type": "stream",
     "text": [
      "lcddgtyqema\r\n",
      "\r\n",
      "     vycu dtknnki cpf vjg unkvja vqxgu\r\n",
      "      fkf iatg cpf ikodng kp vjg ycdg\r\n",
      "     cnn okoua ygtg vjg dqtqiqxgu\r\n",
      "      cpf vjg oqog tcvju qwvitcdg\r\n",
      "\r\n",
      "     dgyctg vjg lcddgtyqem oa uqp\r\n",
      "      vjg lcyu vjcv dkvg vjg encyu vjcv ecvej\r\n",
      "     dgyctg vjg lwdlwd dktf cpf ujwp\r\n",
      "      vjg htwokqwu dcpfgtupcvej\r\n",
      "\r\n",
      "     jg vqqm jku xqtrcn uyqtf kp jcpf\r\n",
      "      nqpi vkog vjg ocpzqog hqg jg uqwijv\r\n",
      "     uq tguvgf jg da vjg vwovwo vtgg\r\n",
      "      cpf uvqqf cyjkng kp vjqwijv\r\n",
      "\r\n",
      "     cpf cu kp whhkuj vjqwijv jg uvqqf\r\n",
      "      vjg lcddgtyqem ykvj gagu qh hncog\r\n",
      "     ecog yjkhhnkpi vjtqwij vjg vwniga yqqf\r\n",
      "      cpf dwtdngf cu kv ecog\r\n",
      "\r\n",
      "     qpg vyq qpg vyq cpf vjtqwij cpf vjtqwij\r\n",
      "      vjg xqtrcn dncfg ygpv upkemgtupcem\r\n",
      "     jg nghv kv fgcf cpf ykvj kvu jgcf\r\n",
      "      jg ygpv icnworjkpi dcem\r\n",
      "\r\n",
      "     cpf jcuv vjqw unckp vjg lcddgtyqem\r\n",
      "      eqog vq oa ctou oa dgcokuj dqa\r\n",
      "     q htcdlqwu fca ecnnqqj ecnnca\r\n",
      "      jg ejqtvngf kp jku lqa\r\n",
      "\r\n",
      "     vycu dtknnki cpf vjg unkvja vqxgu\r\n",
      "      fkf iatg cpf ikodng kp vjg ycdg\r\n",
      "     cnn okoua ygtg vjg dqtqiqxgu\r\n",
      "      cpf vjg oqog tcvju qwvitcdg\r\n",
      "\r\n",
      "\r\n",
      "\n"
     ]
    }
   ],
   "source": [
    "cipher = encode(poem, 2)\n",
    "print(cipher)"
   ]
  },
  {
   "cell_type": "markdown",
   "metadata": {},
   "source": [
    "### Decoding"
   ]
  },
  {
   "cell_type": "code",
   "execution_count": 141,
   "metadata": {
    "collapsed": false
   },
   "outputs": [
    {
     "name": "stdout",
     "output_type": "stream",
     "text": [
      "jabberwocky\r\n",
      "\r\n",
      "     twas brillig and the slithy toves\r\n",
      "      did gyre and gimble in the wabe\r\n",
      "     all mimsy were the borogoves\r\n",
      "      and the mome raths outgrabe\r\n",
      "\r\n",
      "     beware the jabberwock my son\r\n",
      "      the jaws that bite the claws that catch\r\n",
      "     beware the jubjub bird and shun\r\n",
      "      the frumious bandersnatch\r\n",
      "\r\n",
      "     he took his vorpal sword in hand\r\n",
      "      long time the manxome foe he sought\r\n",
      "     so rested he by the tumtum tree\r\n",
      "      and stood awhile in thought\r\n",
      "\r\n",
      "     and as in uffish thought he stood\r\n",
      "      the jabberwock with eyes of flame\r\n",
      "     came whiffling through the tulgey wood\r\n",
      "      and burbled as it came\r\n",
      "\r\n",
      "     one two one two and through and through\r\n",
      "      the vorpal blade went snickersnack\r\n",
      "     he left it dead and with its head\r\n",
      "      he went galumphing back\r\n",
      "\r\n",
      "     and hast thou slain the jabberwock\r\n",
      "      come to my arms my beamish boy\r\n",
      "     o frabjous day callooh callay\r\n",
      "      he chortled in his joy\r\n",
      "\r\n",
      "     twas brillig and the slithy toves\r\n",
      "      did gyre and gimble in the wabe\r\n",
      "     all mimsy were the borogoves\r\n",
      "      and the mome raths outgrabe\r\n",
      "\r\n",
      "\r\n",
      "\n"
     ]
    }
   ],
   "source": [
    "recovered = encode(ciper, -2)\n",
    "print(recovered)"
   ]
  },
  {
   "cell_type": "markdown",
   "metadata": {},
   "source": [
    "Using Regualr Expresssions\n",
    "----\n",
    "\n",
    "- [Regular Expression HOWTO](https://docs.python.org/3/howto/regex.html)\n",
    "- [Test your Python regular expressions](http://pythex.org/)"
   ]
  },
  {
   "cell_type": "markdown",
   "metadata": {},
   "source": [
    "### Find all words with a sequence of two or more identical letters e.g. \"look\""
   ]
  },
  {
   "cell_type": "code",
   "execution_count": 142,
   "metadata": {
    "collapsed": true
   },
   "outputs": [],
   "source": [
    "import re"
   ]
  },
  {
   "cell_type": "code",
   "execution_count": 171,
   "metadata": {
    "collapsed": false
   },
   "outputs": [],
   "source": [
    "regex = re.compile(r'(\\w*(\\w)\\2+\\w*)', re.IGNORECASE | re.MULTILINE)"
   ]
  },
  {
   "cell_type": "code",
   "execution_count": 177,
   "metadata": {
    "collapsed": false
   },
   "outputs": [
    {
     "name": "stdout",
     "output_type": "stream",
     "text": [
      "b jabberwocky\n",
      "l brillig\n",
      "l all\n",
      "b jabberwock\n",
      "o took\n",
      "e tree\n",
      "o stood\n",
      "f uffish\n",
      "o stood\n",
      "b jabberwock\n",
      "f whiffling\n",
      "o wood\n",
      "b jabberwock\n",
      "o callooh\n",
      "l callay\n",
      "l brillig\n",
      "l all\n"
     ]
    }
   ],
   "source": [
    "for match in regex.finditer(poem):\n",
    "    print(match.group(2), match.group(1))"
   ]
  },
  {
   "cell_type": "markdown",
   "metadata": {},
   "source": [
    "### Convert the identical sequences to uppercase"
   ]
  },
  {
   "cell_type": "code",
   "execution_count": 179,
   "metadata": {
    "collapsed": false
   },
   "outputs": [
    {
     "name": "stdout",
     "output_type": "stream",
     "text": [
      "jaBBerwocky\r\n",
      "\r\n",
      "     twas briLLig and the slithy toves\r\n",
      "      did gyre and gimble in the wabe\r\n",
      "     aLL mimsy were the borogoves\r\n",
      "      and the mome raths outgrabe\r\n",
      "\r\n",
      "     beware the jaBBerwock my son\r\n",
      "      the jaws that bite the claws that catch\r\n",
      "     beware the jubjub bird and shun\r\n",
      "      the frumious bandersnatch\r\n",
      "\r\n",
      "     he tOOk his vorpal sword in hand\r\n",
      "      long time the manxome foe he sought\r\n",
      "     so rested he by the tumtum trEE\r\n",
      "      and stOOd awhile in thought\r\n",
      "\r\n",
      "     and as in uFFish thought he stOOd\r\n",
      "      the jaBBerwock with eyes of flame\r\n",
      "     came whiFFling through the tulgey wOOd\r\n",
      "      and burbled as it came\r\n",
      "\r\n",
      "     one two one two and through and through\r\n",
      "      the vorpal blade went snickersnack\r\n",
      "     he left it dead and with its head\r\n",
      "      he went galumphing back\r\n",
      "\r\n",
      "     and hast thou slain the jaBBerwock\r\n",
      "      come to my arms my beamish boy\r\n",
      "     o frabjous day callOOh caLLay\r\n",
      "      he chortled in his joy\r\n",
      "\r\n",
      "     twas briLLig and the slithy toves\r\n",
      "      did gyre and gimble in the wabe\r\n",
      "     aLL mimsy were the borogoves\r\n",
      "      and the mome raths outgrabe\r\n",
      "\r\n",
      "\r\n",
      "\n"
     ]
    }
   ],
   "source": [
    "def f(match):\n",
    "    word, letter = match.groups()\n",
    "    return word.replace(letter, letter.upper())\n",
    "\n",
    "print(regex.sub(f, poem))"
   ]
  },
  {
   "cell_type": "markdown",
   "metadata": {},
   "source": [
    "String formatting\n",
    "----"
   ]
  },
  {
   "cell_type": "markdown",
   "metadata": {},
   "source": [
    "### Selection"
   ]
  },
  {
   "cell_type": "code",
   "execution_count": 211,
   "metadata": {
    "collapsed": true
   },
   "outputs": [],
   "source": [
    "import math"
   ]
  },
  {
   "cell_type": "code",
   "execution_count": 212,
   "metadata": {
    "collapsed": true
   },
   "outputs": [],
   "source": [
    "stuff = ('bun', 'shoe', ['bee', 'door'], 2, math.pi, 0.05)"
   ]
  },
  {
   "cell_type": "code",
   "execution_count": 213,
   "metadata": {
    "collapsed": false
   },
   "outputs": [
    {
     "data": {
      "text/plain": [
       "'One: bun, Two shoe'"
      ]
     },
     "execution_count": 213,
     "metadata": {},
     "output_type": "execute_result"
    }
   ],
   "source": [
    "'One: {}, Two {}'.format(*stuff)"
   ]
  },
  {
   "cell_type": "code",
   "execution_count": 214,
   "metadata": {
    "collapsed": false
   },
   "outputs": [
    {
     "data": {
      "text/plain": [
       "'One: bun, Two shoe'"
      ]
     },
     "execution_count": 214,
     "metadata": {},
     "output_type": "execute_result"
    }
   ],
   "source": [
    "'One: {0}, Two {1}'.format(*stuff)"
   ]
  },
  {
   "cell_type": "code",
   "execution_count": 217,
   "metadata": {
    "collapsed": false
   },
   "outputs": [
    {
     "data": {
      "text/plain": [
       "'One: shoe, Two shoe'"
      ]
     },
     "execution_count": 217,
     "metadata": {},
     "output_type": "execute_result"
    }
   ],
   "source": [
    "'One: {1}, Two {1}'.format(*stuff)"
   ]
  },
  {
   "cell_type": "code",
   "execution_count": 215,
   "metadata": {
    "collapsed": false
   },
   "outputs": [
    {
     "data": {
      "text/plain": [
       "'One: bun, Two door'"
      ]
     },
     "execution_count": 215,
     "metadata": {},
     "output_type": "execute_result"
    }
   ],
   "source": [
    "'One: {0}, Two {2[1]}'.format(*stuff)"
   ]
  },
  {
   "cell_type": "markdown",
   "metadata": {},
   "source": [
    "### Formatting"
   ]
  },
  {
   "cell_type": "code",
   "execution_count": 223,
   "metadata": {
    "collapsed": false
   },
   "outputs": [
    {
     "data": {
      "text/plain": [
       "'One:    bun    , Two ___________shoe'"
      ]
     },
     "execution_count": 223,
     "metadata": {},
     "output_type": "execute_result"
    }
   ],
   "source": [
    "'One: {0:^10s}, Two {1:_>15s}'.format(*stuff)"
   ]
  },
  {
   "cell_type": "code",
   "execution_count": 225,
   "metadata": {
    "collapsed": false
   },
   "outputs": [
    {
     "data": {
      "text/plain": [
       "'One: 2, Two 3.141592653589793'"
      ]
     },
     "execution_count": 225,
     "metadata": {},
     "output_type": "execute_result"
    }
   ],
   "source": [
    "'One: {3}, Two {4}'.format(*stuff)"
   ]
  },
  {
   "cell_type": "code",
   "execution_count": 230,
   "metadata": {
    "collapsed": false
   },
   "outputs": [
    {
     "data": {
      "text/plain": [
       "'One:         +2, Two 3.1416'"
      ]
     },
     "execution_count": 230,
     "metadata": {},
     "output_type": "execute_result"
    }
   ],
   "source": [
    "'One: {3:+10d}, Two {4:.4f}'.format(*stuff)"
   ]
  },
  {
   "cell_type": "code",
   "execution_count": 236,
   "metadata": {
    "collapsed": false
   },
   "outputs": [
    {
     "data": {
      "text/plain": [
       "'One: 0002, Two 3.142'"
      ]
     },
     "execution_count": 236,
     "metadata": {},
     "output_type": "execute_result"
    }
   ],
   "source": [
    "'One: {3:04d}, Two {4:.4g}'.format(*stuff)"
   ]
  },
  {
   "cell_type": "code",
   "execution_count": 244,
   "metadata": {
    "collapsed": false
   },
   "outputs": [
    {
     "data": {
      "text/plain": [
       "'One: 2.0000e+00, Two 3.1416e+00'"
      ]
     },
     "execution_count": 244,
     "metadata": {},
     "output_type": "execute_result"
    }
   ],
   "source": [
    "'One: {3:.4e}, Two {4:.4e}'.format(*stuff)"
   ]
  },
  {
   "cell_type": "code",
   "execution_count": 252,
   "metadata": {
    "collapsed": false
   },
   "outputs": [
    {
     "data": {
      "text/plain": [
       "'One: 5.00%, Two 0.050000'"
      ]
     },
     "execution_count": 252,
     "metadata": {},
     "output_type": "execute_result"
    }
   ],
   "source": [
    "'One: {5:.2%}, Two {5:f}'.format(*stuff)"
   ]
  },
  {
   "cell_type": "markdown",
   "metadata": {},
   "source": [
    "### Old style formatting"
   ]
  },
  {
   "cell_type": "code",
   "execution_count": 254,
   "metadata": {
    "collapsed": false
   },
   "outputs": [
    {
     "data": {
      "text/plain": [
       "\"bun, shoe, ['bee', 'door'], 2, 3.1416, 0.05\""
      ]
     },
     "execution_count": 254,
     "metadata": {},
     "output_type": "execute_result"
    }
   ],
   "source": [
    "'%s, %s, %a, %d, %.4f, %.2f' % stuff"
   ]
  },
  {
   "cell_type": "markdown",
   "metadata": {},
   "source": [
    "### Formatting numpy arrays"
   ]
  },
  {
   "cell_type": "code",
   "execution_count": 258,
   "metadata": {
    "collapsed": false
   },
   "outputs": [],
   "source": [
    "import numpy as np"
   ]
  },
  {
   "cell_type": "code",
   "execution_count": 260,
   "metadata": {
    "collapsed": false
   },
   "outputs": [
    {
     "data": {
      "text/plain": [
       "array([[ 1,  2,  3,  4],\n",
       "       [ 5,  6,  7,  8],\n",
       "       [ 9, 10, 11, 12]])"
      ]
     },
     "execution_count": 260,
     "metadata": {},
     "output_type": "execute_result"
    }
   ],
   "source": [
    "x = np.arange(1, 13).reshape(3,4)\n",
    "x"
   ]
  },
  {
   "cell_type": "code",
   "execution_count": 263,
   "metadata": {
    "collapsed": true
   },
   "outputs": [],
   "source": [
    "np.set_printoptions(formatter={'int': lambda x: '%8.2f' % x})"
   ]
  },
  {
   "cell_type": "code",
   "execution_count": 264,
   "metadata": {
    "collapsed": false
   },
   "outputs": [
    {
     "data": {
      "text/plain": [
       "array([[    1.00,     2.00,     3.00,     4.00],\n",
       "       [    5.00,     6.00,     7.00,     8.00],\n",
       "       [    9.00,    10.00,    11.00,    12.00]])"
      ]
     },
     "execution_count": 264,
     "metadata": {},
     "output_type": "execute_result"
    }
   ],
   "source": [
    "x"
   ]
  },
  {
   "cell_type": "code",
   "execution_count": 265,
   "metadata": {
    "collapsed": true
   },
   "outputs": [],
   "source": [
    "np.set_printoptions()"
   ]
  },
  {
   "cell_type": "code",
   "execution_count": 266,
   "metadata": {
    "collapsed": false
   },
   "outputs": [
    {
     "data": {
      "text/plain": [
       "array([[ 1,  2,  3,  4],\n",
       "       [ 5,  6,  7,  8],\n",
       "       [ 9, 10, 11, 12]])"
      ]
     },
     "execution_count": 266,
     "metadata": {},
     "output_type": "execute_result"
    }
   ],
   "source": [
    "x"
   ]
  }
 ],
 "metadata": {
  "kernelspec": {
   "display_name": "Python 3",
   "language": "python",
   "name": "python3"
  },
  "language_info": {
   "codemirror_mode": {
    "name": "ipython",
    "version": 3
   },
   "file_extension": ".py",
   "mimetype": "text/x-python",
   "name": "python",
   "nbconvert_exporter": "python",
   "pygments_lexer": "ipython3",
   "version": "3.5.0"
  }
 },
 "nbformat": 4,
 "nbformat_minor": 0
}
