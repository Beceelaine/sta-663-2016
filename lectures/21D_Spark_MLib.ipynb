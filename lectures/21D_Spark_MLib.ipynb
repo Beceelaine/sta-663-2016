{
 "cells": [
  {
   "cell_type": "markdown",
   "metadata": {
    "collapsed": true
   },
   "source": [
    "Spark MLLib\n",
    "====\n",
    "\n",
    "- [Official documentation](http://spark.apache.org/docs/latest/mllib-guide.html): The official documentation is clear, detailed and includes many code examples. You should refer to the official docs for exploration of this rich and rapidly growing library."
   ]
  },
  {
   "cell_type": "markdown",
   "metadata": {},
   "source": [
    "MLLib Pipeline\n",
    "----\n",
    "\n",
    "Generally, use of MLLIb for supervised and unsupervised learning follow some or all of the stages in the following template:\n",
    "\n",
    "- Get data\n",
    "- Pre-process the data\n",
    "- Convert data to a form that MLLib functions require (*)\n",
    "- Build a model\n",
    "- Optimize and fit the model to the data\n",
    "- Post-processing and model evaluation\n",
    "\n",
    "This is often assembled as a pipeline for convenience and reproducibility. This is very similar to what you would do with `sklearn`, except that MLLib allows you to handle massive datasets by distributing the analysis to multiple computers."
   ]
  },
  {
   "cell_type": "markdown",
   "metadata": {},
   "source": [
    "### Set up Spark and Spark SQL contexts"
   ]
  },
  {
   "cell_type": "code",
   "execution_count": 2,
   "metadata": {
    "collapsed": true
   },
   "outputs": [],
   "source": [
    "from pyspark import SparkContext\n",
    "sc = SparkContext('local[*]')"
   ]
  },
  {
   "cell_type": "code",
   "execution_count": 2,
   "metadata": {
    "collapsed": true
   },
   "outputs": [],
   "source": [
    "from pyspark.sql import SQLContext\n",
    "sqlc = SQLContext(sc)"
   ]
  },
  {
   "cell_type": "markdown",
   "metadata": {},
   "source": [
    "### Spark MLLib imports\n",
    "\n",
    "The older `mllib` package works on RDDs. The newer `ml` package works on DataFrames. We will show examples using both, but it is more convenient to use the `ml` package."
   ]
  },
  {
   "cell_type": "code",
   "execution_count": 3,
   "metadata": {
    "collapsed": false
   },
   "outputs": [],
   "source": [
    "from pyspark.ml.feature import VectorAssembler\n",
    "from pyspark.ml.feature import StandardScaler\n",
    "from pyspark.ml.feature import StringIndexer\n",
    "from pyspark.ml.feature import PCA\n",
    "from pyspark.ml import Pipeline\n",
    "from pyspark.ml.classification import LogisticRegression\n",
    "\n",
    "from pyspark.mllib.regression import LabeledPoint\n",
    "from pyspark.mllib.clustering import GaussianMixture\n",
    "from pyspark.mllib.classification import LogisticRegressionWithLBFGS, LogisticRegressionModel"
   ]
  },
  {
   "cell_type": "markdown",
   "metadata": {},
   "source": [
    "Unsupervised Learning\n",
    "----\n",
    "\n",
    "We saw this machine learning problem previously with `sklearn`, where the task is to distinguish rocks from mines using 60 sonar numerical features. We will illustrate some of the mechanics of how to work with MLLib - this is not intended to be a serious attemtp at modeling the data."
   ]
  },
  {
   "cell_type": "markdown",
   "metadata": {},
   "source": [
    "### Obtain data"
   ]
  },
  {
   "cell_type": "code",
   "execution_count": 4,
   "metadata": {
    "collapsed": false
   },
   "outputs": [],
   "source": [
    "df = (sqlc.read.format('com.databricks.spark.csv')\n",
    "      .options(header='false', inferschema='true')\n",
    "      .load('data/sonar.all-data.txt'))"
   ]
  },
  {
   "cell_type": "code",
   "execution_count": 5,
   "metadata": {
    "collapsed": false
   },
   "outputs": [
    {
     "name": "stdout",
     "output_type": "stream",
     "text": [
      "root\n",
      " |-- C0: double (nullable = true)\n",
      " |-- C1: double (nullable = true)\n",
      " |-- C2: double (nullable = true)\n",
      " |-- C3: double (nullable = true)\n",
      " |-- C4: double (nullable = true)\n",
      " |-- C5: double (nullable = true)\n",
      " |-- C6: double (nullable = true)\n",
      " |-- C7: double (nullable = true)\n",
      " |-- C8: double (nullable = true)\n",
      " |-- C9: double (nullable = true)\n",
      " |-- C10: double (nullable = true)\n",
      " |-- C11: double (nullable = true)\n",
      " |-- C12: double (nullable = true)\n",
      " |-- C13: double (nullable = true)\n",
      " |-- C14: double (nullable = true)\n",
      " |-- C15: double (nullable = true)\n",
      " |-- C16: double (nullable = true)\n",
      " |-- C17: double (nullable = true)\n",
      " |-- C18: double (nullable = true)\n",
      " |-- C19: double (nullable = true)\n",
      " |-- C20: double (nullable = true)\n",
      " |-- C21: double (nullable = true)\n",
      " |-- C22: double (nullable = true)\n",
      " |-- C23: double (nullable = true)\n",
      " |-- C24: double (nullable = true)\n",
      " |-- C25: double (nullable = true)\n",
      " |-- C26: double (nullable = true)\n",
      " |-- C27: double (nullable = true)\n",
      " |-- C28: double (nullable = true)\n",
      " |-- C29: double (nullable = true)\n",
      " |-- C30: double (nullable = true)\n",
      " |-- C31: double (nullable = true)\n",
      " |-- C32: double (nullable = true)\n",
      " |-- C33: double (nullable = true)\n",
      " |-- C34: double (nullable = true)\n",
      " |-- C35: double (nullable = true)\n",
      " |-- C36: double (nullable = true)\n",
      " |-- C37: double (nullable = true)\n",
      " |-- C38: double (nullable = true)\n",
      " |-- C39: double (nullable = true)\n",
      " |-- C40: double (nullable = true)\n",
      " |-- C41: double (nullable = true)\n",
      " |-- C42: double (nullable = true)\n",
      " |-- C43: double (nullable = true)\n",
      " |-- C44: double (nullable = true)\n",
      " |-- C45: double (nullable = true)\n",
      " |-- C46: double (nullable = true)\n",
      " |-- C47: double (nullable = true)\n",
      " |-- C48: double (nullable = true)\n",
      " |-- C49: double (nullable = true)\n",
      " |-- C50: double (nullable = true)\n",
      " |-- C51: double (nullable = true)\n",
      " |-- C52: double (nullable = true)\n",
      " |-- C53: double (nullable = true)\n",
      " |-- C54: double (nullable = true)\n",
      " |-- C55: double (nullable = true)\n",
      " |-- C56: double (nullable = true)\n",
      " |-- C57: double (nullable = true)\n",
      " |-- C58: double (nullable = true)\n",
      " |-- C59: double (nullable = true)\n",
      " |-- C60: string (nullable = true)\n",
      "\n"
     ]
    }
   ],
   "source": [
    "df.printSchema()"
   ]
  },
  {
   "cell_type": "markdown",
   "metadata": {},
   "source": [
    "### Pre-process the data"
   ]
  },
  {
   "cell_type": "code",
   "execution_count": 6,
   "metadata": {
    "collapsed": false
   },
   "outputs": [],
   "source": [
    "df = df.withColumnRenamed(\"C60\",\"label\")"
   ]
  },
  {
   "cell_type": "markdown",
   "metadata": {},
   "source": [
    "Transform 60 features into MMlib vectors"
   ]
  },
  {
   "cell_type": "code",
   "execution_count": 7,
   "metadata": {
    "collapsed": false
   },
   "outputs": [],
   "source": [
    "assembler = VectorAssembler(\n",
    "    inputCols=['C%d' % i for i in range(60)],\n",
    "    outputCol=\"features\")\n",
    "output = assembler.transform(df)"
   ]
  },
  {
   "cell_type": "markdown",
   "metadata": {},
   "source": [
    "Scale features to have zero mean and unit standard deviation"
   ]
  },
  {
   "cell_type": "code",
   "execution_count": 8,
   "metadata": {
    "collapsed": false
   },
   "outputs": [],
   "source": [
    "standardizer = StandardScaler(withMean=True, withStd=True, \n",
    "                              inputCol='features', \n",
    "                              outputCol='std_features')\n",
    "model = standardizer.fit(output)\n",
    "output = model.transform(output)"
   ]
  },
  {
   "cell_type": "markdown",
   "metadata": {},
   "source": [
    "Convert laebl to numeric index"
   ]
  },
  {
   "cell_type": "code",
   "execution_count": 9,
   "metadata": {
    "collapsed": false
   },
   "outputs": [],
   "source": [
    "indexer = StringIndexer(inputCol=\"label\", outputCol=\"label_idx\")\n",
    "indexed = indexer.fit(output).transform(output)"
   ]
  },
  {
   "cell_type": "markdown",
   "metadata": {},
   "source": [
    "Extract only columns of interest"
   ]
  },
  {
   "cell_type": "code",
   "execution_count": 10,
   "metadata": {
    "collapsed": false
   },
   "outputs": [],
   "source": [
    "sonar = indexed.select(['std_features', 'label', 'label_idx'])"
   ]
  },
  {
   "cell_type": "code",
   "execution_count": 11,
   "metadata": {
    "collapsed": false
   },
   "outputs": [
    {
     "name": "stdout",
     "output_type": "stream",
     "text": [
      "+--------------------+-----+---------+\n",
      "|        std_features|label|label_idx|\n",
      "+--------------------+-----+---------+\n",
      "|[-0.3985897356694...|    R|      1.0|\n",
      "|[0.70184498705605...|    R|      1.0|\n",
      "|[-0.1289179854363...|    R|      1.0|\n",
      "+--------------------+-----+---------+\n",
      "only showing top 3 rows\n",
      "\n"
     ]
    }
   ],
   "source": [
    "sonar.show(n=3)"
   ]
  },
  {
   "cell_type": "markdown",
   "metadata": {},
   "source": [
    "### Data conversion"
   ]
  },
  {
   "cell_type": "markdown",
   "metadata": {},
   "source": [
    "We will first fit a Gaussian Mixture Model with 2 components to the first 2 principal components of the data as an example of unsupervised learning. The GaussianMixture model requires an RDD of vectors, not a DataFrame. Note that `pyspark` converts `numpy` arrays to Spark vectors."
   ]
  },
  {
   "cell_type": "code",
   "execution_count": 12,
   "metadata": {
    "collapsed": false
   },
   "outputs": [],
   "source": [
    "pca = PCA(k=2, inputCol=\"std_features\", outputCol=\"pca\")\n",
    "model = pca.fit(sonar)\n",
    "transformed = model.transform(sonar)"
   ]
  },
  {
   "cell_type": "code",
   "execution_count": 13,
   "metadata": {
    "collapsed": false
   },
   "outputs": [],
   "source": [
    "features = transformed.select('pca').rdd.map(lambda x: np.array(x))"
   ]
  },
  {
   "cell_type": "markdown",
   "metadata": {},
   "source": [
    "### Build Model"
   ]
  },
  {
   "cell_type": "code",
   "execution_count": 14,
   "metadata": {
    "collapsed": false
   },
   "outputs": [],
   "source": [
    "gmm = GaussianMixture.train(features, k=2)"
   ]
  },
  {
   "cell_type": "markdown",
   "metadata": {},
   "source": [
    "### Optimize and fit the model to data\n",
    "\n",
    "Note that we are looking at optimistic in-sample errors."
   ]
  },
  {
   "cell_type": "code",
   "execution_count": 15,
   "metadata": {
    "collapsed": false
   },
   "outputs": [],
   "source": [
    "predict = gmm.predict(features).collect()"
   ]
  },
  {
   "cell_type": "code",
   "execution_count": 16,
   "metadata": {
    "collapsed": false
   },
   "outputs": [],
   "source": [
    "labels = sonar.select('label_idx').rdd.map(lambda r: r[0]).collect()"
   ]
  },
  {
   "cell_type": "markdown",
   "metadata": {},
   "source": [
    "### Post-processing and model evaluation"
   ]
  },
  {
   "cell_type": "markdown",
   "metadata": {},
   "source": [
    "The GMM is poor at clustering rocks and mines based on the first 2 PC of the sonographic data."
   ]
  },
  {
   "cell_type": "code",
   "execution_count": 17,
   "metadata": {
    "collapsed": false
   },
   "outputs": [
    {
     "data": {
      "text/plain": [
       "array([[ 1.        ,  0.13825324],\n",
       "       [ 0.13825324,  1.        ]])"
      ]
     },
     "execution_count": 17,
     "metadata": {},
     "output_type": "execute_result"
    }
   ],
   "source": [
    "np.corrcoef(predict, labels)"
   ]
  },
  {
   "cell_type": "markdown",
   "metadata": {},
   "source": [
    "Plot discrepancy between predicted and labels"
   ]
  },
  {
   "cell_type": "code",
   "execution_count": 18,
   "metadata": {
    "collapsed": false
   },
   "outputs": [
    {
     "data": {
      "image/png": "[encoded data removed]",
      "text/plain": [
       "<matplotlib.figure.Figure at 0x11a6af400>"
      ]
     },
     "metadata": {},
     "output_type": "display_data"
    }
   ],
   "source": [
    "xs = np.array(features.collect()).squeeze()\n",
    "\n",
    "fig, axes = plt.subplots(1, 2, figsize=(10, 4))\n",
    "axes[0].scatter(xs[:, 0], xs[:,1], c=predict)\n",
    "axes[0].set_title('Predicted')\n",
    "axes[1].scatter(xs[:, 0], xs[:,1], c=labels)\n",
    "axes[1].set_title('Labels')\n",
    "pass"
   ]
  },
  {
   "cell_type": "markdown",
   "metadata": {},
   "source": [
    "Supervised Learning\n",
    "----"
   ]
  },
  {
   "cell_type": "markdown",
   "metadata": {},
   "source": [
    "We will fit a logistic regression model to the data as an example of supervised learning."
   ]
  },
  {
   "cell_type": "code",
   "execution_count": 19,
   "metadata": {
    "collapsed": false
   },
   "outputs": [
    {
     "name": "stdout",
     "output_type": "stream",
     "text": [
      "+--------------------+-----+---------+\n",
      "|        std_features|label|label_idx|\n",
      "+--------------------+-----+---------+\n",
      "|[-0.3985897356694...|    R|      1.0|\n",
      "|[0.70184498705605...|    R|      1.0|\n",
      "|[-0.1289179854363...|    R|      1.0|\n",
      "+--------------------+-----+---------+\n",
      "only showing top 3 rows\n",
      "\n"
     ]
    }
   ],
   "source": [
    "sonar.show(n=3)"
   ]
  },
  {
   "cell_type": "markdown",
   "metadata": {},
   "source": [
    "### Using `mllib` and RDDs"
   ]
  },
  {
   "cell_type": "markdown",
   "metadata": {},
   "source": [
    "Convert to format expected by regression functions in `mllib`"
   ]
  },
  {
   "cell_type": "code",
   "execution_count": 20,
   "metadata": {
    "collapsed": false
   },
   "outputs": [],
   "source": [
    "data = sonar.map(lambda x: LabeledPoint(x[2], x[0]))"
   ]
  },
  {
   "cell_type": "markdown",
   "metadata": {},
   "source": [
    "Split into test and train sets"
   ]
  },
  {
   "cell_type": "code",
   "execution_count": 21,
   "metadata": {
    "collapsed": true
   },
   "outputs": [],
   "source": [
    "train, test = data.randomSplit([0.7, 0.3])"
   ]
  },
  {
   "cell_type": "markdown",
   "metadata": {},
   "source": [
    "Fit model to training data"
   ]
  },
  {
   "cell_type": "code",
   "execution_count": 22,
   "metadata": {
    "collapsed": false
   },
   "outputs": [],
   "source": [
    "model = LogisticRegressionWithLBFGS.train(train)"
   ]
  },
  {
   "cell_type": "markdown",
   "metadata": {},
   "source": [
    "Evaluate on test data"
   ]
  },
  {
   "cell_type": "code",
   "execution_count": 23,
   "metadata": {
    "collapsed": false
   },
   "outputs": [
    {
     "name": "stdout",
     "output_type": "stream",
     "text": [
      "Error = 0.30158730158730157\n"
     ]
    }
   ],
   "source": [
    "y_yhat = test.map(lambda x: (x.label, model.predict(x.features)))\n",
    "err = y_yhat.filter(lambda x: x[0] != x[1]).count() / float(test.count())\n",
    "print(\"Error = \" + str(err))"
   ]
  },
  {
   "cell_type": "markdown",
   "metadata": {},
   "source": [
    "Using the newer `ml` pipeline\n",
    "----"
   ]
  },
  {
   "cell_type": "code",
   "execution_count": 24,
   "metadata": {
    "collapsed": false
   },
   "outputs": [],
   "source": [
    "transformer = VectorAssembler(inputCols=['C%d' % i for i in range(60)],\n",
    "                              outputCol=\"features\")\n",
    "standardizer = StandardScaler(withMean=True, withStd=True, \n",
    "                              inputCol='features', \n",
    "                              outputCol='std_features')\n",
    "indexer = StringIndexer(inputCol=\"C60\", outputCol=\"label_idx\")\n",
    "pca = PCA(k=5, inputCol=\"std_features\", outputCol=\"pca\")\n",
    "lr = LogisticRegression(featuresCol='std_features', labelCol='label_idx')\n",
    "\n",
    "pipeline = Pipeline(stages=[transformer, standardizer, indexer, pca, lr])"
   ]
  },
  {
   "cell_type": "code",
   "execution_count": 25,
   "metadata": {
    "collapsed": true
   },
   "outputs": [],
   "source": [
    "df = (sqlc.read.format('com.databricks.spark.csv')\n",
    "      .options(header='false', inferschema='true')\n",
    "      .load('data/sonar.all-data.txt'))"
   ]
  },
  {
   "cell_type": "code",
   "execution_count": 26,
   "metadata": {
    "collapsed": true
   },
   "outputs": [],
   "source": [
    "train, test = df.randomSplit([0.7, 0.3])"
   ]
  },
  {
   "cell_type": "code",
   "execution_count": 27,
   "metadata": {
    "collapsed": false
   },
   "outputs": [],
   "source": [
    "model = pipeline.fit(train)"
   ]
  },
  {
   "cell_type": "code",
   "execution_count": 28,
   "metadata": {
    "collapsed": false
   },
   "outputs": [],
   "source": [
    "import warnings\n",
    "\n",
    "with warnings.catch_warnings():\n",
    "    warnings.simplefilter('ignore')\n",
    "    prediction = model.transform(test)"
   ]
  },
  {
   "cell_type": "code",
   "execution_count": 29,
   "metadata": {
    "collapsed": false
   },
   "outputs": [
    {
     "name": "stdout",
     "output_type": "stream",
     "text": [
      "+---------+----------+\n",
      "|label_idx|prediction|\n",
      "+---------+----------+\n",
      "|      1.0|       1.0|\n",
      "|      1.0|       1.0|\n",
      "|      1.0|       1.0|\n",
      "|      1.0|       1.0|\n",
      "|      1.0|       1.0|\n",
      "|      1.0|       1.0|\n",
      "|      1.0|       1.0|\n",
      "|      1.0|       1.0|\n",
      "|      1.0|       1.0|\n",
      "|      1.0|       1.0|\n",
      "|      1.0|       1.0|\n",
      "|      1.0|       1.0|\n",
      "|      1.0|       1.0|\n",
      "|      0.0|       1.0|\n",
      "|      1.0|       0.0|\n",
      "|      1.0|       1.0|\n",
      "|      1.0|       1.0|\n",
      "|      1.0|       0.0|\n",
      "|      1.0|       1.0|\n",
      "|      1.0|       1.0|\n",
      "|      1.0|       0.0|\n",
      "|      1.0|       1.0|\n",
      "|      1.0|       1.0|\n",
      "|      1.0|       0.0|\n",
      "|      1.0|       0.0|\n",
      "|      1.0|       1.0|\n",
      "|      1.0|       1.0|\n",
      "|      1.0|       0.0|\n",
      "|      1.0|       0.0|\n",
      "|      0.0|       0.0|\n",
      "|      0.0|       0.0|\n",
      "|      0.0|       1.0|\n",
      "|      0.0|       0.0|\n",
      "|      0.0|       0.0|\n",
      "|      0.0|       0.0|\n",
      "|      0.0|       0.0|\n",
      "|      0.0|       0.0|\n",
      "|      0.0|       0.0|\n",
      "|      0.0|       0.0|\n",
      "|      0.0|       0.0|\n",
      "|      0.0|       0.0|\n",
      "|      0.0|       0.0|\n",
      "|      0.0|       1.0|\n",
      "|      0.0|       1.0|\n",
      "|      0.0|       1.0|\n",
      "|      0.0|       1.0|\n",
      "|      0.0|       0.0|\n",
      "|      0.0|       0.0|\n",
      "|      0.0|       0.0|\n",
      "|      0.0|       0.0|\n",
      "|      0.0|       0.0|\n",
      "|      0.0|       0.0|\n",
      "|      0.0|       0.0|\n",
      "|      0.0|       0.0|\n",
      "|      0.0|       0.0|\n",
      "|      0.0|       0.0|\n",
      "|      0.0|       0.0|\n",
      "|      0.0|       0.0|\n",
      "|      0.0|       0.0|\n",
      "|      0.0|       1.0|\n",
      "|      0.0|       1.0|\n",
      "|      0.0|       0.0|\n",
      "|      0.0|       1.0|\n",
      "|      0.0|       0.0|\n",
      "|      0.0|       0.0|\n",
      "|      0.0|       0.0|\n",
      "|      0.0|       0.0|\n",
      "|      0.0|       0.0|\n",
      "|      0.0|       0.0|\n",
      "+---------+----------+\n",
      "\n"
     ]
    }
   ],
   "source": [
    "score = prediction.select(['label_idx', 'prediction'])\n",
    "score.show(n=score.count())"
   ]
  },
  {
   "cell_type": "code",
   "execution_count": 30,
   "metadata": {
    "collapsed": false
   },
   "outputs": [
    {
     "data": {
      "text/plain": [
       "0.7681159420289855"
      ]
     },
     "execution_count": 30,
     "metadata": {},
     "output_type": "execute_result"
    }
   ],
   "source": [
    "acc = score.map(lambda x: x[0] == x[1]).sum() / score.count()\n",
    "acc"
   ]
  },
  {
   "cell_type": "markdown",
   "metadata": {},
   "source": [
    "Spark MLLIb and `sklearn` integration\n",
    "----\n",
    "\n",
    "There is a package that you can install with\n",
    "\n",
    "```bash\n",
    "pip install spark-sklearn\n",
    "```\n",
    "\n",
    "Basically, it provides the same API as `sklearn` but uses Spark MLLib under the hood to perform the actual computations in a distributed way (passed in via the SparkContext instance)."
   ]
  },
  {
   "cell_type": "markdown",
   "metadata": {},
   "source": [
    "### Example taken directly from package website"
   ]
  },
  {
   "cell_type": "code",
   "execution_count": 3,
   "metadata": {
    "collapsed": false
   },
   "outputs": [
    {
     "data": {
      "text/plain": [
       "GridSearchCV(cv=None, error_score='raise',\n",
       "       estimator=SVC(C=1.0, cache_size=200, class_weight=None, coef0=0.0,\n",
       "  decision_function_shape=None, degree=3, gamma='auto', kernel='rbf',\n",
       "  max_iter=-1, probability=False, random_state=None, shrinking=True,\n",
       "  tol=0.001, verbose=False),\n",
       "       fit_params={}, iid=True, n_jobs=1,\n",
       "       param_grid={'kernel': ('linear', 'rbf'), 'C': [1, 10]},\n",
       "       pre_dispatch='2*n_jobs', refit=True,\n",
       "       sc=<pyspark.context.SparkContext object at 0x11ad38668>,\n",
       "       scoring=None, verbose=0)"
      ]
     },
     "execution_count": 3,
     "metadata": {},
     "output_type": "execute_result"
    }
   ],
   "source": [
    "from sklearn import svm, grid_search, datasets\n",
    "from spark_sklearn import GridSearchCV\n",
    "iris = datasets.load_iris()\n",
    "parameters = {'kernel':('linear', 'rbf'), 'C':[1, 10]}\n",
    "svr = svm.SVC()\n",
    "clf = GridSearchCV(sc, svr, parameters)\n",
    "clf.fit(iris.data, iris.target)"
   ]
  },
  {
   "cell_type": "code",
   "execution_count": null,
   "metadata": {
    "collapsed": true
   },
   "outputs": [],
   "source": []
  }
 ],
 "metadata": {
  "kernelspec": {
   "display_name": "Python 3",
   "language": "python",
   "name": "python3"
  },
  "language_info": {
   "codemirror_mode": {
    "name": "ipython",
    "version": 3
   },
   "file_extension": ".py",
   "mimetype": "text/x-python",
   "name": "python",
   "nbconvert_exporter": "python",
   "pygments_lexer": "ipython3",
   "version": "3.5.1"
  }
 },
 "nbformat": 4,
 "nbformat_minor": 0
}
