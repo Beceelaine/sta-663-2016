{
 "cells": [
  {
   "cell_type": "markdown",
   "metadata": {
    "collapsed": true
   },
   "source": [
    "Spark MLLib\n",
    "====\n",
    "\n",
    "- [Official documentation](http://spark.apache.org/docs/latest/mllib-guide.html): The official documentation is clear, detailed and includes many code examples. You should refer to the official documetnation for furtehr exploration of this rich and rapidly growing library.\n",
    "\n",
    "One challenging aspect of using MLLib is to manipulate data into the types expected by the various algorithms in the library. We show examples of some of thees data conversions in this notebook."
   ]
  },
  {
   "cell_type": "code",
   "execution_count": 1,
   "metadata": {
    "collapsed": true
   },
   "outputs": [],
   "source": [
    "from pyspark import SparkContext\n",
    "sc = SparkContext('local[*]')"
   ]
  },
  {
   "cell_type": "code",
   "execution_count": 2,
   "metadata": {
    "collapsed": true
   },
   "outputs": [],
   "source": [
    "from pyspark.sql import SQLContext\n",
    "sqlc = SQLContext(sc)"
   ]
  },
  {
   "cell_type": "code",
   "execution_count": 3,
   "metadata": {
    "collapsed": true
   },
   "outputs": [],
   "source": [
    "df = (sqlc.read.format('com.databricks.spark.csv')\n",
    "      .options(header='false', inferschema='true')\n",
    "      .load('data/sonar.all-data.txt'))"
   ]
  },
  {
   "cell_type": "code",
   "execution_count": 4,
   "metadata": {
    "collapsed": false
   },
   "outputs": [
    {
     "name": "stdout",
     "output_type": "stream",
     "text": [
      "root\n",
      " |-- C0: double (nullable = true)\n",
      " |-- C1: double (nullable = true)\n",
      " |-- C2: double (nullable = true)\n",
      " |-- C3: double (nullable = true)\n",
      " |-- C4: double (nullable = true)\n",
      " |-- C5: double (nullable = true)\n",
      " |-- C6: double (nullable = true)\n",
      " |-- C7: double (nullable = true)\n",
      " |-- C8: double (nullable = true)\n",
      " |-- C9: double (nullable = true)\n",
      " |-- C10: double (nullable = true)\n",
      " |-- C11: double (nullable = true)\n",
      " |-- C12: double (nullable = true)\n",
      " |-- C13: double (nullable = true)\n",
      " |-- C14: double (nullable = true)\n",
      " |-- C15: double (nullable = true)\n",
      " |-- C16: double (nullable = true)\n",
      " |-- C17: double (nullable = true)\n",
      " |-- C18: double (nullable = true)\n",
      " |-- C19: double (nullable = true)\n",
      " |-- C20: double (nullable = true)\n",
      " |-- C21: double (nullable = true)\n",
      " |-- C22: double (nullable = true)\n",
      " |-- C23: double (nullable = true)\n",
      " |-- C24: double (nullable = true)\n",
      " |-- C25: double (nullable = true)\n",
      " |-- C26: double (nullable = true)\n",
      " |-- C27: double (nullable = true)\n",
      " |-- C28: double (nullable = true)\n",
      " |-- C29: double (nullable = true)\n",
      " |-- C30: double (nullable = true)\n",
      " |-- C31: double (nullable = true)\n",
      " |-- C32: double (nullable = true)\n",
      " |-- C33: double (nullable = true)\n",
      " |-- C34: double (nullable = true)\n",
      " |-- C35: double (nullable = true)\n",
      " |-- C36: double (nullable = true)\n",
      " |-- C37: double (nullable = true)\n",
      " |-- C38: double (nullable = true)\n",
      " |-- C39: double (nullable = true)\n",
      " |-- C40: double (nullable = true)\n",
      " |-- C41: double (nullable = true)\n",
      " |-- C42: double (nullable = true)\n",
      " |-- C43: double (nullable = true)\n",
      " |-- C44: double (nullable = true)\n",
      " |-- C45: double (nullable = true)\n",
      " |-- C46: double (nullable = true)\n",
      " |-- C47: double (nullable = true)\n",
      " |-- C48: double (nullable = true)\n",
      " |-- C49: double (nullable = true)\n",
      " |-- C50: double (nullable = true)\n",
      " |-- C51: double (nullable = true)\n",
      " |-- C52: double (nullable = true)\n",
      " |-- C53: double (nullable = true)\n",
      " |-- C54: double (nullable = true)\n",
      " |-- C55: double (nullable = true)\n",
      " |-- C56: double (nullable = true)\n",
      " |-- C57: double (nullable = true)\n",
      " |-- C58: double (nullable = true)\n",
      " |-- C59: double (nullable = true)\n",
      " |-- C60: string (nullable = true)\n",
      "\n"
     ]
    }
   ],
   "source": [
    "df.printSchema()"
   ]
  },
  {
   "cell_type": "code",
   "execution_count": 5,
   "metadata": {
    "collapsed": false
   },
   "outputs": [],
   "source": [
    "df = df.withColumnRenamed(\"C60\",\"label\")"
   ]
  },
  {
   "cell_type": "code",
   "execution_count": 6,
   "metadata": {
    "collapsed": true
   },
   "outputs": [],
   "source": [
    "from pyspark.ml.feature import VectorAssembler"
   ]
  },
  {
   "cell_type": "code",
   "execution_count": 7,
   "metadata": {
    "collapsed": false
   },
   "outputs": [],
   "source": [
    "assembler = VectorAssembler(\n",
    "    inputCols=['C%d' % i for i in range(60)],\n",
    "    outputCol=\"features\")\n",
    "output = assembler.transform(df)"
   ]
  },
  {
   "cell_type": "code",
   "execution_count": 11,
   "metadata": {
    "collapsed": false
   },
   "outputs": [],
   "source": [
    "sonar = output.select(['features', 'label'])"
   ]
  },
  {
   "cell_type": "code",
   "execution_count": 74,
   "metadata": {
    "collapsed": true
   },
   "outputs": [],
   "source": [
    "from pyspark.ml.feature import StandardScaler"
   ]
  },
  {
   "cell_type": "code",
   "execution_count": 75,
   "metadata": {
    "collapsed": true
   },
   "outputs": [],
   "source": [
    "standardizer = StandardScaler(withMean=True, withStd=True, \n",
    "                              inputCol='features', \n",
    "                              outputCol='std_features')\n",
    "model = standardizer.fit(sonar)\n",
    "sonar = model.transform(sonar)"
   ]
  },
  {
   "cell_type": "code",
   "execution_count": 76,
   "metadata": {
    "collapsed": false
   },
   "outputs": [
    {
     "name": "stdout",
     "output_type": "stream",
     "text": [
      "+--------------------+-----+--------------------+\n",
      "|            features|label|        std_features|\n",
      "+--------------------+-----+--------------------+\n",
      "|[0.02,0.0371,0.04...|    R|[-0.3985897356694...|\n",
      "|[0.0453,0.0523,0....|    R|[0.70184498705605...|\n",
      "|[0.0262,0.0582,0....|    R|[-0.1289179854363...|\n",
      "|[0.01,0.0171,0.06...|    R|[-0.8335441715294...|\n",
      "|[0.0762,0.0666,0....|    R|[2.04585419386314...|\n",
      "+--------------------+-----+--------------------+\n",
      "only showing top 5 rows\n",
      "\n"
     ]
    }
   ],
   "source": [
    "sonar.show(n=5)"
   ]
  },
  {
   "cell_type": "code",
   "execution_count": 46,
   "metadata": {
    "collapsed": true
   },
   "outputs": [],
   "source": [
    "features = sonar.select('features').rdd.map(lambda x: np.array(x))"
   ]
  },
  {
   "cell_type": "code",
   "execution_count": 50,
   "metadata": {
    "collapsed": true
   },
   "outputs": [],
   "source": [
    "from pyspark.mllib.clustering import KMeans, KMeansModel, GaussianMixture"
   ]
  },
  {
   "cell_type": "code",
   "execution_count": 51,
   "metadata": {
    "collapsed": false
   },
   "outputs": [],
   "source": [
    "gmm = GaussianMixture.train(features, k=2)"
   ]
  },
  {
   "cell_type": "code",
   "execution_count": 71,
   "metadata": {
    "collapsed": false
   },
   "outputs": [],
   "source": [
    "predict = gmm.predict(features).collect()"
   ]
  },
  {
   "cell_type": "code",
   "execution_count": 68,
   "metadata": {
    "collapsed": false
   },
   "outputs": [],
   "source": [
    "labels = sonar.select('label').rdd.map(lambda r: r[0]).collect()"
   ]
  },
  {
   "cell_type": "code",
   "execution_count": 73,
   "metadata": {
    "collapsed": false
   },
   "outputs": [
    {
     "data": {
      "text/plain": [
       "[(1, 'R'),\n",
       " (0, 'R'),\n",
       " (1, 'R'),\n",
       " (1, 'R'),\n",
       " (0, 'R'),\n",
       " (0, 'R'),\n",
       " (1, 'R'),\n",
       " (0, 'R'),\n",
       " (0, 'R'),\n",
       " (0, 'R'),\n",
       " (1, 'R'),\n",
       " (0, 'R'),\n",
       " (0, 'R'),\n",
       " (0, 'R'),\n",
       " (1, 'R'),\n",
       " (0, 'R'),\n",
       " (1, 'R'),\n",
       " (0, 'R'),\n",
       " (1, 'R'),\n",
       " (1, 'R'),\n",
       " (1, 'R'),\n",
       " (1, 'R'),\n",
       " (1, 'R'),\n",
       " (1, 'R'),\n",
       " (1, 'R'),\n",
       " (1, 'R'),\n",
       " (1, 'R'),\n",
       " (0, 'R'),\n",
       " (0, 'R'),\n",
       " (1, 'R'),\n",
       " (0, 'R'),\n",
       " (1, 'R'),\n",
       " (1, 'R'),\n",
       " (0, 'R'),\n",
       " (1, 'R'),\n",
       " (1, 'R'),\n",
       " (1, 'R'),\n",
       " (1, 'R'),\n",
       " (1, 'R'),\n",
       " (1, 'R'),\n",
       " (1, 'R'),\n",
       " (1, 'R'),\n",
       " (1, 'R'),\n",
       " (1, 'R'),\n",
       " (1, 'R'),\n",
       " (1, 'R'),\n",
       " (1, 'R'),\n",
       " (1, 'R'),\n",
       " (0, 'R'),\n",
       " (0, 'R'),\n",
       " (1, 'R'),\n",
       " (1, 'R'),\n",
       " (0, 'R'),\n",
       " (0, 'R'),\n",
       " (1, 'R'),\n",
       " (0, 'R'),\n",
       " (0, 'R'),\n",
       " (1, 'R'),\n",
       " (0, 'R'),\n",
       " (0, 'R'),\n",
       " (0, 'R'),\n",
       " (0, 'R'),\n",
       " (0, 'R'),\n",
       " (0, 'R'),\n",
       " (1, 'R'),\n",
       " (1, 'R'),\n",
       " (1, 'R'),\n",
       " (1, 'R'),\n",
       " (1, 'R'),\n",
       " (1, 'R'),\n",
       " (1, 'R'),\n",
       " (1, 'R'),\n",
       " (1, 'R'),\n",
       " (0, 'R'),\n",
       " (1, 'R'),\n",
       " (1, 'R'),\n",
       " (1, 'R'),\n",
       " (1, 'R'),\n",
       " (0, 'R'),\n",
       " (0, 'R'),\n",
       " (0, 'R'),\n",
       " (0, 'R'),\n",
       " (0, 'R'),\n",
       " (1, 'R'),\n",
       " (1, 'R'),\n",
       " (0, 'R'),\n",
       " (0, 'R'),\n",
       " (0, 'R'),\n",
       " (1, 'R'),\n",
       " (0, 'R'),\n",
       " (1, 'R'),\n",
       " (1, 'R'),\n",
       " (1, 'R'),\n",
       " (0, 'R'),\n",
       " (1, 'R'),\n",
       " (1, 'R'),\n",
       " (1, 'R'),\n",
       " (1, 'M'),\n",
       " (1, 'M'),\n",
       " (1, 'M'),\n",
       " (1, 'M'),\n",
       " (1, 'M'),\n",
       " (0, 'M'),\n",
       " (0, 'M'),\n",
       " (0, 'M'),\n",
       " (1, 'M'),\n",
       " (0, 'M'),\n",
       " (0, 'M'),\n",
       " (1, 'M'),\n",
       " (0, 'M'),\n",
       " (1, 'M'),\n",
       " (0, 'M'),\n",
       " (0, 'M'),\n",
       " (0, 'M'),\n",
       " (0, 'M'),\n",
       " (0, 'M'),\n",
       " (0, 'M'),\n",
       " (0, 'M'),\n",
       " (0, 'M'),\n",
       " (0, 'M'),\n",
       " (0, 'M'),\n",
       " (0, 'M'),\n",
       " (0, 'M'),\n",
       " (0, 'M'),\n",
       " (0, 'M'),\n",
       " (0, 'M'),\n",
       " (0, 'M'),\n",
       " (1, 'M'),\n",
       " (0, 'M'),\n",
       " (0, 'M'),\n",
       " (1, 'M'),\n",
       " (0, 'M'),\n",
       " (1, 'M'),\n",
       " (1, 'M'),\n",
       " (1, 'M'),\n",
       " (1, 'M'),\n",
       " (1, 'M'),\n",
       " (0, 'M'),\n",
       " (1, 'M'),\n",
       " (1, 'M'),\n",
       " (1, 'M'),\n",
       " (1, 'M'),\n",
       " (1, 'M'),\n",
       " (1, 'M'),\n",
       " (1, 'M'),\n",
       " (0, 'M'),\n",
       " (1, 'M'),\n",
       " (1, 'M'),\n",
       " (0, 'M'),\n",
       " (1, 'M'),\n",
       " (0, 'M'),\n",
       " (0, 'M'),\n",
       " (1, 'M'),\n",
       " (1, 'M'),\n",
       " (0, 'M'),\n",
       " (1, 'M'),\n",
       " (0, 'M'),\n",
       " (1, 'M'),\n",
       " (1, 'M'),\n",
       " (1, 'M'),\n",
       " (0, 'M'),\n",
       " (1, 'M'),\n",
       " (1, 'M'),\n",
       " (0, 'M'),\n",
       " (1, 'M'),\n",
       " (1, 'M'),\n",
       " (1, 'M'),\n",
       " (0, 'M'),\n",
       " (0, 'M'),\n",
       " (0, 'M'),\n",
       " (0, 'M'),\n",
       " (0, 'M'),\n",
       " (1, 'M'),\n",
       " (0, 'M'),\n",
       " (0, 'M'),\n",
       " (0, 'M'),\n",
       " (0, 'M'),\n",
       " (0, 'M'),\n",
       " (0, 'M'),\n",
       " (0, 'M'),\n",
       " (0, 'M'),\n",
       " (0, 'M'),\n",
       " (0, 'M'),\n",
       " (0, 'M'),\n",
       " (0, 'M'),\n",
       " (0, 'M'),\n",
       " (0, 'M'),\n",
       " (1, 'M'),\n",
       " (1, 'M'),\n",
       " (0, 'M'),\n",
       " (0, 'M'),\n",
       " (1, 'M'),\n",
       " (0, 'M'),\n",
       " (1, 'M'),\n",
       " (0, 'M'),\n",
       " (0, 'M'),\n",
       " (0, 'M'),\n",
       " (0, 'M'),\n",
       " (0, 'M'),\n",
       " (0, 'M'),\n",
       " (0, 'M'),\n",
       " (0, 'M'),\n",
       " (0, 'M'),\n",
       " (0, 'M'),\n",
       " (0, 'M'),\n",
       " (0, 'M'),\n",
       " (0, 'M'),\n",
       " (0, 'M')]"
      ]
     },
     "execution_count": 73,
     "metadata": {},
     "output_type": "execute_result"
    }
   ],
   "source": [
    "list(zip(predict, labels))"
   ]
  },
  {
   "cell_type": "code",
   "execution_count": 64,
   "metadata": {
    "collapsed": true
   },
   "outputs": [],
   "source": [
    "from pyspark.ml.feature import StringIndexer"
   ]
  },
  {
   "cell_type": "code",
   "execution_count": 66,
   "metadata": {
    "collapsed": false
   },
   "outputs": [
    {
     "name": "stdout",
     "output_type": "stream",
     "text": [
      "+--------------------+-----+---------+\n",
      "|            features|label|label_idx|\n",
      "+--------------------+-----+---------+\n",
      "|[0.02,0.0371,0.04...|    R|      1.0|\n",
      "|[0.0453,0.0523,0....|    R|      1.0|\n",
      "|[0.0262,0.0582,0....|    R|      1.0|\n",
      "|[0.01,0.0171,0.06...|    R|      1.0|\n",
      "|[0.0762,0.0666,0....|    R|      1.0|\n",
      "|[0.0286,0.0453,0....|    R|      1.0|\n",
      "|[0.0317,0.0956,0....|    R|      1.0|\n",
      "|[0.0519,0.0548,0....|    R|      1.0|\n",
      "|[0.0223,0.0375,0....|    R|      1.0|\n",
      "|[0.0164,0.0173,0....|    R|      1.0|\n",
      "|[0.0039,0.0063,0....|    R|      1.0|\n",
      "|[0.0123,0.0309,0....|    R|      1.0|\n",
      "|[0.0079,0.0086,0....|    R|      1.0|\n",
      "|[0.009,0.0062,0.0...|    R|      1.0|\n",
      "|[0.0124,0.0433,0....|    R|      1.0|\n",
      "|[0.0298,0.0615,0....|    R|      1.0|\n",
      "|[0.0352,0.0116,0....|    R|      1.0|\n",
      "|[0.0192,0.0607,0....|    R|      1.0|\n",
      "|[0.027,0.0092,0.0...|    R|      1.0|\n",
      "|[0.0126,0.0149,0....|    R|      1.0|\n",
      "+--------------------+-----+---------+\n",
      "only showing top 20 rows\n",
      "\n"
     ]
    }
   ],
   "source": [
    "indexer = StringIndexer(inputCol=\"label\", outputCol=\"label_idx\")\n",
    "indexed = indexer.fit(sonar).transform(sonar)\n",
    "indexed.show()"
   ]
  },
  {
   "cell_type": "code",
   "execution_count": null,
   "metadata": {
    "collapsed": true
   },
   "outputs": [],
   "source": []
  }
 ],
 "metadata": {
  "kernelspec": {
   "display_name": "Python 3",
   "language": "python",
   "name": "python3"
  },
  "language_info": {
   "codemirror_mode": {
    "name": "ipython",
    "version": 3
   },
   "file_extension": ".py",
   "mimetype": "text/x-python",
   "name": "python",
   "nbconvert_exporter": "python",
   "pygments_lexer": "ipython3",
   "version": "3.5.1"
  }
 },
 "nbformat": 4,
 "nbformat_minor": 0
}
