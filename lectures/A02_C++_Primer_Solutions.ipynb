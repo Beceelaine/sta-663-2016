{
 "cells": [
  {
   "cell_type": "markdown",
   "metadata": {},
   "source": [
    "C++\n",
    "====\n",
    "\n",
    "A brief introduction to features of C++ that are not found in C, using C++11 features where possible. We will assume the following `#includes` in the code snippets. As usual, we will exclude classes and any discussion of object-oriented programming.\n",
    "\n",
    "```c++\n",
    "#include <iostream>\n",
    "#include <vector>\n",
    "#include <unordered_map>\n",
    "#include <algorithm>\n",
    "#include <numeric>\n",
    "#include <iterator>\n",
    "#include \"/usr/local/include/armadillo\"\n",
    "```"
   ]
  },
  {
   "cell_type": "markdown",
   "metadata": {},
   "source": [
    "### Hello, world\n",
    "\n",
    "Note the use of the `iostream` library and the standard namepace qualification `std::cout`."
   ]
  },
  {
   "cell_type": "markdown",
   "metadata": {},
   "source": [
    "```c++\n",
    "int main()\n",
    "{\n",
    "    std::cout << \"Hello, world!\\n\";\n",
    "}\n",
    "```"
   ]
  },
  {
   "cell_type": "markdown",
   "metadata": {},
   "source": [
    "### Namespaces\n",
    "\n",
    "Just like Python, C++ has namespaces that allow us to build large libraries without worrying about name collisions. In the `Hello world` program, we used the explicit name `std::cout` indicating that `cout` is a member of the standard workspace. We can also use the `using` keyword to import selected functions or classes from a namespace. \n",
    "\n",
    "```c++\n",
    "using std::cout;\n",
    "\n",
    "int main()\n",
    "{\n",
    "    cout << \"Hello, world!\\n\";\n",
    "}\n",
    "```\n",
    "\n",
    "For small programs, we sometimes import the entire namespace for convenience, but this may cause namespace collisions in larger programs.\n",
    "\n",
    "```c++\n",
    "using namespace std;\n",
    "\n",
    "int main()\n",
    "{\n",
    "    cout << \"Hello, world!\\n\";\n",
    "}\n",
    "```\n",
    "\n",
    "You can easily create your own namespace.\n",
    "\n",
    "```c++\n",
    "namespace sta_663 {\n",
    "    const double pi=2.14159;\n",
    "\n",
    "    void greet(string name) {\n",
    "        cout << \"\\nTraditional first program\\n\";\n",
    "        cout << \"Hello, \" << name << \"\\n\";\n",
    "    }\n",
    "}\n",
    "\n",
    "int main() \n",
    "{\n",
    "    cout << \"\\nUsing namespaces\\n\";\n",
    "    string name = \"Tom\";\n",
    "    cout << sta_663::pi << \"\\n\";\n",
    "    sta_663::greet(name);\n",
    "}\n",
    "```"
   ]
  },
  {
   "cell_type": "markdown",
   "metadata": {},
   "source": [
    "### Looping\n",
    "\n",
    "Note the traditional for loop and the new range for loop. There is also a `while` loop (not shown).\n",
    "\n",
    "```c++\n",
    "// for loops\n",
    "int main() \n",
    "{\n",
    "    int x[] = {1, 2, 3, 4, 5};\n",
    "\n",
    "    cout << \"\\nTraditional for loop\\n\";\n",
    "    for (int i=0; i < sizeof(x)/sizeof(x[0]); i++) {\n",
    "        cout << i << endl;\n",
    "    }\n",
    "\n",
    "    cout << \"\\nRanged for loop\\n\\n\";\n",
    "    for (auto &i : x) {\n",
    "        cout << i << endl;\n",
    "    }\n",
    "}\n",
    "```"
   ]
  },
  {
   "cell_type": "markdown",
   "metadata": {},
   "source": [
    "**Exercise 1**\n",
    "\n",
    "Use loop to generate the 12 by 12 times table. Compile and run. You don't have to worry much about formatting, but the output should have 12 rows with numbers separated by spaces."
   ]
  },
  {
   "cell_type": "code",
   "execution_count": 1,
   "metadata": {
    "collapsed": false
   },
   "outputs": [
    {
     "name": "stdout",
     "output_type": "stream",
     "text": [
      "Overwriting ex1.cpp\n"
     ]
    }
   ],
   "source": [
    "%%file ex1.cpp\n",
    "#include <iostream>\n",
    "#include <iomanip>\n",
    "\n",
    "int main()\n",
    "{\n",
    "    for (int i=1; i<=12; i++) {\n",
    "        for (int j=1; j<=12; j++) {\n",
    "            std::cout << std::setw(3) << i*j << ' ';\n",
    "        }\n",
    "        std::cout << \"\\n\";\n",
    "    }\n",
    "}"
   ]
  },
  {
   "cell_type": "code",
   "execution_count": 2,
   "metadata": {
    "collapsed": false
   },
   "outputs": [],
   "source": [
    "%%bash\n",
    "g++ ex1.cpp -o ex1"
   ]
  },
  {
   "cell_type": "code",
   "execution_count": 3,
   "metadata": {
    "collapsed": false
   },
   "outputs": [
    {
     "name": "stdout",
     "output_type": "stream",
     "text": [
      "  1   2   3   4   5   6   7   8   9  10  11  12 \n",
      "  2   4   6   8  10  12  14  16  18  20  22  24 \n",
      "  3   6   9  12  15  18  21  24  27  30  33  36 \n",
      "  4   8  12  16  20  24  28  32  36  40  44  48 \n",
      "  5  10  15  20  25  30  35  40  45  50  55  60 \n",
      "  6  12  18  24  30  36  42  48  54  60  66  72 \n",
      "  7  14  21  28  35  42  49  56  63  70  77  84 \n",
      "  8  16  24  32  40  48  56  64  72  80  88  96 \n",
      "  9  18  27  36  45  54  63  72  81  90  99 108 \n",
      " 10  20  30  40  50  60  70  80  90 100 110 120 \n",
      " 11  22  33  44  55  66  77  88  99 110 121 132 \n",
      " 12  24  36  48  60  72  84  96 108 120 132 144 \n"
     ]
    }
   ],
   "source": [
    "%%bash\n",
    "./ex1"
   ]
  },
  {
   "cell_type": "markdown",
   "metadata": {},
   "source": [
    "### Functions and Lambdas\n",
    "\n",
    "```c++\n",
    "// simple funciton\n",
    "int add0(int a, int b) {\n",
    "    return a + b;\n",
    "}\n",
    "\n",
    "// simple function with reference variables\n",
    "void add1(int a, int b, int& c) {\n",
    "    c = a + b;\n",
    "}\n",
    "\n",
    "// lambda function\n",
    "auto add2 = [] (int a, int b) { return a + b; };\n",
    "\n",
    "int main() {\n",
    "\n",
    "    cout << \"\\nStandard function\\n\";\n",
    "    int a = 3, b = 4;\n",
    "    cout << add0(a, b) <<  endl;\n",
    "\n",
    "    int c = 0;\n",
    "    cout << \"\\nStandard with reference varaibles\\n\";\n",
    "\n",
    "    add1(a, b, c);\n",
    "    cout << c <<  endl;\n",
    "\n",
    "    cout << \"\\nLambda function\\n\";\n",
    "    cout << add2(a, b) <<  endl;\n",
    "\n",
    "    auto add3 = [c] (int a, int b) { return c * add2(a, b); };\n",
    "\n",
    "    c -= 5;\n",
    "    cout << \"\\nLambda function with value capture\\n\";\n",
    "    cout << add3(a, b) <<  endl;\n",
    "\n",
    "    auto add4 = [&c] (int a, int b) { return c * add2(a, b); };\n",
    "\n",
    "    cout << \"\\nLambda function with reference capture\\n\";\n",
    "    cout << add4(a, b) <<  endl;\n",
    "\n",
    "}\n",
    "```"
   ]
  },
  {
   "cell_type": "markdown",
   "metadata": {},
   "source": [
    "### Templates\n",
    "\n",
    "```c++\n",
    "// templates\n",
    "template <typename T>\n",
    "T add5(T a, T b) { return a + b; }\n",
    "\n",
    "int main() \n",
    "{\n",
    "\n",
    "    cout << \"\\nTemplate function with ints\\n\";\n",
    "    cout << add5(3, 4) << endl;\n",
    "\n",
    "    cout << \"\\nTemplate function with doubles\\n\";\n",
    "    cout << add5(3.14, 2.78) << endl;\n",
    "}\n",
    "```"
   ]
  },
  {
   "cell_type": "markdown",
   "metadata": {},
   "source": [
    "### Iterators\n",
    "\n",
    "```c++\n",
    "int main() \n",
    "{\n",
    "    int x[] = {1, 2, 3, 4, 5};\n",
    "\n",
    "    cout << \"\\nUsing iterators\\n\";\n",
    "    for (auto it=begin(x); it != end(x); it++) {\n",
    "        cout << *it << endl;\n",
    "    }\n",
    "}\n",
    "```"
   ]
  },
  {
   "cell_type": "markdown",
   "metadata": {},
   "source": [
    "### Containers\n",
    "\n",
    "```c++\n",
    "int main() \n",
    "{\n",
    "    vector<double> v = {1,2,3};\n",
    "\n",
    "    cout << \"\\nUsing the vector container\\n\";\n",
    "    for (auto it=begin(v); it != end(v); it++) {\n",
    "        cout << *it << endl;\n",
    "    }\n",
    "\n",
    "    v.push_back(4);\n",
    "    v.push_back(5);\n",
    "    cout << \"\\nGrowing the vector container\\n\";\n",
    "    for (auto it=begin(v); it != end(v); it++) {\n",
    "        cout << *it << endl;\n",
    "    }\n",
    "\n",
    "    v.pop_back();\n",
    "    cout << \"\\nShrinking the vector container\\n\";\n",
    "    for (auto it=begin(v); it != end(v); it++) {\n",
    "        cout << *it << endl;\n",
    "    }\n",
    "\n",
    "    cout << \"\\nUsing the unordered_map container\\n\";\n",
    "    unordered_map<string, int> dict =  { {\"ann\", 23}, {\"bob\", 32}, {\"charles\", 17}};\n",
    "    dict[\"doug\"] = 30;\n",
    "    for (auto it=begin(dict); it != end(dict); it++) {\n",
    "        cout << it->first << \", \" << it->second << endl;\n",
    "    }\n",
    "\n",
    "    cout << dict[\"bob\"] << endl;\n",
    "}\n",
    "```"
   ]
  },
  {
   "cell_type": "markdown",
   "metadata": {},
   "source": [
    "**Exercise 2**\n",
    " \n",
    "Write a function that takes a vector of doubles  returns the squared vector. Compile and run the function with the initial vector containing 1.0, 2.0, 3.0, 4.0, 5.0."
   ]
  },
  {
   "cell_type": "code",
   "execution_count": 4,
   "metadata": {
    "collapsed": false
   },
   "outputs": [
    {
     "name": "stdout",
     "output_type": "stream",
     "text": [
      "Overwriting ex2.cpp\n"
     ]
    }
   ],
   "source": [
    "%%file ex2.cpp\n",
    "#include <iostream>\n",
    "#include <vector>\n",
    "using std::vector;\n",
    "using std::cout;\n",
    "\n",
    "vector<double> squares(vector<double> xs) {\n",
    "    vector<double> ys(xs.size());\n",
    "    for (int i=0; i<ys.size(); i++) {\n",
    "        ys[i] = xs[i] * xs[i];\n",
    "    }\n",
    "    return ys;\n",
    "}\n",
    "\n",
    "int main()\n",
    "{\n",
    "    vector<double> xs = {1.0, 2.0, 3.0, 4.0, 5.0};\n",
    "\n",
    "    auto ys = squares(xs);\n",
    "\n",
    "    for (auto& y: ys) {\n",
    "        cout << y << \", \";\n",
    "    }\n",
    "    cout << \"\\n\";\n",
    "}"
   ]
  },
  {
   "cell_type": "code",
   "execution_count": 5,
   "metadata": {
    "collapsed": false
   },
   "outputs": [],
   "source": [
    "%%bash\n",
    "g++ -std=c++11 ex2.cpp -o ex2"
   ]
  },
  {
   "cell_type": "code",
   "execution_count": 6,
   "metadata": {
    "collapsed": false
   },
   "outputs": [
    {
     "name": "stdout",
     "output_type": "stream",
     "text": [
      "1, 4, 9, 16, 25, \n"
     ]
    }
   ],
   "source": [
    "%%bash\n",
    "./ex2"
   ]
  },
  {
   "cell_type": "markdown",
   "metadata": {},
   "source": [
    "**EXercise 3**\n",
    "\n",
    "Convert the function from Exercise 2 so that it works for lists or vectors of ints, floats and doubles."
   ]
  },
  {
   "cell_type": "code",
   "execution_count": 7,
   "metadata": {
    "collapsed": false
   },
   "outputs": [
    {
     "name": "stdout",
     "output_type": "stream",
     "text": [
      "Overwriting ex3.cpp\n"
     ]
    }
   ],
   "source": [
    "%%file ex3.cpp\n",
    "#include <iostream>\n",
    "#include <vector>\n",
    "using std::vector;\n",
    "using std::cout;\n",
    "\n",
    "template<typename T>\n",
    "vector<T> squares(vector<T> xs) {\n",
    "    vector<T> ys(xs.size());\n",
    "    for (int i=0; i<ys.size(); i++) {\n",
    "        ys[i] = xs[i] * xs[i];\n",
    "    }\n",
    "    return ys;\n",
    "}\n",
    "\n",
    "int main()\n",
    "{\n",
    "    vector<int> xs = {1, 2, 3, 4, 5};\n",
    "\n",
    "    auto ys = squares(xs);\n",
    "\n",
    "    for (auto& y: ys) {\n",
    "        cout << y << \", \";\n",
    "    }\n",
    "    cout << \"\\n\";\n",
    "}"
   ]
  },
  {
   "cell_type": "code",
   "execution_count": 8,
   "metadata": {
    "collapsed": false
   },
   "outputs": [
    {
     "name": "stdout",
     "output_type": "stream",
     "text": [
      "1, 4, 9, 16, 25, \n"
     ]
    }
   ],
   "source": [
    "%%bash\n",
    "./ex3"
   ]
  },
  {
   "cell_type": "markdown",
   "metadata": {},
   "source": [
    "### Algorithms\n",
    "\n",
    "```c++\n",
    "int main()\n",
    "{\n",
    "void show_algorithms() {\n",
    "    vector<int> v(10, 0);\n",
    "\n",
    "    cout << \"\\nWorking with standard library algorithm\\n\";\n",
    "    cout << \"\\nInitial state\\n\";\n",
    "    for (auto it=begin(v); it != end(v); it++) {\n",
    "        cout << *it << \" \";\n",
    "    }\n",
    "    cout << endl;\n",
    "\n",
    "    cout << \"\\nAfter iota\\n\";\n",
    "    iota(begin(v), end(v), 5);\n",
    "    for (auto it=begin(v); it != end(v); it++) {\n",
    "        cout << *it << \" \";\n",
    "    }\n",
    "    cout << endl;\n",
    "\n",
    "    cout << \"\\nSimple accumulate\\n\";\n",
    "    int s = accumulate(begin(v), end(v), 0);\n",
    "    cout << s << endl;\n",
    "\n",
    "    cout << \"\\nAccumulate with custom sum of squares reduction\\n\";\n",
    "    int t = accumulate(begin(v), end(v), 0, [] (int acc, int x) { return acc + x*x; });\n",
    "    cout << t << endl;\n",
    "}\n",
    "```"
   ]
  },
  {
   "cell_type": "markdown",
   "metadata": {},
   "source": [
    "**Exercise 4**\n",
    "\n",
    "Write a function to calculate the mean of a vector of numbers using `accumulate` from the `<numeric>` library. Compile and test with some vectors."
   ]
  },
  {
   "cell_type": "code",
   "execution_count": 9,
   "metadata": {
    "collapsed": false
   },
   "outputs": [
    {
     "name": "stdout",
     "output_type": "stream",
     "text": [
      "Overwriting ex4.cpp\n"
     ]
    }
   ],
   "source": [
    "%%file ex4.cpp\n",
    "#include <iostream>\n",
    "#include <vector>\n",
    "#include <numeric>\n",
    "using std::vector;\n",
    "using std::cout;\n",
    "\n",
    "template<typename T>\n",
    "double mean(vector<T> xs) {\n",
    "    double s = std::accumulate(begin(xs), end(xs), 0);\n",
    "    return s/xs.size();\n",
    "}\n",
    "\n",
    "int main()\n",
    "{\n",
    "    vector<double> xs = {1, 2, 3, 4, 5};\n",
    "    \n",
    "    double mu = mean(xs);\n",
    "    cout << mu << \"\\n\";\n",
    "}\n"
   ]
  },
  {
   "cell_type": "code",
   "execution_count": 10,
   "metadata": {
    "collapsed": false
   },
   "outputs": [],
   "source": [
    "%%bash\n",
    "g++ -std=c++11 ex4.cpp -o ex4"
   ]
  },
  {
   "cell_type": "code",
   "execution_count": 11,
   "metadata": {
    "collapsed": false
   },
   "outputs": [
    {
     "name": "stdout",
     "output_type": "stream",
     "text": [
      "3\n"
     ]
    }
   ],
   "source": [
    "%%bash\n",
    "./ex4"
   ]
  },
  {
   "cell_type": "markdown",
   "metadata": {},
   "source": [
    "### Function pointers\n",
    "\n",
    "```c++\n",
    "int main() \n",
    "{\n",
    "    cout << \"\\nUsing generalized function pointers\\n\";\n",
    "    using func = function<double(double, double)>;\n",
    "\n",
    "    auto f1 = [](double x, double y) { return x + y; };\n",
    "    auto f2 = [](double x, double y) { return x * y; };\n",
    "    auto f3 = [](double x, double y) { return x + y*y; };\n",
    "\n",
    "    double x = 3, y = 4;\n",
    "\n",
    "    vector<func> funcs = {f1, f2, f3,};\n",
    "\n",
    "    for (auto& f : funcs) {\n",
    "        cout << f(x, y) << \"\\n\";\n",
    "    }\n",
    "}\n",
    "```"
   ]
  },
  {
   "cell_type": "markdown",
   "metadata": {},
   "source": [
    "**Exercise 5**\n",
    "\n",
    "Implement Newton's method in 1D for root finding. Pass in the function and gradient as generalized function pointers. Use the method to find all roots of the polynomial equation $f(x) = x^3 - 7x - 6$"
   ]
  },
  {
   "cell_type": "code",
   "execution_count": 1,
   "metadata": {
    "collapsed": false
   },
   "outputs": [
    {
     "name": "stdout",
     "output_type": "stream",
     "text": [
      "Writing ex5.cpp\n"
     ]
    }
   ],
   "source": [
    "%%file ex5.cpp\n",
    "#include <iostream>\n",
    "#include <vector>\n",
    "#include <numeric>\n",
    "#include <iomanip>\n",
    "#include <cmath>\n",
    "#include <functional> \n",
    "using std::vector;\n",
    "using std::cout;\n",
    "using std::function;\n",
    "\n",
    "using func = function<double(double)>;\n",
    "\n",
    "double newton(double x0, func f, func grad, int max_iter=10) {\n",
    "    double x = x0;\n",
    "    for (int i=0; i<max_iter; i++) {\n",
    "        x -= f(x)/grad(x);\n",
    "    }\n",
    "    return x;\n",
    "}\n",
    "\n",
    "int main()\n",
    "{\n",
    "    \n",
    "    auto f = [](double x) { return pow(x, 3) - 7*x - 6; };\n",
    "    auto grad = [](double x) { return 3.0*pow(x, 2) - 7; };\n",
    "    \n",
    "    vector<double> x = {-5, 0, 5};\n",
    "    for (auto& x0: x) {\n",
    "        cout << std::setw(2) << x0 << \": \" << std::setw(3) << newton(x0, f, grad) << \"\\n\";\n",
    "    }\n",
    "}"
   ]
  },
  {
   "cell_type": "code",
   "execution_count": 2,
   "metadata": {
    "collapsed": false
   },
   "outputs": [],
   "source": [
    "%%bash\n",
    "g++ -std=c++11 ex5.cpp -o ex5"
   ]
  },
  {
   "cell_type": "code",
   "execution_count": 3,
   "metadata": {
    "collapsed": false
   },
   "outputs": [
    {
     "name": "stdout",
     "output_type": "stream",
     "text": [
      "-5:  -2\n",
      " 0:  -1\n",
      " 5:   3\n"
     ]
    }
   ],
   "source": [
    "%%bash\n",
    "./ex5"
   ]
  },
  {
   "cell_type": "markdown",
   "metadata": {},
   "source": [
    "### Random numbers\n",
    "\n",
    "C++ now comes with its own collection of random number generators and quite a broad selection of distributions. See [here](http://www.open-std.org/jtc1/sc22/wg21/docs/papers/2013/n3551.pdf) for a great explanation.\n",
    "\n",
    "```c++\n",
    "int main() \n",
    "{\n",
    "    cout << \"\\nGenerating random numbers\\n\";\n",
    "\n",
    "    // start random number engine wiht fixed seed\n",
    "    default_random_engine re{12345};\n",
    "\n",
    "    uniform_int_distribution<int> uniform(1,6); // lower and upper bounds\n",
    "    poisson_distribution<int> poisson(30); // rate\n",
    "    student_t_distribution<double> t(10); // degrees of freedom\n",
    "\n",
    "    auto runif = bind (uniform, re);\n",
    "    auto rpois = bind(poisson, re);\n",
    "    auto rt = bind(t, re);\n",
    "\n",
    "    for (int i=0; i<10; i++) {\n",
    "        cout << runif() << \", \" << rpois() <<  \", \" << rt() << \"\\n\";\n",
    "\n",
    "    }\n",
    "}\n",
    "```"
   ]
  },
  {
   "cell_type": "markdown",
   "metadata": {},
   "source": [
    "**Exercise 6**\n",
    "\n",
    "Generate 1000 random points from the exponential distribution and save as a comma-separated values (CSV) file. Open the file in Python and plot the distribution using `plt.hist`."
   ]
  },
  {
   "cell_type": "code",
   "execution_count": 15,
   "metadata": {
    "collapsed": false
   },
   "outputs": [
    {
     "name": "stdout",
     "output_type": "stream",
     "text": [
      "Overwriting ex6.cpp\n"
     ]
    }
   ],
   "source": [
    "%%file ex6.cpp\n",
    "#include <fstream>\n",
    "#include <random>\n",
    "#include <iomanip>\n",
    "using std::ofstream;\n",
    "using std::default_random_engine;\n",
    "using std::exponential_distribution;\n",
    "\n",
    "int main() \n",
    "{\n",
    "    // start random number engine wiht fixed seed\n",
    "    default_random_engine re;\n",
    "    re.seed(12345);\n",
    "\n",
    "    exponential_distribution<double> exponential(1.0); \n",
    "\n",
    "    auto rexp = bind (exponential, re);\n",
    "\n",
    "    int n = 1000;\n",
    "    ofstream fout(\"rexp.csv\");\n",
    "    fout << rexp();\n",
    "    for (int i=1; i<n; i++) {\n",
    "        fout << \",\" << rexp();\n",
    "    }\n",
    "    fout << \"\\n\";\n",
    "}"
   ]
  },
  {
   "cell_type": "code",
   "execution_count": 16,
   "metadata": {
    "collapsed": false
   },
   "outputs": [],
   "source": [
    "%%bash\n",
    "g++ -std=c++11 ex6.cpp -o ex6"
   ]
  },
  {
   "cell_type": "code",
   "execution_count": 17,
   "metadata": {
    "collapsed": false
   },
   "outputs": [],
   "source": [
    "%%bash\n",
    "./ex6"
   ]
  },
  {
   "cell_type": "code",
   "execution_count": 18,
   "metadata": {
    "collapsed": false
   },
   "outputs": [
    {
     "data": {
      "image/png": "[encoded data removed]",
      "text/plain": [
       "<matplotlib.figure.Figure at 0x103748240>"
      ]
     },
     "metadata": {},
     "output_type": "display_data"
    }
   ],
   "source": [
    "xs = np.loadtxt('rexp.csv', delimiter=',')\n",
    "plt.hist(xs)\n",
    "pass"
   ]
  },
  {
   "cell_type": "markdown",
   "metadata": {},
   "source": [
    "### Numeric library\n",
    "\n",
    "Armadillo is an accessible library for doing numeric operations, much like `numpy` in  Python. Please see [official documentation](http://arma.sourceforge.net/docs.html) for details. It provides vectors, matrices, tensors, linear algebra, statistical functions and a limited set of convenient random number generators.\n",
    "\n",
    "```c++\n",
    "int main() \n",
    "{\n",
    "    using namespace arma;\n",
    "\n",
    "    vec u = linspace<vec>(0,1,5);\n",
    "    vec v = ones<vec>(5);\n",
    "    mat A = randu<mat>(4,5); // uniform random deviates\n",
    "    mat B = randn<mat>(4,5); // normal random deviates\n",
    "\n",
    "    cout << \"\\nVecotrs in Armadillo\\n\";\n",
    "    cout << u << endl;\n",
    "    cout << v << endl;\n",
    "    cout << u.t() * v << endl;\n",
    "\n",
    "    cout << \"\\nRandom matrices in Armadillo\\n\";\n",
    "    cout << A << endl;\n",
    "    cout << B << endl;\n",
    "    cout << A * B.t() << endl;\n",
    "    cout << A * v << endl;\n",
    "\n",
    "    cout << \"\\nQR in Armadillo\\n\";\n",
    "    mat Q, R;\n",
    "    qr(Q, R, A.t() * A);\n",
    "    cout << Q << endl;\n",
    "    cout << R << endl;\n",
    "}\n",
    "```\n",
    "\n",
    "\n"
   ]
  },
  {
   "cell_type": "markdown",
   "metadata": {},
   "source": [
    "**Exercise 7**\n",
    "\n",
    "Use the armadillo library to\n",
    "\n",
    "- Generate 10 x-coordinates linearly spaced between 10 and 15\n",
    "- Generate 10 random y-values as $y = 3x^2 - 7x + 2 + \\epsilon$ where $\\epsilon \\sim 10 N(0,1)$\n",
    "- Find the length of $x$ and $y$ and the Euclidean distance between $x$ and $y$\n",
    "- Find the correlation between $x$ and $y$\n",
    "- Solve the linear system to find a quadratic fit for this data"
   ]
  },
  {
   "cell_type": "code",
   "execution_count": 19,
   "metadata": {
    "collapsed": false
   },
   "outputs": [
    {
     "name": "stdout",
     "output_type": "stream",
     "text": [
      "Overwriting ex7.cpp\n"
     ]
    }
   ],
   "source": [
    "%%file ex7.cpp\n",
    "#include <iostream>\n",
    "#include <fstream>\n",
    "#include <armadillo>\n",
    "using std::cout;\n",
    "using std::ofstream;\n",
    "\n",
    "int main() \n",
    "{\n",
    "    using namespace arma;\n",
    "\n",
    "    vec x = linspace<vec>(10.0,15.0,10);\n",
    "    vec eps = 10*randn<vec>(10);\n",
    "    vec y = 3*x%x - 7*x + 2 + eps; \n",
    "\n",
    "    cout << \"x:\\n\" << x << \"\\n\";\n",
    "    cout << \"y:\\n\" << y << \"\\n\";\n",
    "\n",
    "    cout << \"Lenght of x is: \" << norm(x) << \"\\n\";\n",
    "    cout << \"Lenght of y is: \" << norm(y) << \"\\n\";\n",
    "\n",
    "    cout << \"Distance(x, y) is: \" << norm(x -y) << \"\\n\";\n",
    "\n",
    "    cout << \"Correlation(x, y) is: \" << cor(x, y) << \"\\n\";\n",
    "\n",
    "    mat A = join_rows(ones<vec>(10), x);\n",
    "    A = join_rows(A, x%x);\n",
    "    cout << \"A:\\n\" << A << \"\\n\";\n",
    "\n",
    "    vec b = solve(A, y);\n",
    "    cout << \"b:\\n\" << b << \"\\n\";\n",
    "\n",
    "    ofstream fout1(\"x.txt\");\n",
    "    x.print(fout1);\n",
    "    ofstream fout2(\"y.txt\");\n",
    "    y.print(fout2);\n",
    "    ofstream fout3(\"b.txt\");\n",
    "    b.print(fout3);\n",
    "}"
   ]
  },
  {
   "cell_type": "code",
   "execution_count": 20,
   "metadata": {
    "collapsed": false
   },
   "outputs": [],
   "source": [
    "%%bash\n",
    "g++ -std=c++11 -larmadillo ex7.cpp -o ex7"
   ]
  },
  {
   "cell_type": "code",
   "execution_count": 21,
   "metadata": {
    "collapsed": false
   },
   "outputs": [
    {
     "name": "stdout",
     "output_type": "stream",
     "text": [
      "x:\n",
      "   10.0000\n",
      "   10.5556\n",
      "   11.1111\n",
      "   11.6667\n",
      "   12.2222\n",
      "   12.7778\n",
      "   13.3333\n",
      "   13.8889\n",
      "   14.4444\n",
      "   15.0000\n",
      "\n",
      "y:\n",
      "   2.4802e+02\n",
      "   2.6412e+02\n",
      "   2.9157e+02\n",
      "   3.3056e+02\n",
      "   3.4089e+02\n",
      "   3.9573e+02\n",
      "   4.4029e+02\n",
      "   4.7583e+02\n",
      "   5.2827e+02\n",
      "   5.8404e+02\n",
      "\n",
      "Lenght of x is: 39.8493\n",
      "Lenght of y is: 1280.16\n",
      "Distance(x, y) is: 1240.76\n",
      "Correlation(x, y) is:    0.9887\n",
      "\n",
      "A:\n",
      "   1.0000e+00   1.0000e+01   1.0000e+02\n",
      "   1.0000e+00   1.0556e+01   1.1142e+02\n",
      "   1.0000e+00   1.1111e+01   1.2346e+02\n",
      "   1.0000e+00   1.1667e+01   1.3611e+02\n",
      "   1.0000e+00   1.2222e+01   1.4938e+02\n",
      "   1.0000e+00   1.2778e+01   1.6327e+02\n",
      "   1.0000e+00   1.3333e+01   1.7778e+02\n",
      "   1.0000e+00   1.3889e+01   1.9290e+02\n",
      "   1.0000e+00   1.4444e+01   2.0864e+02\n",
      "   1.0000e+00   1.5000e+01   2.2500e+02\n",
      "\n",
      "b:\n",
      "   5.8621e+02\n",
      "  -1.0156e+02\n",
      "   6.7586e+00\n",
      "\n"
     ]
    }
   ],
   "source": [
    "%%bash\n",
    "./ex7"
   ]
  },
  {
   "cell_type": "code",
   "execution_count": 22,
   "metadata": {
    "collapsed": false
   },
   "outputs": [
    {
     "data": {
      "image/png": "[encoded data removed]",
      "text/plain": [
       "<matplotlib.figure.Figure at 0x119f3d198>"
      ]
     },
     "metadata": {},
     "output_type": "display_data"
    }
   ],
   "source": [
    "x = np.loadtxt('x.txt')\n",
    "y = np.loadtxt('y.txt')\n",
    "b = np.loadtxt('b.txt')\n",
    "\n",
    "plt.scatter(x, y, s=40)\n",
    "plt.plot(x, b[0] + b[1]*x + b[2]*x**2, c='red')\n",
    "pass"
   ]
  },
  {
   "cell_type": "markdown",
   "metadata": {},
   "source": [
    "### Collected source code"
   ]
  },
  {
   "cell_type": "code",
   "execution_count": 23,
   "metadata": {
    "collapsed": false
   },
   "outputs": [
    {
     "name": "stdout",
     "output_type": "stream",
     "text": [
      "Overwriting main.cpp\n"
     ]
    }
   ],
   "source": [
    "%%file main.cpp\n",
    "#include <iostream>\n",
    "#include <vector>\n",
    "#include <unordered_map>\n",
    "#include <algorithm>\n",
    "#include <numeric>\n",
    "#include <iterator>\n",
    "#include <functional>\n",
    "#include <random>\n",
    "#include <armadillo>\n",
    "\n",
    "using namespace std;\n",
    "\n",
    "/* Topics\n",
    " *\n",
    " * - for loop\n",
    " *\n",
    " *\n",
    " * - functions\n",
    " * - lambdas\n",
    " * - templates\n",
    " *\n",
    " * - iterators\n",
    " * - containers\n",
    " * - algorithms\n",
    " * - Armadillo\n",
    "*/\n",
    "\n",
    "// hello world\n",
    "void show_hello() {\n",
    "    cout << \"Hello, world!\\n\";\n",
    "}\n",
    "\n",
    "namespace sta_663 {\n",
    "    const double pi=2.14159;\n",
    "\n",
    "    void greet(string name) {\n",
    "        cout << \"\\nTraditional first program\\n\";\n",
    "        cout << \"Hello, \" << name << \"\\n\";\n",
    "    }\n",
    "}\n",
    "\n",
    "void show_namespace() {\n",
    "    cout << \"\\nUsing namespaces\\n\";\n",
    "    string name = \"Tom\";\n",
    "    cout << sta_663::pi << \"\\n\";\n",
    "    sta_663::greet(name);\n",
    "}\n",
    "\n",
    "\n",
    "// for loops\n",
    "void show_for() {\n",
    "    int x[] = {1, 2, 3, 4, 5};\n",
    "\n",
    "    cout << \"\\nTraditional for loop\\n\";\n",
    "    for (int i=0; i < sizeof(x)/sizeof(x[0]); i++) {\n",
    "        cout << i << endl;\n",
    "    }\n",
    "\n",
    "    cout << \"\\nRanged for loop\\n\\n\";\n",
    "    for (auto &i : x) {\n",
    "        cout << i << endl;\n",
    "    }\n",
    "}\n",
    "\n",
    "// simple funciton\n",
    "int add0(int a, int b) {\n",
    "    return a + b;\n",
    "}\n",
    "\n",
    "// simple function with reference variables\n",
    "void add1(int a, int b, int& c) {\n",
    "    c = a + b;\n",
    "}\n",
    "\n",
    "// lambda function\n",
    "auto add2 = [] (int a, int b) { return a + b; };\n",
    "\n",
    "void show_func() {\n",
    "\n",
    "    cout << \"\\nStandard function\\n\";\n",
    "    int a = 3, b = 4;\n",
    "    cout << add0(a, b) <<  endl;\n",
    "\n",
    "    int c = 0;\n",
    "    cout << \"\\nStandard with reference varaibles\\n\";\n",
    "\n",
    "    add1(a, b, c);\n",
    "    cout << c <<  endl;\n",
    "\n",
    "    cout << \"\\nLambda function\\n\";\n",
    "    cout << add2(a, b) <<  endl;\n",
    "\n",
    "    auto add3 = [c] (int a, int b) { return c * add2(a, b); };\n",
    "\n",
    "    c -= 5;\n",
    "    cout << \"\\nLambda function with value capture\\n\";\n",
    "    cout << add3(a, b) <<  endl;\n",
    "\n",
    "    auto add4 = [&c] (int a, int b) { return c * add2(a, b); };\n",
    "\n",
    "    cout << \"\\nLambda function with reference capture\\n\";\n",
    "    cout << add4(a, b) <<  endl;\n",
    "\n",
    "}\n",
    "\n",
    "// templates\n",
    "template <typename T>\n",
    "T add5(T a, T b) { return a + b; }\n",
    "\n",
    "void show_template() {\n",
    "\n",
    "    cout << \"\\nTemplate function with ints\\n\";\n",
    "    cout << add5(3, 4) << endl;\n",
    "\n",
    "    cout << \"\\nTemplate function with doubles\\n\";\n",
    "    cout << add5(3.14, 2.78) << endl;\n",
    "}\n",
    "\n",
    "void show_iterators() {\n",
    "    int x[] = {1, 2, 3, 4, 5};\n",
    "\n",
    "    cout << \"\\nUsing iterators\\n\";\n",
    "    for (auto it=begin(x); it != end(x); it++) {\n",
    "        cout << *it << endl;\n",
    "    }\n",
    "}\n",
    "\n",
    "void show_containers() {\n",
    "    vector<double> v = {1,2,3};\n",
    "\n",
    "    cout << \"\\nUsing the vector container\\n\";\n",
    "    for (auto it=begin(v); it != end(v); it++) {\n",
    "        cout << *it << endl;\n",
    "    }\n",
    "\n",
    "    v.push_back(4);\n",
    "    v.push_back(5);\n",
    "    cout << \"\\nGrowing the vector container\\n\";\n",
    "    for (auto it=begin(v); it != end(v); it++) {\n",
    "        cout << *it << endl;\n",
    "    }\n",
    "\n",
    "    v.pop_back();\n",
    "    cout << \"\\nShrinking the vector container\\n\";\n",
    "    for (auto it=begin(v); it != end(v); it++) {\n",
    "        cout << *it << endl;\n",
    "    }\n",
    "\n",
    "    cout << \"\\nUsing the unordered_map container\\n\";\n",
    "    unordered_map<string, int> dict =  { {\"ann\", 23}, {\"bob\", 32}, {\"charles\", 17}};\n",
    "    dict[\"doug\"] = 30;\n",
    "    for (auto it=begin(dict); it != end(dict); it++) {\n",
    "        cout << it->first << \", \" << it->second << endl;\n",
    "    }\n",
    "\n",
    "    cout << dict[\"bob\"] << endl;\n",
    "}\n",
    "\n",
    "void show_algorithms() {\n",
    "    vector<int> v(10, 0);\n",
    "\n",
    "    cout << \"\\nWorking with standard library algorithm\\n\";\n",
    "    cout << \"\\nInitial state\\n\";\n",
    "    for (auto it=begin(v); it != end(v); it++) {\n",
    "        cout << *it << \" \";\n",
    "    }\n",
    "    cout << endl;\n",
    "\n",
    "    cout << \"\\nAfter iota\\n\";\n",
    "    iota(begin(v), end(v), 5);\n",
    "    for (auto it=begin(v); it != end(v); it++) {\n",
    "        cout << *it << \" \";\n",
    "    }\n",
    "    cout << endl;\n",
    "\n",
    "    cout << \"\\nSimple accumulate\\n\";\n",
    "    int s = accumulate(begin(v), end(v), 0);\n",
    "    cout << s << endl;\n",
    "\n",
    "    cout << \"\\nAccumulate with custom sum of squares reduction\\n\";\n",
    "    int t = accumulate(begin(v), end(v), 0, [] (int acc, int x) { return acc + x*x; });\n",
    "    cout << t << endl;\n",
    "}\n",
    "\n",
    "void show_functional() {\n",
    "\n",
    "    cout << \"\\nUsing generalized function pointers\\n\";\n",
    "    using func = function<double(double, double)>;\n",
    "\n",
    "    auto f1 = [](double x, double y) { return x + y; };\n",
    "    auto f2 = [](double x, double y) { return x * y; };\n",
    "    auto f3 = [](double x, double y) { return x + y*y; };\n",
    "\n",
    "    double x = 3, y = 4;\n",
    "\n",
    "    vector<func> funcs = {f1, f2, f3,};\n",
    "\n",
    "    for (auto& f : funcs) {\n",
    "        cout << f(x, y) << \"\\n\";\n",
    "    }\n",
    "\n",
    "}\n",
    "\n",
    "void show_random() {\n",
    "    cout << \"\\nGenerating random numbers\\n\";\n",
    "\n",
    "    // start random number engine wiht fixed seed\n",
    "    default_random_engine re{12345};\n",
    "\n",
    "    uniform_int_distribution<int> uniform(1,6); // lower and upper bounds\n",
    "    poisson_distribution<int> poisson(30); // rate\n",
    "    student_t_distribution<double> t(10); // degrees of freedom\n",
    "\n",
    "    auto runif = bind (uniform, re);\n",
    "    auto rpois = bind(poisson, re);\n",
    "    auto rt = bind(t, re);\n",
    "\n",
    "    for (int i=0; i<10; i++) {\n",
    "        cout << runif() << \", \" << rpois() <<  \", \" << rt() << \"\\n\";\n",
    "    }\n",
    "}\n",
    "\n",
    "void show_amrmadillo() {\n",
    "    using namespace arma;\n",
    "\n",
    "    vec u = linspace<vec>(0,1,5);\n",
    "    vec v = ones<vec>(5);\n",
    "    mat A = randu<mat>(4,5);\n",
    "    mat B = randn<mat>(4,5);\n",
    "\n",
    "    cout << \"\\nVecotrs in Armadillo\\n\";\n",
    "    cout << u << endl;\n",
    "    cout << v << endl;\n",
    "    cout << u.t() * v << endl;\n",
    "\n",
    "    cout << \"\\nRandom matrices in Armadillo\\n\";\n",
    "    cout << A << endl;\n",
    "    cout << B << endl;\n",
    "    cout << A * B.t() << endl;\n",
    "    cout << A * v << endl;\n",
    "\n",
    "    cout << \"\\nQR in Armadillo\\n\";\n",
    "    mat Q, R;\n",
    "    qr(Q, R, A.t() * A);\n",
    "    cout << Q << endl;\n",
    "    cout << R << endl;\n",
    "}\n",
    "\n",
    "int main() {\n",
    "    show_hello();\n",
    "    show_namespace();\n",
    "    show_for();\n",
    "    show_func();\n",
    "    show_template();\n",
    "    show_iterators();\n",
    "    show_containers();\n",
    "    show_algorithms();\n",
    "    show_functional();\n",
    "    show_random();\n",
    "    show_amrmadillo();\n",
    "}"
   ]
  },
  {
   "cell_type": "markdown",
   "metadata": {},
   "source": [
    "Compilation\n",
    "----"
   ]
  },
  {
   "cell_type": "code",
   "execution_count": 24,
   "metadata": {
    "collapsed": false
   },
   "outputs": [],
   "source": [
    "%%bash\n",
    "\n",
    "g++ -O3 -std=c++11 -larmadillo main.cpp -o main"
   ]
  },
  {
   "cell_type": "markdown",
   "metadata": {},
   "source": [
    "Execution\n",
    "----"
   ]
  },
  {
   "cell_type": "code",
   "execution_count": 25,
   "metadata": {
    "collapsed": false
   },
   "outputs": [
    {
     "name": "stdout",
     "output_type": "stream",
     "text": [
      "Hello, world!\n",
      "\n",
      "Using namespaces\n",
      "2.14159\n",
      "\n",
      "Traditional first program\n",
      "Hello, Tom\n",
      "\n",
      "Traditional for loop\n",
      "0\n",
      "1\n",
      "2\n",
      "3\n",
      "4\n",
      "\n",
      "Ranged for loop\n",
      "\n",
      "1\n",
      "2\n",
      "3\n",
      "4\n",
      "5\n",
      "\n",
      "Standard function\n",
      "7\n",
      "\n",
      "Standard with reference varaibles\n",
      "7\n",
      "\n",
      "Lambda function\n",
      "7\n",
      "\n",
      "Lambda function with value capture\n",
      "49\n",
      "\n",
      "Lambda function with reference capture\n",
      "14\n",
      "\n",
      "Template function with ints\n",
      "7\n",
      "\n",
      "Template function with doubles\n",
      "5.92\n",
      "\n",
      "Using iterators\n",
      "1\n",
      "2\n",
      "3\n",
      "4\n",
      "5\n",
      "\n",
      "Using the vector container\n",
      "1\n",
      "2\n",
      "3\n",
      "\n",
      "Growing the vector container\n",
      "1\n",
      "2\n",
      "3\n",
      "4\n",
      "5\n",
      "\n",
      "Shrinking the vector container\n",
      "1\n",
      "2\n",
      "3\n",
      "4\n",
      "\n",
      "Using the unordered_map container\n",
      "doug, 30\n",
      "charles, 17\n",
      "bob, 32\n",
      "ann, 23\n",
      "32\n",
      "\n",
      "Working with standard library algorithm\n",
      "\n",
      "Initial state\n",
      "0 0 0 0 0 0 0 0 0 0 \n",
      "\n",
      "After iota\n",
      "5 6 7 8 9 10 11 12 13 14 \n",
      "\n",
      "Simple accumulate\n",
      "95\n",
      "\n",
      "Accumulate with custom sum of squares reduction\n",
      "985\n",
      "\n",
      "Using generalized function pointers\n",
      "7\n",
      "12\n",
      "19\n",
      "\n",
      "Generating random numbers\n",
      "3, 30, 0.0796641\n",
      "5, 38, 0.163947\n",
      "3, 26, -0.570003\n",
      "6, 27, 0.872475\n",
      "6, 33, -0.260322\n",
      "2, 28, 0.798292\n",
      "1, 22, 0.00164128\n",
      "4, 29, 0.633913\n",
      "5, 41, 1.00468\n",
      "6, 31, -0.00420647\n",
      "\n",
      "Vecotrs in Armadillo\n",
      "        0\n",
      "   0.2500\n",
      "   0.5000\n",
      "   0.7500\n",
      "   1.0000\n",
      "\n",
      "   1.0000\n",
      "   1.0000\n",
      "   1.0000\n",
      "   1.0000\n",
      "   1.0000\n",
      "\n",
      "   2.5000\n",
      "\n",
      "\n",
      "Random matrices in Armadillo\n",
      "   7.8264e-06   5.3277e-01   6.7930e-01   8.3097e-01   6.7115e-01\n",
      "   1.3154e-01   2.1896e-01   9.3469e-01   3.4572e-02   7.6982e-03\n",
      "   7.5561e-01   4.7045e-02   3.8350e-01   5.3462e-02   3.8342e-01\n",
      "   4.5865e-01   6.7886e-01   5.1942e-01   5.2970e-01   6.6842e-02\n",
      "\n",
      "  -0.7649   1.2041  -0.7020   1.1862   0.8284\n",
      "   1.7313   0.0937   1.6814  -0.8631   0.9426\n",
      "   0.1454  -0.6920   0.2742   0.6810   0.2091\n",
      "   0.7032   0.2610   0.1752   1.3165  -0.5897\n",
      "\n",
      "   1.7063   1.1075   0.5238   0.9563\n",
      "  -0.4457   1.7973   0.1490   0.3544\n",
      "  -0.4095   2.2726   0.2990   0.4551\n",
      "   0.7857   1.3368   0.1140   1.2487\n",
      "\n",
      "   2.7142\n",
      "   1.3275\n",
      "   1.6230\n",
      "   2.2535\n",
      "\n",
      "\n",
      "QR in Armadillo\n",
      "  -0.6776   0.6377   0.3253   0.0944  -0.1395\n",
      "  -0.3188  -0.4409   0.3521   0.4177   0.6368\n",
      "  -0.5524  -0.2366  -0.7774   0.1504  -0.1092\n",
      "  -0.2443  -0.5816   0.4071  -0.1709  -0.6380\n",
      "  -0.2727  -0.0688  -0.0099  -0.8745   0.3950\n",
      "\n",
      "  -1.1785e+00  -1.3394e+00  -2.1015e+00  -1.3527e+00  -1.0229e+00\n",
      "        0e+00  -8.3421e-01  -9.7607e-01  -9.9515e-01  -5.3245e-01\n",
      "        0e+00        0e+00  -4.6336e-01   7.6793e-02  -4.0376e-03\n",
      "        0e+00        0e+00        0e+00  -2.0273e-01  -3.2745e-01\n",
      "        0e+00        0e+00        0e+00        0e+00   1.1102e-16\n",
      "\n"
     ]
    }
   ],
   "source": [
    "%%bash\n",
    "\n",
    "./main"
   ]
  },
  {
   "cell_type": "code",
   "execution_count": null,
   "metadata": {
    "collapsed": true
   },
   "outputs": [],
   "source": []
  }
 ],
 "metadata": {
  "kernelspec": {
   "display_name": "Python 3",
   "language": "python",
   "name": "python3"
  },
  "language_info": {
   "codemirror_mode": {
    "name": "ipython",
    "version": 3
   },
   "file_extension": ".py",
   "mimetype": "text/x-python",
   "name": "python",
   "nbconvert_exporter": "python",
   "pygments_lexer": "ipython3",
   "version": "3.5.1"
  }
 },
 "nbformat": 4,
 "nbformat_minor": 0
}
