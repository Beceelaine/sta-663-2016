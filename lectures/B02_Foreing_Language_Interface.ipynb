{
 "cells": [
  {
   "cell_type": "markdown",
   "metadata": {},
   "source": [
    "Foreign Function Interface\n",
    "===="
   ]
  },
  {
   "cell_type": "code",
   "execution_count": 1,
   "metadata": {
    "collapsed": true
   },
   "outputs": [],
   "source": [
    "%matplotlib inline\n",
    "import matplotlib.pyplot as plt\n",
    "plt.style.use('ggplot')"
   ]
  },
  {
   "cell_type": "code",
   "execution_count": 2,
   "metadata": {
    "collapsed": true
   },
   "outputs": [],
   "source": [
    "import numpy as np"
   ]
  },
  {
   "cell_type": "markdown",
   "metadata": {
    "collapsed": true
   },
   "source": [
    "Wrapping functions written in C\n",
    "----\n",
    "\n",
    "### Steps \n",
    "\n",
    "- Write the C header and implemntation files\n",
    "- Write the Cython `.pxd` file to decalre C function signatures\n",
    "- Write the Cython `.pyx` file to wrap the C functions for Python\n",
    "- Write `setup.py` to automate buiding of the Python extension module\n",
    "- Run `python setup.py build_ext --inplace` to build the module\n",
    "- Import module in Python like any other Python module"
   ]
  },
  {
   "cell_type": "markdown",
   "metadata": {},
   "source": [
    "### C header file"
   ]
  },
  {
   "cell_type": "code",
   "execution_count": 3,
   "metadata": {
    "collapsed": false
   },
   "outputs": [
    {
     "name": "stdout",
     "output_type": "stream",
     "text": [
      "Overwriting c_math.h\n"
     ]
    }
   ],
   "source": [
    "%%file c_math.h\n",
    "\n",
    "#pragma once\n",
    "double plus(double a, double b);\n",
    "double mult(double a, double b);\n",
    "double square(double a);\n",
    "double acc(double *xs, int size);"
   ]
  },
  {
   "cell_type": "markdown",
   "metadata": {},
   "source": [
    "### C implementation file"
   ]
  },
  {
   "cell_type": "code",
   "execution_count": 4,
   "metadata": {
    "collapsed": false
   },
   "outputs": [
    {
     "name": "stdout",
     "output_type": "stream",
     "text": [
      "Overwriting c_math.c\n"
     ]
    }
   ],
   "source": [
    "%%file c_math.c\n",
    "#include <math.h>\n",
    "#include \"c_math.h\"\n",
    "\n",
    "double plus(double a, double b) {\n",
    "    return a + b;\n",
    "};\n",
    "\n",
    "double mult(double a, double b) {\n",
    "    return a * b;\n",
    "};\n",
    "\n",
    "double square(double a) {\n",
    "    return pow(a, 2);\n",
    "};\n",
    "\n",
    "double acc(double *xs, int size) {\n",
    "    double s = 0;\n",
    "    for (int i=0; i<size; i++) {\n",
    "        s += xs[i];\n",
    "    }\n",
    "    return s;\n",
    "};"
   ]
  },
  {
   "cell_type": "markdown",
   "metadata": {},
   "source": [
    "### Cython \"header\" file\n",
    "\n",
    "The `.pxd` file is similar to a header file for Cython. In ohter words, we can `cimport <filename>.pxd` in the regular Cython `.pyx` files to get access to functions decalred in the `.pxd` files."
   ]
  },
  {
   "cell_type": "code",
   "execution_count": 5,
   "metadata": {
    "collapsed": false
   },
   "outputs": [
    {
     "name": "stdout",
     "output_type": "stream",
     "text": [
      "Overwriting cy_math.pxd\n"
     ]
    }
   ],
   "source": [
    "%%file cy_math.pxd\n",
    "\n",
    "cdef extern from \"c_math.h\":\n",
    "    double plus(double a, double b)\n",
    "    double mult(double a, double b)\n",
    "    double square(double a)\n",
    "    double acc(double *xs, int size)"
   ]
  },
  {
   "cell_type": "markdown",
   "metadata": {},
   "source": [
    "### Cython \"implementation\" file\n",
    "\n",
    "Here is whhere we actaully wrap the C code for use in Python. Note especially how we handle passing in of arrays to a C funciton expecting a pointer to double using `typed memoryviews`."
   ]
  },
  {
   "cell_type": "code",
   "execution_count": 6,
   "metadata": {
    "collapsed": false
   },
   "outputs": [
    {
     "name": "stdout",
     "output_type": "stream",
     "text": [
      "Overwriting cy_math.pyx\n"
     ]
    }
   ],
   "source": [
    "%%file cy_math.pyx\n",
    "\n",
    "cimport cy_math\n",
    "\n",
    "def py_plus(double a, double b):\n",
    "    return cy_math.plus(a, b)\n",
    "\n",
    "def py_mult(double a, double b):\n",
    "    return cy_math.mult(a, b)\n",
    "\n",
    "def py_square(double a):\n",
    "    return cy_math.square(a)\n",
    "\n",
    "def py_sum(double[::1] xs):\n",
    "    cdef int size = len(xs)\n",
    "    return cy_math.acc(&xs[0], size)"
   ]
  },
  {
   "cell_type": "markdown",
   "metadata": {},
   "source": [
    "### Build script `setup.py`\n",
    "\n",
    "This is build script for Python, similar to a Makefile"
   ]
  },
  {
   "cell_type": "code",
   "execution_count": 7,
   "metadata": {
    "collapsed": false
   },
   "outputs": [
    {
     "name": "stdout",
     "output_type": "stream",
     "text": [
      "Overwriting setup.py\n"
     ]
    }
   ],
   "source": [
    "%%file setup.py\n",
    "\n",
    "from distutils.core import setup, Extension\n",
    "from Cython.Build import cythonize\n",
    "import numpy as np\n",
    "\n",
    "ext = Extension(\"cy_math\",\n",
    "                sources=[\"cy_math.pyx\", \"c_math.c\"],\n",
    "                libraries=[\"m\"],\n",
    "                extra_compile_args=[\"-w\",  \"-std=c99\"])\n",
    "\n",
    "setup(name = \"Math Funcs\",\n",
    "      ext_modules = cythonize(ext))"
   ]
  },
  {
   "cell_type": "markdown",
   "metadata": {},
   "source": [
    "### Building an extension module"
   ]
  },
  {
   "cell_type": "code",
   "execution_count": 8,
   "metadata": {
    "collapsed": false
   },
   "outputs": [
    {
     "name": "stdout",
     "output_type": "stream",
     "text": [
      "Compiling cy_math.pyx because it changed.\n",
      "Cythonizing cy_math.pyx\n",
      "running clean\n",
      "removing 'build/temp.linux-x86_64-3.4' (and everything under it)\n",
      "removing 'build'\n"
     ]
    }
   ],
   "source": [
    "! python setup.py clean\n",
    "! python setup.py -q build_ext --inplace"
   ]
  },
  {
   "cell_type": "code",
   "execution_count": 9,
   "metadata": {
    "collapsed": false
   },
   "outputs": [
    {
     "name": "stdout",
     "output_type": "stream",
     "text": [
      "cy_math.c  cy_math.cpython-34m.so  cy_math.pxd\tcy_math.pyx\r\n"
     ]
    }
   ],
   "source": [
    "! ls cy_math*"
   ]
  },
  {
   "cell_type": "markdown",
   "metadata": {},
   "source": [
    "### Using the extension module in Python"
   ]
  },
  {
   "cell_type": "code",
   "execution_count": 10,
   "metadata": {
    "collapsed": false
   },
   "outputs": [
    {
     "name": "stdout",
     "output_type": "stream",
     "text": [
      "7.0\n",
      "12.0\n",
      "9.0\n",
      "45.0\n"
     ]
    }
   ],
   "source": [
    "import cy_math\n",
    "import numpy as np\n",
    "\n",
    "print(cy_math.py_plus(3, 4))\n",
    "print(cy_math.py_mult(3, 4))\n",
    "print(cy_math.py_square(3))\n",
    "\n",
    "xs = np.arange(10, dtype='float')\n",
    "print(cy_math.py_sum(xs))"
   ]
  },
  {
   "cell_type": "markdown",
   "metadata": {},
   "source": [
    "### Confirm that we are geting C speedups by comparing with pure Python accumulator"
   ]
  },
  {
   "cell_type": "code",
   "execution_count": 11,
   "metadata": {
    "collapsed": true
   },
   "outputs": [],
   "source": [
    "def acc(xs):\n",
    "    s = 0\n",
    "    for x in xs:\n",
    "        s += x\n",
    "    return s"
   ]
  },
  {
   "cell_type": "code",
   "execution_count": 12,
   "metadata": {
    "collapsed": false
   },
   "outputs": [
    {
     "name": "stdout",
     "output_type": "stream",
     "text": [
      "3 loops, best of 3: 111 ms per loop\n",
      "3 loops, best of 3: 1e+03 µs per loop\n"
     ]
    }
   ],
   "source": [
    "import cy_math\n",
    "\n",
    "xs = np.arange(1000000, dtype='float')\n",
    "%timeit -r3 -n3 acc(xs)\n",
    "%timeit -r3 -n3 cy_math.py_sum(xs)"
   ]
  },
  {
   "cell_type": "markdown",
   "metadata": {},
   "source": [
    "C++\n",
    "----\n",
    "\n",
    "This is almost similar to C. We will use Cython to wrap a simple funciton. "
   ]
  },
  {
   "cell_type": "code",
   "execution_count": 13,
   "metadata": {
    "collapsed": false
   },
   "outputs": [
    {
     "name": "stdout",
     "output_type": "stream",
     "text": [
      "Overwriting add.hpp\n"
     ]
    }
   ],
   "source": [
    "%%file add.hpp\n",
    "#pragma once\n",
    "int add(int a, int b);"
   ]
  },
  {
   "cell_type": "code",
   "execution_count": 14,
   "metadata": {
    "collapsed": false
   },
   "outputs": [
    {
     "name": "stdout",
     "output_type": "stream",
     "text": [
      "Overwriting add.cpp\n"
     ]
    }
   ],
   "source": [
    "%%file add.cpp\n",
    "int add(int a, int b) {\n",
    "    return a+b;\n",
    "}"
   ]
  },
  {
   "cell_type": "code",
   "execution_count": 15,
   "metadata": {
    "collapsed": false
   },
   "outputs": [
    {
     "name": "stdout",
     "output_type": "stream",
     "text": [
      "Overwriting plus.pyx\n"
     ]
    }
   ],
   "source": [
    "%%file plus.pyx\n",
    "\n",
    "cdef extern from 'add.cpp':\n",
    "    int add(int a, int b)\n",
    "    \n",
    "def plus(a, b):\n",
    "    return add(a, b)"
   ]
  },
  {
   "cell_type": "markdown",
   "metadata": {},
   "source": [
    "#### Note that essentially the only differnece from C  is `language=\"C++\"` and the floag `-std=c++11`"
   ]
  },
  {
   "cell_type": "code",
   "execution_count": 16,
   "metadata": {
    "collapsed": false
   },
   "outputs": [
    {
     "name": "stdout",
     "output_type": "stream",
     "text": [
      "Overwriting setup.py\n"
     ]
    }
   ],
   "source": [
    "%%file setup.py \n",
    "from distutils.core import setup, Extension\n",
    "from Cython.Build import cythonize\n",
    "\n",
    "ext = Extension(\"plus\",\n",
    "                sources=[\"plus.pyx\", \"add.cpp\"],\n",
    "                extra_compile_args=[\"-w\", \"-std=c++11\"])\n",
    "\n",
    "setup(\n",
    "    ext_modules = cythonize(\n",
    "            ext,\n",
    "            language=\"c++\",        \n",
    "      ))"
   ]
  },
  {
   "cell_type": "code",
   "execution_count": 17,
   "metadata": {
    "collapsed": false
   },
   "outputs": [
    {
     "name": "stdout",
     "output_type": "stream",
     "text": [
      "Compiling plus.pyx because it changed.\n",
      "Cythonizing plus.pyx\n"
     ]
    },
    {
     "name": "stderr",
     "output_type": "stream",
     "text": [
      "cc1plus: warning: command line option '-Wstrict-prototypes' is valid for C/ObjC but not for C++ [enabled by default]\n"
     ]
    }
   ],
   "source": [
    "%%bash\n",
    "python setup.py -q build_ext --inplace"
   ]
  },
  {
   "cell_type": "code",
   "execution_count": 18,
   "metadata": {
    "collapsed": false
   },
   "outputs": [
    {
     "data": {
      "text/plain": [
       "7"
      ]
     },
     "execution_count": 18,
     "metadata": {},
     "output_type": "execute_result"
    }
   ],
   "source": [
    "import plus\n",
    "\n",
    "plus.plus(3, 4)"
   ]
  },
  {
   "cell_type": "markdown",
   "metadata": {},
   "source": [
    "Wrap an R function from libRmath using `ctypes`\n",
    "----\n",
    "\n",
    "R comes with a standalone C library of special functions and distributions, as described in the official documentation. These functions can be wrapped for use in Python."
   ]
  },
  {
   "cell_type": "markdown",
   "metadata": {},
   "source": [
    "### Building the Rmath standalone library\n",
    "\n",
    "```bash\n",
    "git clone https://github.com/JuliaLang/Rmath-julia.git\n",
    "cd Rmath-julia/src\n",
    "make\n",
    "cd ../..\n",
    "```"
   ]
  },
  {
   "cell_type": "markdown",
   "metadata": {},
   "source": [
    "#### Functions to wrap"
   ]
  },
  {
   "cell_type": "code",
   "execution_count": 19,
   "metadata": {
    "collapsed": false
   },
   "outputs": [
    {
     "name": "stdout",
     "output_type": "stream",
     "text": [
      "double\tdnorm(double, double, double, int);\r\n",
      "double\tpnorm(double, double, double, int, int);\r\n",
      "double\tqnorm(double, double, double, int, int);\r\n",
      "double\trnorm(double, double);\r\n"
     ]
    }
   ],
   "source": [
    "! grep \"\\s.norm(\" Rmath-julia/include/Rmath.h"
   ]
  },
  {
   "cell_type": "code",
   "execution_count": 20,
   "metadata": {
    "collapsed": true
   },
   "outputs": [],
   "source": [
    "from ctypes import CDLL, c_int, c_double"
   ]
  },
  {
   "cell_type": "code",
   "execution_count": 21,
   "metadata": {
    "collapsed": false
   },
   "outputs": [
    {
     "name": "stdout",
     "output_type": "stream",
     "text": [
      "Rmath-julia/src/libRmath-julia.so\n"
     ]
    }
   ],
   "source": [
    "%%bash\n",
    "ls Rmath-julia/src/*so"
   ]
  },
  {
   "cell_type": "code",
   "execution_count": 22,
   "metadata": {
    "collapsed": false
   },
   "outputs": [],
   "source": [
    "lib = CDLL('Rmath-julia/src/libRmath-julia.so')\n",
    "\n",
    "def rnorm(mu=0, sigma=1):\n",
    "    lib.rnorm.argtypes = [c_double, c_double]\n",
    "    lib.rnorm.restype  = c_double\n",
    "    return lib.rnorm(mu, sigma)\n",
    "\n",
    "def dnorm(x, mean=0, sd=1, log=0):\n",
    "    lib.dnorm4.argtypes = [c_double, c_double, c_double, c_int]\n",
    "    lib.dnorm4.restype  = c_double\n",
    "    return lib.dnorm4(x, mean, sd, log)\n",
    "\n",
    "def pnorm(q, mu=0, sd=1, lower_tail=1, log_p=0):\n",
    "    lib.pnorm5.argtypes = [c_double, c_double, c_double, c_int, c_int]\n",
    "    lib.pnorm5.restype  = c_double\n",
    "    return lib.pnorm5(q, mu, sd, lower_tail, log_p)\n",
    "\n",
    "def qnorm(p, mu=0, sd=1, lower_tail=1, log_p=0):\n",
    "    lib.qnorm5.argtypes = [c_double, c_double, c_double, c_int, c_int]\n",
    "    lib.qnorm5.restype  = c_double\n",
    "    return lib.qnorm5(p, mu, sd, lower_tail, log_p)"
   ]
  },
  {
   "cell_type": "code",
   "execution_count": 23,
   "metadata": {
    "collapsed": false
   },
   "outputs": [
    {
     "data": {
      "text/plain": [
       "0.022750131948179212"
      ]
     },
     "execution_count": 23,
     "metadata": {},
     "output_type": "execute_result"
    }
   ],
   "source": [
    "pnorm(0, mu=2)"
   ]
  },
  {
   "cell_type": "code",
   "execution_count": 24,
   "metadata": {
    "collapsed": false
   },
   "outputs": [
    {
     "data": {
      "text/plain": [
       "0.0"
      ]
     },
     "execution_count": 24,
     "metadata": {},
     "output_type": "execute_result"
    }
   ],
   "source": [
    "qnorm(0.022750131948179212, mu=2)"
   ]
  },
  {
   "cell_type": "code",
   "execution_count": 25,
   "metadata": {
    "collapsed": false
   },
   "outputs": [
    {
     "data": {
      "image/png": "[encoded data removed]",
      "text/plain": [
       "<matplotlib.figure.Figure at 0x7f21362ecef0>"
      ]
     },
     "metadata": {},
     "output_type": "display_data"
    }
   ],
   "source": [
    "plt.hist([rnorm() for i in range(100)])\n",
    "pass"
   ]
  },
  {
   "cell_type": "code",
   "execution_count": 26,
   "metadata": {
    "collapsed": false
   },
   "outputs": [
    {
     "data": {
      "image/png": "[encoded data removed]",
      "text/plain": [
       "<matplotlib.figure.Figure at 0x7f2134c42710>"
      ]
     },
     "metadata": {},
     "output_type": "display_data"
    }
   ],
   "source": [
    "xs = np.linspace(-3,3,100)\n",
    "plt.plot(xs, list(map(dnorm, xs)))\n",
    "pass"
   ]
  },
  {
   "cell_type": "markdown",
   "metadata": {},
   "source": [
    "### Using Cython to wrap standalone library"
   ]
  },
  {
   "cell_type": "code",
   "execution_count": 27,
   "metadata": {
    "collapsed": false
   },
   "outputs": [
    {
     "name": "stdout",
     "output_type": "stream",
     "text": [
      "Overwriting rmath.pxd\n"
     ]
    }
   ],
   "source": [
    "%%file rmath.pxd\n",
    "\n",
    "cdef extern from \"Rmath-julia/include/Rmath.h\":\n",
    "    double dnorm(double, double, double, int)\n",
    "    double pnorm(double, double, double, int, int)\n",
    "    double qnorm(double, double, double, int, int)\n",
    "    double rnorm(double, double)"
   ]
  },
  {
   "cell_type": "code",
   "execution_count": 28,
   "metadata": {
    "collapsed": false
   },
   "outputs": [
    {
     "name": "stdout",
     "output_type": "stream",
     "text": [
      "Overwriting rmath.pyx\n"
     ]
    }
   ],
   "source": [
    "%%file rmath.pyx\n",
    "\n",
    "cimport rmath\n",
    "\n",
    "def rnorm_(mu=0, sigma=1):\n",
    "    return rmath.rnorm(mu, sigma)\n",
    "\n",
    "def dnorm_(x, mean=0, sd=1, log=0):\n",
    "    return rmath.dnorm(x, mean, sd, log)\n",
    "\n",
    "def pnorm_(q, mu=0, sd=1, lower_tail=1, log_p=0):\n",
    "    return rmath.pnorm(q, mu, sd, lower_tail, log_p)\n",
    "\n",
    "def qnorm_(p, mu=0, sd=1, lower_tail=1, log_p=0):\n",
    "    return rmath.qnorm(p, mu, sd, lower_tail, log_p)"
   ]
  },
  {
   "cell_type": "code",
   "execution_count": 29,
   "metadata": {
    "collapsed": false
   },
   "outputs": [
    {
     "name": "stdout",
     "output_type": "stream",
     "text": [
      "Overwriting setup.py\n"
     ]
    }
   ],
   "source": [
    "%%file setup.py \n",
    "from distutils.core import setup, Extension\n",
    "from Cython.Build import cythonize\n",
    "\n",
    "ext = Extension(\"rmath\",\n",
    "                sources=[\"rmath.pyx\"],\n",
    "                include_dirs=[\"Rmath-julia/include\"],\n",
    "                library_dirs=[\"Rmath-julia/src\"],\n",
    "                libraries=[\"Rmath-julia\"],\n",
    "                runtime_library_dirs=[\"Rmath-julia/src\"],\n",
    "                extra_compile_args=[\"-w\",  \"-std=c99\", \"-DMATHLIB_STANDALONE\"],\n",
    "                extra_link_args=[],\n",
    "               )\n",
    "\n",
    "setup(\n",
    "    ext_modules = cythonize(\n",
    "            ext\n",
    "    ))"
   ]
  },
  {
   "cell_type": "code",
   "execution_count": 30,
   "metadata": {
    "collapsed": false
   },
   "outputs": [
    {
     "name": "stdout",
     "output_type": "stream",
     "text": [
      "Compiling rmath.pyx because it changed.\n",
      "Cythonizing rmath.pyx\n",
      "running build_ext\n",
      "building 'rmath' extension\n",
      "gcc -pthread -DNDEBUG -g -fwrapv -O3 -Wall -Wstrict-prototypes -fPIC -IRmath-julia/include -I/opt/conda/include/python3.4m -c rmath.c -o build/temp.linux-x86_64-3.4/rmath.o -w -std=c99 -DMATHLIB_STANDALONE\n",
      "gcc -pthread -shared -L/opt/conda/lib -Wl,-rpath=/opt/conda/lib,--no-as-needed build/temp.linux-x86_64-3.4/rmath.o -LRmath-julia/src -L/opt/conda/lib -Wl,--enable-new-dtags,-RRmath-julia/src -lRmath-julia -lpython3.4m -o /home/jovyan/work/sta-663-2016/lectures/rmath.cpython-34m.so\n"
     ]
    }
   ],
   "source": [
    "! python setup.py build_ext --inplace"
   ]
  },
  {
   "cell_type": "code",
   "execution_count": 31,
   "metadata": {
    "collapsed": false
   },
   "outputs": [
    {
     "data": {
      "image/png": "[encoded data removed]",
      "text/plain": [
       "<matplotlib.figure.Figure at 0x7f2135856048>"
      ]
     },
     "metadata": {},
     "output_type": "display_data"
    }
   ],
   "source": [
    "import rmath\n",
    "\n",
    "plt.hist([rmath.rnorm_() for i in range(100)])\n",
    "pass"
   ]
  },
  {
   "cell_type": "code",
   "execution_count": 32,
   "metadata": {
    "collapsed": false
   },
   "outputs": [
    {
     "data": {
      "image/png": "[encoded data removed]",
      "text/plain": [
       "<matplotlib.figure.Figure at 0x7f2135812898>"
      ]
     },
     "metadata": {},
     "output_type": "display_data"
    }
   ],
   "source": [
    "xs = np.linspace(-3,3,100)\n",
    "plt.plot(xs, list(map(rmath.dnorm_, xs)))\n",
    "pass"
   ]
  },
  {
   "cell_type": "markdown",
   "metadata": {},
   "source": [
    "### `Cython` wrappers are faster than `ctypes`"
   ]
  },
  {
   "cell_type": "code",
   "execution_count": 33,
   "metadata": {
    "collapsed": false
   },
   "outputs": [
    {
     "name": "stdout",
     "output_type": "stream",
     "text": [
      "The slowest run took 258.12 times longer than the fastest. This could mean that an intermediate result is being cached.\n",
      "100000 loops, best of 3: 4.06 µs per loop\n",
      "The slowest run took 12.00 times longer than the fastest. This could mean that an intermediate result is being cached.\n",
      "1000000 loops, best of 3: 492 ns per loop\n"
     ]
    }
   ],
   "source": [
    "%timeit pnorm(0, mu=2)\n",
    "%timeit rmath.pnorm_(0, mu=2)"
   ]
  },
  {
   "cell_type": "markdown",
   "metadata": {},
   "source": [
    "Fortran\n",
    "----"
   ]
  },
  {
   "cell_type": "code",
   "execution_count": 34,
   "metadata": {
    "collapsed": false
   },
   "outputs": [
    {
     "name": "stdout",
     "output_type": "stream",
     "text": [
      "Requirement already satisfied (use --upgrade to upgrade): fortran-magic in /opt/conda/lib/python3.4/site-packages\r\n",
      "Requirement already satisfied (use --upgrade to upgrade): numpy in /opt/conda/lib/python3.4/site-packages (from fortran-magic)\r\n",
      "Requirement already satisfied (use --upgrade to upgrade): ipython in /opt/conda/lib/python3.4/site-packages (from fortran-magic)\r\n"
     ]
    }
   ],
   "source": [
    "! pip install fortran-magic"
   ]
  },
  {
   "cell_type": "code",
   "execution_count": 35,
   "metadata": {
    "collapsed": false
   },
   "outputs": [
    {
     "name": "stderr",
     "output_type": "stream",
     "text": [
      "/opt/conda/lib/python3.4/site-packages/IPython/utils/path.py:264: UserWarning: get_ipython_cache_dir has moved to the IPython.paths module\n",
      "  warn(\"get_ipython_cache_dir has moved to the IPython.paths module\")\n"
     ]
    },
    {
     "data": {
      "application/javascript": [
       "$.getScript(\"https://raw.github.com/marijnh/CodeMirror/master/mode/fortran/fortran.js\", function () {\n",
       "IPython.config.cell_magic_highlight['magic_fortran'] = {'reg':[/^%%fortran/]};});\n"
      ]
     },
     "metadata": {},
     "output_type": "display_data"
    }
   ],
   "source": [
    "%load_ext fortranmagic"
   ]
  },
  {
   "cell_type": "code",
   "execution_count": 36,
   "metadata": {
    "collapsed": true
   },
   "outputs": [],
   "source": [
    "%%fortran\n",
    "\n",
    "subroutine fort_sum(N, s)\n",
    "    integer*8, intent(in) :: N\n",
    "    integer*8, intent(out) :: s\n",
    "    integer*8 i\n",
    "    s = 0\n",
    "    do i = 1, N\n",
    "        s = s + i*i\n",
    "    end do\n",
    "end "
   ]
  },
  {
   "cell_type": "code",
   "execution_count": 37,
   "metadata": {
    "collapsed": false
   },
   "outputs": [
    {
     "data": {
      "text/plain": [
       "385"
      ]
     },
     "execution_count": 37,
     "metadata": {},
     "output_type": "execute_result"
    }
   ],
   "source": [
    "fort_sum(10)"
   ]
  },
  {
   "cell_type": "markdown",
   "metadata": {},
   "source": [
    "#### Antoher example from the [documentation](http://nbviewer.ipython.org/github/mgaitan/fortran_magic/blob/master/documentation.ipynb)"
   ]
  },
  {
   "cell_type": "code",
   "execution_count": 38,
   "metadata": {
    "collapsed": true
   },
   "outputs": [],
   "source": [
    "%%fortran --link lapack\n",
    "\n",
    "subroutine solve(A, b, x, n)\n",
    "    ! solve the matrix equation A*x=b using LAPACK\n",
    "    implicit none\n",
    "\n",
    "    real*8, dimension(n,n), intent(in) :: A\n",
    "    real*8, dimension(n), intent(in) :: b\n",
    "    real*8, dimension(n), intent(out) :: x\n",
    "\n",
    "    integer :: pivot(n), ok\n",
    "\n",
    "    integer, intent(in) :: n\n",
    "    x = b\n",
    "\n",
    "    ! find the solution using the LAPACK routine SGESV\n",
    "    call DGESV(n, 1, A, n, pivot, x, n, ok)\n",
    "    \n",
    "end subroutine"
   ]
  },
  {
   "cell_type": "code",
   "execution_count": 39,
   "metadata": {
    "collapsed": false
   },
   "outputs": [
    {
     "data": {
      "text/plain": [
       "array([-0.19565217,  0.47826087])"
      ]
     },
     "execution_count": 39,
     "metadata": {},
     "output_type": "execute_result"
    }
   ],
   "source": [
    "A = np.array([[1, 2.5], [-3, 4]])\n",
    "b = np.array([1, 2.5])\n",
    "\n",
    "solve(A, b)"
   ]
  },
  {
   "cell_type": "markdown",
   "metadata": {},
   "source": [
    "Interfacing with R\n",
    "----"
   ]
  },
  {
   "cell_type": "code",
   "execution_count": 40,
   "metadata": {
    "collapsed": true
   },
   "outputs": [],
   "source": [
    "%load_ext rpy2.ipython"
   ]
  },
  {
   "cell_type": "code",
   "execution_count": 41,
   "metadata": {
    "collapsed": false
   },
   "outputs": [
    {
     "name": "stderr",
     "output_type": "stream",
     "text": [
      "/opt/conda/lib/python3.4/site-packages/rpy2/robjects/functions.py:106: UserWarning: Use suppressPackageStartupMessages to eliminate package startup messages.\n",
      "\n",
      "  res = super(Function, self).__call__(*new_args, **new_kwargs)\n"
     ]
    },
    {
     "data": {
      "image/png": "[encoded data removed]"
     },
     "metadata": {},
     "output_type": "display_data"
    }
   ],
   "source": [
    "%%R\n",
    "library(ggplot2)\n",
    "suppressPackageStartupMessages(\n",
    "    ggplot(mtcars, aes(x=wt, y=mpg)) + geom_point() + geom_smooth(method=loess)\n",
    ")"
   ]
  },
  {
   "cell_type": "markdown",
   "metadata": {},
   "source": [
    "#### Converting between Python and R"
   ]
  },
  {
   "cell_type": "code",
   "execution_count": 42,
   "metadata": {
    "collapsed": true
   },
   "outputs": [],
   "source": [
    "%R -o mtcars"
   ]
  },
  {
   "cell_type": "markdown",
   "metadata": {},
   "source": [
    "#### `mtcars` is now a Python dataframe"
   ]
  },
  {
   "cell_type": "code",
   "execution_count": 43,
   "metadata": {
    "collapsed": false
   },
   "outputs": [
    {
     "data": {
      "text/html": [
       "<div>\n",
       "<table border=\"1\" class=\"dataframe\">\n",
       "  <thead>\n",
       "    <tr style=\"text-align: right;\">\n",
       "      <th></th>\n",
       "      <th>mpg</th>\n",
       "      <th>cyl</th>\n",
       "      <th>disp</th>\n",
       "      <th>hp</th>\n",
       "      <th>drat</th>\n",
       "      <th>wt</th>\n",
       "      <th>qsec</th>\n",
       "      <th>vs</th>\n",
       "      <th>am</th>\n",
       "      <th>gear</th>\n",
       "      <th>carb</th>\n",
       "    </tr>\n",
       "  </thead>\n",
       "  <tbody>\n",
       "    <tr>\n",
       "      <th>Mazda RX4</th>\n",
       "      <td>21.0</td>\n",
       "      <td>6</td>\n",
       "      <td>160</td>\n",
       "      <td>110</td>\n",
       "      <td>3.90</td>\n",
       "      <td>2.620</td>\n",
       "      <td>16.46</td>\n",
       "      <td>0</td>\n",
       "      <td>1</td>\n",
       "      <td>4</td>\n",
       "      <td>4</td>\n",
       "    </tr>\n",
       "    <tr>\n",
       "      <th>Mazda RX4 Wag</th>\n",
       "      <td>21.0</td>\n",
       "      <td>6</td>\n",
       "      <td>160</td>\n",
       "      <td>110</td>\n",
       "      <td>3.90</td>\n",
       "      <td>2.875</td>\n",
       "      <td>17.02</td>\n",
       "      <td>0</td>\n",
       "      <td>1</td>\n",
       "      <td>4</td>\n",
       "      <td>4</td>\n",
       "    </tr>\n",
       "    <tr>\n",
       "      <th>Datsun 710</th>\n",
       "      <td>22.8</td>\n",
       "      <td>4</td>\n",
       "      <td>108</td>\n",
       "      <td>93</td>\n",
       "      <td>3.85</td>\n",
       "      <td>2.320</td>\n",
       "      <td>18.61</td>\n",
       "      <td>1</td>\n",
       "      <td>1</td>\n",
       "      <td>4</td>\n",
       "      <td>1</td>\n",
       "    </tr>\n",
       "  </tbody>\n",
       "</table>\n",
       "</div>"
      ],
      "text/plain": [
       "                mpg  cyl  disp   hp  drat     wt   qsec  vs  am  gear  carb\n",
       "Mazda RX4      21.0    6   160  110  3.90  2.620  16.46   0   1     4     4\n",
       "Mazda RX4 Wag  21.0    6   160  110  3.90  2.875  17.02   0   1     4     4\n",
       "Datsun 710     22.8    4   108   93  3.85  2.320  18.61   1   1     4     1"
      ]
     },
     "execution_count": 43,
     "metadata": {},
     "output_type": "execute_result"
    }
   ],
   "source": [
    "mtcars.head(n=3)"
   ]
  },
  {
   "cell_type": "markdown",
   "metadata": {},
   "source": [
    "#### We can also pass data from Ptyhon to R"
   ]
  },
  {
   "cell_type": "code",
   "execution_count": 44,
   "metadata": {
    "collapsed": true
   },
   "outputs": [],
   "source": [
    "x = np.linspace(0, 2*np.pi, 100)\n",
    "y = np.sin(x)"
   ]
  },
  {
   "cell_type": "code",
   "execution_count": 45,
   "metadata": {
    "collapsed": false
   },
   "outputs": [
    {
     "data": {
      "image/png": "[encoded data removed]"
     },
     "metadata": {},
     "output_type": "display_data"
    }
   ],
   "source": [
    "%%R -i x,y\n",
    "plot(x, y, main=\"Sine curve in R base graphics\")"
   ]
  },
  {
   "cell_type": "code",
   "execution_count": null,
   "metadata": {
    "collapsed": true
   },
   "outputs": [],
   "source": []
  }
 ],
 "metadata": {
  "kernelspec": {
   "display_name": "Python 3",
   "language": "python",
   "name": "python3"
  },
  "language_info": {
   "codemirror_mode": {
    "name": "ipython",
    "version": 3
   },
   "file_extension": ".py",
   "mimetype": "text/x-python",
   "name": "python",
   "nbconvert_exporter": "python",
   "pygments_lexer": "ipython3",
   "version": "3.4.4"
  }
 },
 "nbformat": 4,
 "nbformat_minor": 0
}
