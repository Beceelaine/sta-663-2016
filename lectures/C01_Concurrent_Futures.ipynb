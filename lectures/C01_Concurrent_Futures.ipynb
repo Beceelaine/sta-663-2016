{
 "cells": [
  {
   "cell_type": "markdown",
   "metadata": {},
   "source": [
    "The `concurrent.futures` module\n",
    "----\n",
    "\n",
    "Concurrent processes are processes that will return the same results regardless of the order in which they were executed. A \"future\" is something that will return a result sometime in the future.  The `concurrent.futures` module provides an event handler, which can be fed functions to be scheduled for future execution. This provides us with a simple model for parallel execution on a multi-core machine.\n",
    "\n",
    "While concurrent futures provide a simpler interface, it is slower and less flexible when compared with using `multiprocessing` for parallel execution."
   ]
  },
  {
   "cell_type": "code",
   "execution_count": 1,
   "metadata": {
    "collapsed": true
   },
   "outputs": [],
   "source": [
    "from concurrent.futures import ThreadPoolExecutor, ProcessPoolExecutor"
   ]
  },
  {
   "cell_type": "code",
   "execution_count": 3,
   "metadata": {
    "collapsed": true
   },
   "outputs": [],
   "source": [
    "import time"
   ]
  },
  {
   "cell_type": "markdown",
   "metadata": {},
   "source": [
    "### Functions that the concurrent workers witll execute"
   ]
  },
  {
   "cell_type": "code",
   "execution_count": 2,
   "metadata": {
    "collapsed": true
   },
   "outputs": [],
   "source": [
    "def f1(a):\n",
    "    return a\n",
    "\n",
    "def f2(a, b):\n",
    "    time.sleep(np.random.uniform(1, 3))\n",
    "    return a + b"
   ]
  },
  {
   "cell_type": "markdown",
   "metadata": {},
   "source": [
    "### Using ThreadPoolExecutor"
   ]
  },
  {
   "cell_type": "code",
   "execution_count": 4,
   "metadata": {
    "collapsed": false
   },
   "outputs": [
    {
     "name": "stdout",
     "output_type": "stream",
     "text": [
      "a running: True\n",
      "a done: False\n",
      "b running: False\n",
      "b done: False\n",
      "c running: False\n",
      "c done: False\n",
      "a result 2\n",
      "b result 3\n",
      "c result 10\n"
     ]
    }
   ],
   "source": [
    "with ProcessPoolExecutor(max_workers=4) as pool:\n",
    "    a = pool.submit(f2, 1, 1)\n",
    "    b = pool.submit(f2, 1,2)\n",
    "    c = pool.submit(f1, 10)    \n",
    "\n",
    "    print('a running:', a.running())\n",
    "    print('a done:', a.done())\n",
    "\n",
    "    print('b running:', b.running())\n",
    "    print('b done:', b.done())\n",
    "\n",
    "    print('c running:', c.running())\n",
    "    print('c done:', c.done())\n",
    "\n",
    "    print('a result', a.result())\n",
    "    print('b result', b.result())\n",
    "    print('c result', c.result())"
   ]
  },
  {
   "cell_type": "markdown",
   "metadata": {},
   "source": [
    "### Cancelling jobs and adding callbacks"
   ]
  },
  {
   "cell_type": "code",
   "execution_count": 109,
   "metadata": {
    "collapsed": false
   },
   "outputs": [
    {
     "name": "stdout",
     "output_type": "stream",
     "text": [
      "Process done!\n",
      "Process 4 cancelled\n",
      "Running\n",
      "Running\n",
      "Process done!\n",
      "1.02122163695\n",
      "Running\n",
      "Process done!\n",
      "0.818612111779\n",
      "0.630156341875\n",
      "0.554480838967\n",
      "Running\n",
      "Running\n",
      "Process done!\n",
      "1.08430234507\n",
      "1.26300606548\n",
      "1.40121410958\n",
      "Running\n",
      "Process done!\n",
      "Process done!\n",
      "1.59545883957\n",
      "Running\n",
      "Running\n",
      "0.880369459559\n",
      "0.765422161684\n",
      "1.01003602635\n",
      "Running\n",
      "Process done!\n",
      "Process done!\n",
      "1.57588563093\n",
      "1.60058840092\n",
      "1.52164884486\n",
      "Running\n",
      "Process done!\n",
      "1.66773104245\n",
      "Running\n",
      "Process done!\n",
      "Process done!\n",
      "1.20410753922\n",
      "0.864620207314\n",
      "0.149761417977\n",
      "Running\n",
      "1.41591996706\n",
      "1.2745396651\n",
      "Running\n",
      "Process done!\n",
      "0.27440516728\n",
      "0.613841815446\n",
      "Running\n",
      "0.926824352048\n"
     ]
    }
   ],
   "source": [
    "njobs = 24\n",
    "\n",
    "res = []\n",
    "\n",
    "with ProcessPoolExecutor(max_workers=4) as pool:\n",
    "\n",
    "    for i in range(njobs):\n",
    "        res.append(pool.submit(f2, *np.random.rand(2)))\n",
    "        if i % 2 == 0:\n",
    "            res[i].add_done_callback(lambda future: print(\"Process done!\"))\n",
    "    res[4].cancel()\n",
    "    if res[4].cancelled():\n",
    "        print(\"Process 4 cancelled\")\n",
    "\n",
    "    for i, x in enumerate(res):\n",
    "        while x.running():\n",
    "            print(\"Running\")\n",
    "            time.sleep(1)\n",
    "        if not x.cancelled():\n",
    "            print(x.result())"
   ]
  },
  {
   "cell_type": "markdown",
   "metadata": {},
   "source": [
    "### Using ProcessPoolExecutor with map\n",
    "\n",
    "Unlike threads, processes are not subject to the Global Interprer Lock and should be used for parllel tasks that are CPU-bound rather than I/O-bound. The interface for ProcessPoolExecutor is identitcal to that of ThreadPoolExecutor."
   ]
  },
  {
   "cell_type": "code",
   "execution_count": 101,
   "metadata": {
    "collapsed": true
   },
   "outputs": [],
   "source": [
    "xs = np.ones(24)"
   ]
  },
  {
   "cell_type": "markdown",
   "metadata": {},
   "source": [
    "#### Trick to use map with function that expects multiple arguments"
   ]
  },
  {
   "cell_type": "code",
   "execution_count": null,
   "metadata": {
    "collapsed": true
   },
   "outputs": [],
   "source": [
    "def f2_(args):\n",
    "    return f2(*args)"
   ]
  },
  {
   "cell_type": "code",
   "execution_count": 81,
   "metadata": {
    "collapsed": false
   },
   "outputs": [
    {
     "data": {
      "text/plain": [
       "[2.0, 2.0, 2.0, 2.0, 2.0, 2.0, 2.0, 2.0, 2.0, 2.0, 2.0, 2.0]"
      ]
     },
     "execution_count": 81,
     "metadata": {},
     "output_type": "execute_result"
    }
   ],
   "source": [
    "with ProcessPoolExecutor(max_workers=4) as pool:\n",
    "    res = pool.map(f2_, np.array_split(xs, xs.shape[0]//2))\n",
    "list(res)"
   ]
  },
  {
   "cell_type": "code",
   "execution_count": null,
   "metadata": {
    "collapsed": true
   },
   "outputs": [],
   "source": []
  }
 ],
 "metadata": {
  "kernelspec": {
   "display_name": "Python 3",
   "language": "python",
   "name": "python3"
  },
  "language_info": {
   "codemirror_mode": {
    "name": "ipython",
    "version": 3
   },
   "file_extension": ".py",
   "mimetype": "text/x-python",
   "name": "python",
   "nbconvert_exporter": "python",
   "pygments_lexer": "ipython3",
   "version": "3.5.1"
  }
 },
 "nbformat": 4,
 "nbformat_minor": 0
}
