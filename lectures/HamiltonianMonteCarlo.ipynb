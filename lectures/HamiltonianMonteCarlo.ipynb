{
 "cells": [
  {
   "cell_type": "markdown",
   "metadata": {},
   "source": [
    "Hamiltonian Monte Carlo (HMC)\n",
    "====\n",
    "\n",
    "HMC uses an auxiliary variable corresponding to the momentum of particles in a potential energy well to generate proposal distributions that can make use of gradient information in the posterior distribution. For reversibility to be maintained, the total energy of the particle has to be conserved - hence we are interested in Hamiltonian systems. The main attraction of HMC is that it works much better than other methods when variables of interest are highly correlated. Because we have to solve problems involving momentum, we need to understand how to numerically solve differential equations in a way that is both accurate (i.e. second order) and preserves total energy (necessary for a Hamiltonian system)."
   ]
  },
  {
   "cell_type": "markdown",
   "metadata": {},
   "source": [
    "## A simple Hamiltonian system\n",
    "\n",
    "We will consider solving a classical Hamiltonian system - that of a undamped spring governed by the second order differential equation\n",
    "\n",
    "$$\n",
    "u'' + u = 0\n",
    "$$\n",
    "\n",
    "We convert this to two first order ODEs by using a dummy variable $u' = v$ to get\n",
    "\n",
    "$$\n",
    "\\begin{align}\n",
    "u' &= v \\\\\n",
    "v' &= -u\n",
    "\\end{align}\n",
    "$$\n",
    "\n",
    "Writing in matrix form,\n",
    "\n",
    "$$\n",
    "A = \\pmatrix{ u' \\\\ v' } = \\pmatrix{0 & 1 \\\\ -1 & 0}\n",
    "$$\n",
    "\n",
    "and in general, for the state vector $u$,\n",
    "\n",
    "$$\n",
    "u' = Au\n",
    "$$\n",
    "\n",
    "We note that $A$ is anti- or skew-symmetric ($A^T = -A$), and hence has purely imaginary eigenvalues. Solving $|A - \\lambda I = 0$, we see that the eigenvalues and eigenvectors are $i, \\pmatrix{1\\\\i}$ and $-i, \\pmatrix{1\\\\-i}$. Since the eigenvalues are pure imaginary, we see that the solution for the initial conditions $(u,v) = (1, 0)$ is $u(t) = e^{it}$ and the orbit just goes around a circle with a period of $2\\pi$, neither growing nor decaying. "
   ]
  },
  {
   "cell_type": "markdown",
   "metadata": {},
   "source": [
    "## Finite difference methods\n",
    "\n",
    "We want to find a finite difference approximation to $u' = Au$ that is **accurate** and **preserves total energy**. If total energy is not preserved, the orbit will either spiral in towards zero or outwards away from the unit circle. If the accuracy is poor, the orbit will not be close to its starting value after $t = 2\\pi$. This gives us an easy way to visualize how good our numerical scheme is. We can also compare the numerical scheme to the Taylor series to evaluate its accuracy."
   ]
  },
  {
   "cell_type": "markdown",
   "metadata": {},
   "source": [
    "### Forward Euler\n",
    "\n",
    "The simplest finite difference scheme for integrating ODEs is the forward Euler\n",
    "\n",
    "$$\n",
    "\\frac{u_{n+1} - u_n}{\\Delta t} = A u_n\n",
    "$$\n",
    "\n",
    "Rearranging terms, we get\n",
    "\n",
    "$$\n",
    "u_{n+1} = u_n + \\Delta t A u_n = \\left( I + \\Delta t A \\right) u_n\n",
    "$$\n",
    "\n",
    "Since the eigenvalues of $A$ are $\\pm i$, we see that the eigenvalues of the forward Euler matrix are $1 \\pm i$. Since the absolute value of the eigenvalues is greater than 1, we expect **growing** solutions - i.e. the solution will spiral away from the unit circle."
   ]
  },
  {
   "cell_type": "code",
   "execution_count": 1,
   "metadata": {
    "collapsed": true
   },
   "outputs": [],
   "source": [
    "import scipy.linalg as la"
   ]
  },
  {
   "cell_type": "code",
   "execution_count": 2,
   "metadata": {
    "collapsed": false
   },
   "outputs": [],
   "source": [
    "def f_euler(A, u, N):\n",
    "    orbit = np.zeros((N,2))\n",
    "\n",
    "    for i in range(N):\n",
    "        dt = 2*np.pi/N\n",
    "        u = u + dt * A @ u\n",
    "        orbit[i] = u\n",
    "    return orbit"
   ]
  },
  {
   "cell_type": "code",
   "execution_count": 3,
   "metadata": {
    "collapsed": false
   },
   "outputs": [],
   "source": [
    "A = np.array([[0,1],[-1,0]])\n",
    "u = np.array([1.0,0.0])\n",
    "N = 64\n",
    "orbit = f_euler(A, u, N)"
   ]
  },
  {
   "cell_type": "markdown",
   "metadata": {},
   "source": [
    "#### Accuracy"
   ]
  },
  {
   "cell_type": "code",
   "execution_count": 5,
   "metadata": {
    "collapsed": false
   },
   "outputs": [
    {
     "data": {
      "text/plain": [
       "0.3600318484671193"
      ]
     },
     "execution_count": 5,
     "metadata": {},
     "output_type": "execute_result"
    }
   ],
   "source": [
    "la.norm(np.array([1.0,0.0]) - orbit[-1])"
   ]
  },
  {
   "cell_type": "markdown",
   "metadata": {},
   "source": [
    "#### Conservation of energy"
   ]
  },
  {
   "cell_type": "code",
   "execution_count": 7,
   "metadata": {
    "collapsed": false
   },
   "outputs": [
    {
     "data": {
      "image/png": "[encoded data removed]",
      "text/plain": [
       "<matplotlib.figure.Figure at 0x103ea2be0>"
      ]
     },
     "metadata": {},
     "output_type": "display_data"
    }
   ],
   "source": [
    "ax = plt.subplot(111)\n",
    "plt.plot(orbit[:, 0], orbit[:,1], 'o')\n",
    "ax.axis('square')\n",
    "plt.axis([-1.5, 1.5, -1.5, 1.5])\n",
    "pass"
   ]
  },
  {
   "cell_type": "markdown",
   "metadata": {},
   "source": [
    "#### Accuracy and conservation of energy\n",
    "\n",
    "We can see that forward Euler is not very accurate and also does not preserve energy since the orbit spirals away from the unit circle."
   ]
  },
  {
   "cell_type": "markdown",
   "metadata": {},
   "source": [
    "### The trapezoidal method\n",
    "\n",
    "The trapezoidal method uses the following scheme\n",
    "\n",
    "$$\n",
    "\\frac{u_{n+1} - u_n}{\\Delta t} = \\frac{1}{2}  ( A u_{n+1} + A u_{n})\n",
    "$$\n",
    "\n",
    "This is an implicit scheme (because $u_{n+1}$ appears on the RHS) whose solution is\n",
    "\n",
    "$$\n",
    "u_{n+1} = \\left(I - \\frac{\\Delta t}{2} A \\right)^{-1} \\left(I + \\frac{\\Delta t}{2} A \\right) u_{n} = B u_n\n",
    "$$\n",
    "\n",
    "By inspection, we see that the eigenvalues are the complex conjugates of\n",
    "\n",
    "$$\n",
    "\\frac{1 + \\frac{\\Delta t}{2} i}{1 - \\frac{\\Delta t}{2} i}\n",
    "$$\n",
    "\n",
    "whose absolute value is 1 - hence, energy is conserved. If we expand the matrix $B$ using the geometric series and compare with the Taylor expansion, we see that the trapezoidal method has local truncation error $O(h^3)$ and hence accuracy $O(h^2)$, where $h$ is the time step."
   ]
  },
  {
   "cell_type": "code",
   "execution_count": 8,
   "metadata": {
    "collapsed": false
   },
   "outputs": [],
   "source": [
    "def trapezoidal(A, u, N):\n",
    "    orbit = np.zeros((N,2))\n",
    "\n",
    "    for i in range(N):\n",
    "        dt = 2*np.pi/N\n",
    "        u = la.inv(np.eye(2) - dt/2 * A) @ (np.eye(2) + dt/2 * A) @ u\n",
    "        orbit[i] = u\n",
    "    return orbit"
   ]
  },
  {
   "cell_type": "code",
   "execution_count": 9,
   "metadata": {
    "collapsed": true
   },
   "outputs": [],
   "source": [
    "A = np.array([[0,1],[-1,0]])\n",
    "u = np.array([1.0,0.0])\n",
    "N = 64\n",
    "orbit = trapezoidal(A, u, N)"
   ]
  },
  {
   "cell_type": "markdown",
   "metadata": {},
   "source": [
    "#### Accuracy"
   ]
  },
  {
   "cell_type": "code",
   "execution_count": 11,
   "metadata": {
    "collapsed": false
   },
   "outputs": [
    {
     "data": {
      "text/plain": [
       "0.005039305635733781"
      ]
     },
     "execution_count": 11,
     "metadata": {},
     "output_type": "execute_result"
    }
   ],
   "source": [
    "la.norm(np.array([1.0,0.0]) - orbit[-1])"
   ]
  },
  {
   "cell_type": "markdown",
   "metadata": {},
   "source": [
    "#### Conservation of energy"
   ]
  },
  {
   "cell_type": "code",
   "execution_count": 13,
   "metadata": {
    "collapsed": false
   },
   "outputs": [
    {
     "data": {
      "image/png": "[encoded data removed]",
      "text/plain": [
       "<matplotlib.figure.Figure at 0x10eece048>"
      ]
     },
     "metadata": {},
     "output_type": "display_data"
    }
   ],
   "source": [
    "ax = plt.subplot(111)\n",
    "plt.plot(orbit[:, 0], orbit[:,1], 'o')\n",
    "ax.axis('square')\n",
    "plt.axis([-1.5, 1.5, -1.5, 1.5])\n",
    "pass"
   ]
  },
  {
   "cell_type": "markdown",
   "metadata": {},
   "source": [
    "### The leapfrog method\n",
    "\n",
    "The leapfrog method uses a second order difference to update $u_n$. The algorithm simplifies to the following explicit scheme:\n",
    "\n",
    "- First take one half-step for u\n",
    "- Then take a full step for v\n",
    "- Then take one final half step for u\n",
    "\n",
    "It performs as well as the trapezoidal method, with the advantage of being an explicit scheme and cheaper to calculate, so the leapfrog method is used in HMC."
   ]
  },
  {
   "cell_type": "code",
   "execution_count": 14,
   "metadata": {
    "collapsed": false
   },
   "outputs": [],
   "source": [
    "def leapfrog(A, u, N):\n",
    "    orbit = np.zeros((N,2))\n",
    "\n",
    "    for i in range(N):\n",
    "        dt = 2*np.pi/N\n",
    "        u[1] = u[1] + dt/2 * A[1] @ u\n",
    "        u[0] = u[0] + dt * A[0] @ u\n",
    "        u[1] = u[1] + dt/2 * A[1] @ u\n",
    "        orbit[i] = u\n",
    "    return orbit"
   ]
  },
  {
   "cell_type": "code",
   "execution_count": 15,
   "metadata": {
    "collapsed": false
   },
   "outputs": [],
   "source": [
    "A = np.array([[0,1],[-1,0]])\n",
    "u = np.array([1.0,0.0])\n",
    "N = 64\n",
    "orbit = leapfrog(A, u, N)"
   ]
  },
  {
   "cell_type": "markdown",
   "metadata": {},
   "source": [
    "#### Accuracy"
   ]
  },
  {
   "cell_type": "code",
   "execution_count": 16,
   "metadata": {
    "collapsed": false
   },
   "outputs": [
    {
     "data": {
      "text/plain": [
       "0.0025229913808033464"
      ]
     },
     "execution_count": 16,
     "metadata": {},
     "output_type": "execute_result"
    }
   ],
   "source": [
    "la.norm(np.array([1.0,0.0]) - orbit[-1])"
   ]
  },
  {
   "cell_type": "markdown",
   "metadata": {},
   "source": [
    "#### Conservation of energy"
   ]
  },
  {
   "cell_type": "code",
   "execution_count": 17,
   "metadata": {
    "collapsed": false
   },
   "outputs": [
    {
     "data": {
      "image/png": "[encoded data removed]",
      "text/plain": [
       "<matplotlib.figure.Figure at 0x10ef81240>"
      ]
     },
     "metadata": {},
     "output_type": "display_data"
    }
   ],
   "source": [
    "ax = plt.subplot(111)\n",
    "plt.plot(orbit[:, 0], orbit[:,1], 'o')\n",
    "ax.axis('square')\n",
    "plt.axis([-1.5, 1.5, -1.5, 1.5])\n",
    "pass"
   ]
  },
  {
   "cell_type": "code",
   "execution_count": null,
   "metadata": {
    "collapsed": true
   },
   "outputs": [],
   "source": []
  }
 ],
 "metadata": {
  "kernelspec": {
   "display_name": "Python 3",
   "language": "python",
   "name": "python3"
  },
  "language_info": {
   "codemirror_mode": {
    "name": "ipython",
    "version": 3
   },
   "file_extension": ".py",
   "mimetype": "text/x-python",
   "name": "python",
   "nbconvert_exporter": "python",
   "pygments_lexer": "ipython3",
   "version": "3.5.1"
  }
 },
 "nbformat": 4,
 "nbformat_minor": 0
}
